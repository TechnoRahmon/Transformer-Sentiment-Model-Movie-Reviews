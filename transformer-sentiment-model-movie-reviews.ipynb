{
 "cells": [
  {
   "cell_type": "code",
   "execution_count": 1,
   "id": "c0c3789b",
   "metadata": {
    "_cell_guid": "b1076dfc-b9ad-4769-8c92-a6c4dae69d19",
    "_uuid": "8f2839f25d086af736a60e9eeb907d3b93b6e0e5",
    "execution": {
     "iopub.execute_input": "2023-12-24T16:51:09.520476Z",
     "iopub.status.busy": "2023-12-24T16:51:09.519731Z",
     "iopub.status.idle": "2023-12-24T16:51:11.347041Z",
     "shell.execute_reply": "2023-12-24T16:51:11.345888Z"
    },
    "papermill": {
     "duration": 1.857279,
     "end_time": "2023-12-24T16:51:11.349219",
     "exception": false,
     "start_time": "2023-12-24T16:51:09.491940",
     "status": "completed"
    },
    "tags": []
   },
   "outputs": [
    {
     "name": "stderr",
     "output_type": "stream",
     "text": [
      "/opt/conda/lib/python3.10/site-packages/scipy/__init__.py:146: UserWarning: A NumPy version >=1.16.5 and <1.23.0 is required for this version of SciPy (detected version 1.24.3\n",
      "  warnings.warn(f\"A NumPy version >={np_minversion} and <{np_maxversion}\"\n"
     ]
    },
    {
     "name": "stdout",
     "output_type": "stream",
     "text": [
      "/kaggle/input/dejavusans-bold/DejaVuSans-Bold.ttf\n",
      "/kaggle/input/sentiment-analysis-on-movie-reviews/sampleSubmission.csv\n",
      "/kaggle/input/sentiment-analysis-on-movie-reviews/train.tsv.zip\n",
      "/kaggle/input/sentiment-analysis-on-movie-reviews/test.tsv.zip\n"
     ]
    }
   ],
   "source": [
    "# This Python 3 environment comes with many helpful analytics libraries installed\n",
    "# It is defined by the kaggle/python Docker image: https://github.com/kaggle/docker-python\n",
    "# For example, here's several helpful packages to load\n",
    "\n",
    "import numpy as np # linear algebra\n",
    "import pandas as pd # data processing, CSV file I/O (e.g. pd.read_csv)\n",
    "import matplotlib.pyplot as plt\n",
    "import zipfile\n",
    "import seaborn as sns\n",
    "from wordcloud import WordCloud\n",
    "from collections import Counter\n",
    "# Input data files are available in the read-only \"../input/\" directory\n",
    "# For example, running this (by clicking run or pressing Shift+Enter) will list all files under the input directory\n",
    "\n",
    "import os\n",
    "for dirname, _, filenames in os.walk('/kaggle/input'):\n",
    "    for filename in filenames:\n",
    "        print(os.path.join(dirname, filename))\n",
    "\n",
    "# You can write up to 20GB to the current directory (/kaggle/working/) that gets preserved as output when you create a version using \"Save & Run All\" \n",
    "# You can also write temporary files to /kaggle/temp/, but they won't be saved outside of the current session"
   ]
  },
  {
   "cell_type": "code",
   "execution_count": 2,
   "id": "21a78563",
   "metadata": {
    "execution": {
     "iopub.execute_input": "2023-12-24T16:51:11.401162Z",
     "iopub.status.busy": "2023-12-24T16:51:11.400747Z",
     "iopub.status.idle": "2023-12-24T16:51:11.404811Z",
     "shell.execute_reply": "2023-12-24T16:51:11.403860Z"
    },
    "papermill": {
     "duration": 0.03167,
     "end_time": "2023-12-24T16:51:11.407017",
     "exception": false,
     "start_time": "2023-12-24T16:51:11.375347",
     "status": "completed"
    },
    "tags": []
   },
   "outputs": [],
   "source": [
    "dataset_path = \"/kaggle/working/\"\n",
    "font = \"/kaggle/input/dejavusans/DejaVuSans-Bold.ttf\""
   ]
  },
  {
   "cell_type": "markdown",
   "id": "b34d974a",
   "metadata": {
    "papermill": {
     "duration": 0.024175,
     "end_time": "2023-12-24T16:51:11.456488",
     "exception": false,
     "start_time": "2023-12-24T16:51:11.432313",
     "status": "completed"
    },
    "tags": []
   },
   "source": [
    "## Extract zip files"
   ]
  },
  {
   "cell_type": "code",
   "execution_count": 3,
   "id": "03b7366a",
   "metadata": {
    "execution": {
     "iopub.execute_input": "2023-12-24T16:51:11.507254Z",
     "iopub.status.busy": "2023-12-24T16:51:11.506658Z",
     "iopub.status.idle": "2023-12-24T16:51:11.510939Z",
     "shell.execute_reply": "2023-12-24T16:51:11.510159Z"
    },
    "papermill": {
     "duration": 0.032164,
     "end_time": "2023-12-24T16:51:11.512642",
     "exception": false,
     "start_time": "2023-12-24T16:51:11.480478",
     "status": "completed"
    },
    "tags": []
   },
   "outputs": [],
   "source": [
    "def extract_file(path):\n",
    "    with zipfile.ZipFile(path,'r') as zipref:\n",
    "        zipref.extractall('./data')"
   ]
  },
  {
   "cell_type": "code",
   "execution_count": 4,
   "id": "3d75abfe",
   "metadata": {
    "execution": {
     "iopub.execute_input": "2023-12-24T16:51:11.601943Z",
     "iopub.status.busy": "2023-12-24T16:51:11.601244Z",
     "iopub.status.idle": "2023-12-24T16:51:11.690723Z",
     "shell.execute_reply": "2023-12-24T16:51:11.689995Z"
    },
    "papermill": {
     "duration": 0.156323,
     "end_time": "2023-12-24T16:51:11.692858",
     "exception": false,
     "start_time": "2023-12-24T16:51:11.536535",
     "status": "completed"
    },
    "tags": []
   },
   "outputs": [],
   "source": [
    "paths = [\n",
    "    '/kaggle/input/sentiment-analysis-on-movie-reviews/train.tsv.zip',\n",
    "    '/kaggle/input/sentiment-analysis-on-movie-reviews/test.tsv.zip', \n",
    "]\n",
    "_ = [extract_file(path) for path in paths]"
   ]
  },
  {
   "cell_type": "markdown",
   "id": "c0039f1b",
   "metadata": {
    "papermill": {
     "duration": 0.023906,
     "end_time": "2023-12-24T16:51:11.741614",
     "exception": false,
     "start_time": "2023-12-24T16:51:11.717708",
     "status": "completed"
    },
    "tags": []
   },
   "source": [
    "# Explore Data"
   ]
  },
  {
   "cell_type": "code",
   "execution_count": 5,
   "id": "73dfce29",
   "metadata": {
    "execution": {
     "iopub.execute_input": "2023-12-24T16:51:11.791101Z",
     "iopub.status.busy": "2023-12-24T16:51:11.790512Z",
     "iopub.status.idle": "2023-12-24T16:51:11.992417Z",
     "shell.execute_reply": "2023-12-24T16:51:11.991469Z"
    },
    "papermill": {
     "duration": 0.228907,
     "end_time": "2023-12-24T16:51:11.994413",
     "exception": false,
     "start_time": "2023-12-24T16:51:11.765506",
     "status": "completed"
    },
    "tags": []
   },
   "outputs": [
    {
     "data": {
      "text/html": [
       "<div>\n",
       "<style scoped>\n",
       "    .dataframe tbody tr th:only-of-type {\n",
       "        vertical-align: middle;\n",
       "    }\n",
       "\n",
       "    .dataframe tbody tr th {\n",
       "        vertical-align: top;\n",
       "    }\n",
       "\n",
       "    .dataframe thead th {\n",
       "        text-align: right;\n",
       "    }\n",
       "</style>\n",
       "<table border=\"1\" class=\"dataframe\">\n",
       "  <thead>\n",
       "    <tr style=\"text-align: right;\">\n",
       "      <th></th>\n",
       "      <th>PhraseId</th>\n",
       "      <th>SentenceId</th>\n",
       "      <th>Phrase</th>\n",
       "      <th>Sentiment</th>\n",
       "    </tr>\n",
       "  </thead>\n",
       "  <tbody>\n",
       "    <tr>\n",
       "      <th>0</th>\n",
       "      <td>1</td>\n",
       "      <td>1</td>\n",
       "      <td>A series of escapades demonstrating the adage ...</td>\n",
       "      <td>1</td>\n",
       "    </tr>\n",
       "    <tr>\n",
       "      <th>1</th>\n",
       "      <td>2</td>\n",
       "      <td>1</td>\n",
       "      <td>A series of escapades demonstrating the adage ...</td>\n",
       "      <td>2</td>\n",
       "    </tr>\n",
       "    <tr>\n",
       "      <th>2</th>\n",
       "      <td>3</td>\n",
       "      <td>1</td>\n",
       "      <td>A series</td>\n",
       "      <td>2</td>\n",
       "    </tr>\n",
       "    <tr>\n",
       "      <th>3</th>\n",
       "      <td>4</td>\n",
       "      <td>1</td>\n",
       "      <td>A</td>\n",
       "      <td>2</td>\n",
       "    </tr>\n",
       "    <tr>\n",
       "      <th>4</th>\n",
       "      <td>5</td>\n",
       "      <td>1</td>\n",
       "      <td>series</td>\n",
       "      <td>2</td>\n",
       "    </tr>\n",
       "  </tbody>\n",
       "</table>\n",
       "</div>"
      ],
      "text/plain": [
       "   PhraseId  SentenceId                                             Phrase  \\\n",
       "0         1           1  A series of escapades demonstrating the adage ...   \n",
       "1         2           1  A series of escapades demonstrating the adage ...   \n",
       "2         3           1                                           A series   \n",
       "3         4           1                                                  A   \n",
       "4         5           1                                             series   \n",
       "\n",
       "   Sentiment  \n",
       "0          1  \n",
       "1          2  \n",
       "2          2  \n",
       "3          2  \n",
       "4          2  "
      ]
     },
     "execution_count": 5,
     "metadata": {},
     "output_type": "execute_result"
    }
   ],
   "source": [
    "df = pd.read_csv('./data/train.tsv', sep='\\t')\n",
    "df.head()"
   ]
  },
  {
   "cell_type": "markdown",
   "id": "801e67ac",
   "metadata": {
    "papermill": {
     "duration": 0.025366,
     "end_time": "2023-12-24T16:51:12.046225",
     "exception": false,
     "start_time": "2023-12-24T16:51:12.020859",
     "status": "completed"
    },
    "tags": []
   },
   "source": [
    "**The sentiment labels are:**\n",
    "* 0 - negative\n",
    "* 1 - somewhat negative\n",
    "* 2 - neutral\n",
    "* 3 - somewhat positive\n",
    "* 4 - positive"
   ]
  },
  {
   "cell_type": "code",
   "execution_count": 6,
   "id": "726fa680",
   "metadata": {
    "execution": {
     "iopub.execute_input": "2023-12-24T16:51:12.098352Z",
     "iopub.status.busy": "2023-12-24T16:51:12.098057Z",
     "iopub.status.idle": "2023-12-24T16:51:12.108511Z",
     "shell.execute_reply": "2023-12-24T16:51:12.107608Z"
    },
    "papermill": {
     "duration": 0.038422,
     "end_time": "2023-12-24T16:51:12.110345",
     "exception": false,
     "start_time": "2023-12-24T16:51:12.071923",
     "status": "completed"
    },
    "tags": []
   },
   "outputs": [
    {
     "data": {
      "text/plain": [
       "array([1, 2, 3, 4, 0])"
      ]
     },
     "execution_count": 6,
     "metadata": {},
     "output_type": "execute_result"
    }
   ],
   "source": [
    "df['Sentiment'].unique()"
   ]
  },
  {
   "cell_type": "markdown",
   "id": "2d1f933b",
   "metadata": {
    "papermill": {
     "duration": 0.024145,
     "end_time": "2023-12-24T16:51:12.159208",
     "exception": false,
     "start_time": "2023-12-24T16:51:12.135063",
     "status": "completed"
    },
    "tags": []
   },
   "source": [
    "## Distribution sentiment classes"
   ]
  },
  {
   "cell_type": "markdown",
   "id": "8d3dffab",
   "metadata": {
    "papermill": {
     "duration": 0.024428,
     "end_time": "2023-12-24T16:51:12.207888",
     "exception": false,
     "start_time": "2023-12-24T16:51:12.183460",
     "status": "completed"
    },
    "tags": []
   },
   "source": [
    "### Plot handlers"
   ]
  },
  {
   "cell_type": "code",
   "execution_count": 7,
   "id": "89d73890",
   "metadata": {
    "execution": {
     "iopub.execute_input": "2023-12-24T16:51:12.258090Z",
     "iopub.status.busy": "2023-12-24T16:51:12.257783Z",
     "iopub.status.idle": "2023-12-24T16:51:12.262589Z",
     "shell.execute_reply": "2023-12-24T16:51:12.261760Z"
    },
    "papermill": {
     "duration": 0.032319,
     "end_time": "2023-12-24T16:51:12.264507",
     "exception": false,
     "start_time": "2023-12-24T16:51:12.232188",
     "status": "completed"
    },
    "tags": []
   },
   "outputs": [],
   "source": [
    "def shpw_distplot(_df, feature):\n",
    "    plt.figure(figsize=(8, 6))\n",
    "    sns.distplot(_df[feature], bins=10, kde=True)\n",
    "    plt.title(f'Distribution of {feature}')\n",
    "    plt.xlabel(feature)\n",
    "    plt.show()"
   ]
  },
  {
   "cell_type": "code",
   "execution_count": 8,
   "id": "114131a3",
   "metadata": {
    "execution": {
     "iopub.execute_input": "2023-12-24T16:51:12.315105Z",
     "iopub.status.busy": "2023-12-24T16:51:12.314559Z",
     "iopub.status.idle": "2023-12-24T16:51:12.319754Z",
     "shell.execute_reply": "2023-12-24T16:51:12.318982Z"
    },
    "papermill": {
     "duration": 0.032215,
     "end_time": "2023-12-24T16:51:12.321612",
     "exception": false,
     "start_time": "2023-12-24T16:51:12.289397",
     "status": "completed"
    },
    "tags": []
   },
   "outputs": [],
   "source": [
    "def generate_wordcloud(all_words, feature, label=\"Most used words in\"):\n",
    "    # Generate word cloud\n",
    "    wordcloud = WordCloud(width = 1000, height = 500, font_path=f'{font}/DejaVuSans-Bold.ttf').generate(' '.join(all_words))\n",
    "\n",
    "    # Plot word cloud\n",
    "    plt.figure(figsize=(15,8))\n",
    "    plt.imshow(wordcloud)\n",
    "    plt.title(f\"{label} {feature}\", size=16)\n",
    "    plt.axis(\"off\")\n",
    "    plt.show()"
   ]
  },
  {
   "cell_type": "code",
   "execution_count": 9,
   "id": "682b3c9d",
   "metadata": {
    "execution": {
     "iopub.execute_input": "2023-12-24T16:51:12.372911Z",
     "iopub.status.busy": "2023-12-24T16:51:12.372637Z",
     "iopub.status.idle": "2023-12-24T16:51:12.378888Z",
     "shell.execute_reply": "2023-12-24T16:51:12.378031Z"
    },
    "papermill": {
     "duration": 0.034208,
     "end_time": "2023-12-24T16:51:12.380773",
     "exception": false,
     "start_time": "2023-12-24T16:51:12.346565",
     "status": "completed"
    },
    "tags": []
   },
   "outputs": [],
   "source": [
    "def show_word_ferq(_df, feature, top_words=10):\n",
    "  # Get the top 10 most common words\n",
    "  words = ' '.join(_df[feature]).split()\n",
    "  word_counts = Counter(words)\n",
    "  top_words = word_counts.most_common(top_words)\n",
    "\n",
    "  # Separate the words and their counts\n",
    "  words, counts = zip(*top_words)\n",
    "\n",
    "  # Create the bar plot\n",
    "  fig, (ax1, ax2) = plt.subplots(2, 1, figsize=(16, 10), sharex=True)\n",
    "  ax1.bar(words, counts)\n",
    "  ax1.set_title(f\"{feature} Word Frequency\")\n",
    "\n",
    "  ax2.bar(words, np.log10(counts))\n",
    "  ax2.set_title(f\"{feature} Word Frequency (Log10 Adjusted)\")\n",
    "  plt.show()"
   ]
  },
  {
   "cell_type": "code",
   "execution_count": 10,
   "id": "87c0dc9f",
   "metadata": {
    "execution": {
     "iopub.execute_input": "2023-12-24T16:51:12.431682Z",
     "iopub.status.busy": "2023-12-24T16:51:12.431018Z",
     "iopub.status.idle": "2023-12-24T16:51:12.435155Z",
     "shell.execute_reply": "2023-12-24T16:51:12.434367Z"
    },
    "papermill": {
     "duration": 0.031528,
     "end_time": "2023-12-24T16:51:12.436946",
     "exception": false,
     "start_time": "2023-12-24T16:51:12.405418",
     "status": "completed"
    },
    "tags": []
   },
   "outputs": [],
   "source": [
    "def getAllWords(_df, feature):\n",
    "    return pd.Series(' '.join(str(_df[feature]).split()))"
   ]
  },
  {
   "cell_type": "code",
   "execution_count": 11,
   "id": "63a454fb",
   "metadata": {
    "execution": {
     "iopub.execute_input": "2023-12-24T16:51:12.487696Z",
     "iopub.status.busy": "2023-12-24T16:51:12.487099Z",
     "iopub.status.idle": "2023-12-24T16:51:12.492212Z",
     "shell.execute_reply": "2023-12-24T16:51:12.491508Z"
    },
    "papermill": {
     "duration": 0.032198,
     "end_time": "2023-12-24T16:51:12.493939",
     "exception": false,
     "start_time": "2023-12-24T16:51:12.461741",
     "status": "completed"
    },
    "tags": []
   },
   "outputs": [],
   "source": [
    "def show_sentiment_distribution(_df, feature):\n",
    "    # Count the occurrences of each unique sentiment category\n",
    "    sentiment_counts = _df[feature].value_counts()\n",
    "\n",
    "    # Create a pie chart\n",
    "    plt.figure(figsize=(8, 8))\n",
    "    plt.pie(sentiment_counts, labels=sentiment_counts.index, autopct='%1.1f%%', startangle=140)\n",
    "    plt.title('Sentiment Distribution')\n",
    "    plt.axis('equal')  # Equal aspect ratio ensures that pie is drawn as a circle.\n",
    "\n",
    "    # Show the pie chart\n",
    "    plt.show()"
   ]
  },
  {
   "cell_type": "markdown",
   "id": "e420393d",
   "metadata": {
    "papermill": {
     "duration": 0.024991,
     "end_time": "2023-12-24T16:51:12.543299",
     "exception": false,
     "start_time": "2023-12-24T16:51:12.518308",
     "status": "completed"
    },
    "tags": []
   },
   "source": [
    "**Distribution Plot for Sentiment**"
   ]
  },
  {
   "cell_type": "code",
   "execution_count": 12,
   "id": "755427a5",
   "metadata": {
    "execution": {
     "iopub.execute_input": "2023-12-24T16:51:12.597596Z",
     "iopub.status.busy": "2023-12-24T16:51:12.597221Z",
     "iopub.status.idle": "2023-12-24T16:51:12.601771Z",
     "shell.execute_reply": "2023-12-24T16:51:12.600762Z"
    },
    "papermill": {
     "duration": 0.035669,
     "end_time": "2023-12-24T16:51:12.604147",
     "exception": false,
     "start_time": "2023-12-24T16:51:12.568478",
     "status": "completed"
    },
    "tags": []
   },
   "outputs": [],
   "source": [
    "feature_target = 'Sentiment'"
   ]
  },
  {
   "cell_type": "code",
   "execution_count": 13,
   "id": "bc6bc01b",
   "metadata": {
    "execution": {
     "iopub.execute_input": "2023-12-24T16:51:12.665582Z",
     "iopub.status.busy": "2023-12-24T16:51:12.664998Z",
     "iopub.status.idle": "2023-12-24T16:51:17.467999Z",
     "shell.execute_reply": "2023-12-24T16:51:17.467008Z"
    },
    "papermill": {
     "duration": 4.833643,
     "end_time": "2023-12-24T16:51:17.471895",
     "exception": false,
     "start_time": "2023-12-24T16:51:12.638252",
     "status": "completed"
    },
    "tags": []
   },
   "outputs": [
    {
     "name": "stderr",
     "output_type": "stream",
     "text": [
      "/tmp/ipykernel_26/19030082.py:3: UserWarning: \n",
      "\n",
      "`distplot` is a deprecated function and will be removed in seaborn v0.14.0.\n",
      "\n",
      "Please adapt your code to use either `displot` (a figure-level function with\n",
      "similar flexibility) or `histplot` (an axes-level function for histograms).\n",
      "\n",
      "For a guide to updating your code to use the new functions, please see\n",
      "https://gist.github.com/mwaskom/de44147ed2974457ad6372750bbe5751\n",
      "\n",
      "  sns.distplot(_df[feature], bins=10, kde=True)\n",
      "/opt/conda/lib/python3.10/site-packages/seaborn/_oldcore.py:1119: FutureWarning: use_inf_as_na option is deprecated and will be removed in a future version. Convert inf values to NaN before operating instead.\n",
      "  with pd.option_context('mode.use_inf_as_na', True):\n"
     ]
    },
    {
     "data": {
      "image/png": "[encoded data removed]",
      "text/plain": [
       "<Figure size 800x600 with 1 Axes>"
      ]
     },
     "metadata": {},
     "output_type": "display_data"
    },
    {
     "data": {
      "image/png": "[encoded data removed]",
      "text/plain": [
       "<Figure size 1500x800 with 1 Axes>"
      ]
     },
     "metadata": {},
     "output_type": "display_data"
    },
    {
     "data": {
      "image/png": "[encoded data removed]",
      "text/plain": [
       "<Figure size 1500x800 with 1 Axes>"
      ]
     },
     "metadata": {},
     "output_type": "display_data"
    },
    {
     "data": {
      "image/png": "[encoded data removed]",
      "text/plain": [
       "<Figure size 1500x800 with 1 Axes>"
      ]
     },
     "metadata": {},
     "output_type": "display_data"
    }
   ],
   "source": [
    "shpw_distplot(df, feature_target)\n",
    "\n",
    "# get all words for phrase column\n",
    "all_words = getAllWords(df, 'Phrase')\n",
    "\n",
    "# show the word cloud\n",
    "generate_wordcloud(all_words, 'Phrase')\n",
    "\n",
    "# get all words for neutral\n",
    "all_words_neutral = getAllWords(df[df[feature_target] == 2], 'Phrase')\n",
    "\n",
    "# show the word cloud for neutral\n",
    "generate_wordcloud(all_words_neutral, 'Phrase', 'Most used words in the neutral')\n",
    "\n",
    "# get all words for somewhat positive\n",
    "all_words_somewhat_positive = getAllWords(df[df[feature_target] == 3], 'Phrase')\n",
    "\n",
    "# show the word cloud for neutral\n",
    "generate_wordcloud(all_words_somewhat_positive, 'Phrase', 'Most used words in the somewhat positive')"
   ]
  },
  {
   "cell_type": "code",
   "execution_count": 14,
   "id": "ebd34973",
   "metadata": {
    "execution": {
     "iopub.execute_input": "2023-12-24T16:51:17.540596Z",
     "iopub.status.busy": "2023-12-24T16:51:17.540085Z",
     "iopub.status.idle": "2023-12-24T16:51:18.199823Z",
     "shell.execute_reply": "2023-12-24T16:51:18.198951Z"
    },
    "papermill": {
     "duration": 0.696299,
     "end_time": "2023-12-24T16:51:18.201957",
     "exception": false,
     "start_time": "2023-12-24T16:51:17.505658",
     "status": "completed"
    },
    "tags": []
   },
   "outputs": [
    {
     "data": {
      "image/png": "[encoded data removed]",
      "text/plain": [
       "<Figure size 1600x1000 with 2 Axes>"
      ]
     },
     "metadata": {},
     "output_type": "display_data"
    }
   ],
   "source": [
    "show_word_ferq(df, 'Phrase')"
   ]
  },
  {
   "cell_type": "markdown",
   "id": "a1761e21",
   "metadata": {
    "papermill": {
     "duration": 0.032982,
     "end_time": "2023-12-24T16:51:18.268579",
     "exception": false,
     "start_time": "2023-12-24T16:51:18.235597",
     "status": "completed"
    },
    "tags": []
   },
   "source": [
    "we can see that there is ',' and '.' we should remove the stop words to see the words correctly"
   ]
  },
  {
   "cell_type": "code",
   "execution_count": 15,
   "id": "449477d9",
   "metadata": {
    "execution": {
     "iopub.execute_input": "2023-12-24T16:51:18.336278Z",
     "iopub.status.busy": "2023-12-24T16:51:18.335613Z",
     "iopub.status.idle": "2023-12-24T16:51:18.498887Z",
     "shell.execute_reply": "2023-12-24T16:51:18.498031Z"
    },
    "papermill": {
     "duration": 0.199739,
     "end_time": "2023-12-24T16:51:18.501005",
     "exception": false,
     "start_time": "2023-12-24T16:51:18.301266",
     "status": "completed"
    },
    "tags": []
   },
   "outputs": [
    {
     "data": {
      "image/png": "[encoded data removed]",
      "text/plain": [
       "<Figure size 800x800 with 1 Axes>"
      ]
     },
     "metadata": {},
     "output_type": "display_data"
    }
   ],
   "source": [
    "show_sentiment_distribution(df, feature_target)"
   ]
  },
  {
   "cell_type": "markdown",
   "id": "1189b368",
   "metadata": {
    "papermill": {
     "duration": 0.035736,
     "end_time": "2023-12-24T16:51:18.572680",
     "exception": false,
     "start_time": "2023-12-24T16:51:18.536944",
     "status": "completed"
    },
    "tags": []
   },
   "source": [
    "# Preprocess Data"
   ]
  },
  {
   "cell_type": "markdown",
   "id": "cea38351",
   "metadata": {
    "papermill": {
     "duration": 0.035007,
     "end_time": "2023-12-24T16:51:18.643280",
     "exception": false,
     "start_time": "2023-12-24T16:51:18.608273",
     "status": "completed"
    },
    "tags": []
   },
   "source": [
    "## Preprocess utils handlers"
   ]
  },
  {
   "cell_type": "markdown",
   "id": "50763236",
   "metadata": {
    "papermill": {
     "duration": 0.034382,
     "end_time": "2023-12-24T16:51:18.713605",
     "exception": false,
     "start_time": "2023-12-24T16:51:18.679223",
     "status": "completed"
    },
    "tags": []
   },
   "source": [
    "### Check for nan handler"
   ]
  },
  {
   "cell_type": "code",
   "execution_count": 16,
   "id": "44591505",
   "metadata": {
    "execution": {
     "iopub.execute_input": "2023-12-24T16:51:18.782461Z",
     "iopub.status.busy": "2023-12-24T16:51:18.782126Z",
     "iopub.status.idle": "2023-12-24T16:51:18.786849Z",
     "shell.execute_reply": "2023-12-24T16:51:18.786008Z"
    },
    "papermill": {
     "duration": 0.041305,
     "end_time": "2023-12-24T16:51:18.788820",
     "exception": false,
     "start_time": "2023-12-24T16:51:18.747515",
     "status": "completed"
    },
    "tags": []
   },
   "outputs": [],
   "source": [
    "# check_for_nan for many features\n",
    "def check_for_nan(_df, features=[]):\n",
    "    [print(f\"{feature} has {_df[feature].isnull().sum()} nan\") for feature in features]"
   ]
  },
  {
   "cell_type": "markdown",
   "id": "945088e8",
   "metadata": {
    "papermill": {
     "duration": 0.034173,
     "end_time": "2023-12-24T16:51:18.856360",
     "exception": false,
     "start_time": "2023-12-24T16:51:18.822187",
     "status": "completed"
    },
    "tags": []
   },
   "source": [
    "### Remove stop words handler"
   ]
  },
  {
   "cell_type": "code",
   "execution_count": 17,
   "id": "3f9a0da1",
   "metadata": {
    "execution": {
     "iopub.execute_input": "2023-12-24T16:51:18.925545Z",
     "iopub.status.busy": "2023-12-24T16:51:18.925216Z",
     "iopub.status.idle": "2023-12-24T16:51:19.856878Z",
     "shell.execute_reply": "2023-12-24T16:51:19.855741Z"
    },
    "papermill": {
     "duration": 0.968374,
     "end_time": "2023-12-24T16:51:19.859133",
     "exception": false,
     "start_time": "2023-12-24T16:51:18.890759",
     "status": "completed"
    },
    "tags": []
   },
   "outputs": [
    {
     "name": "stdout",
     "output_type": "stream",
     "text": [
      "[nltk_data] Downloading package stopwords to /usr/share/nltk_data...\n",
      "[nltk_data]   Package stopwords is already up-to-date!\n",
      "[nltk_data] Downloading package punkt to /usr/share/nltk_data...\n",
      "[nltk_data]   Package punkt is already up-to-date!\n"
     ]
    }
   ],
   "source": [
    "import nltk\n",
    "from nltk.corpus import stopwords\n",
    "from nltk.tokenize import word_tokenize\n",
    "\n",
    "# Download the stop words\n",
    "nltk.download('stopwords')\n",
    "nltk.download('punkt')\n",
    "\n",
    "# Get the stop words for Arabic and English\n",
    "stop_words = stopwords.words('english')\n",
    "\n",
    "# Function to remove stop words from a string\n",
    "def remove_stop_words(text):\n",
    "    tokens = word_tokenize(text)\n",
    "    filtered = [word for word in tokens if word.casefold() not in stop_words]\n",
    "    return ' '.join(filtered)"
   ]
  },
  {
   "cell_type": "markdown",
   "id": "2c1c692f",
   "metadata": {
    "papermill": {
     "duration": 0.036647,
     "end_time": "2023-12-24T16:51:19.932730",
     "exception": false,
     "start_time": "2023-12-24T16:51:19.896083",
     "status": "completed"
    },
    "tags": []
   },
   "source": [
    "### Most common word handler"
   ]
  },
  {
   "cell_type": "code",
   "execution_count": 18,
   "id": "d87960e7",
   "metadata": {
    "execution": {
     "iopub.execute_input": "2023-12-24T16:51:20.004301Z",
     "iopub.status.busy": "2023-12-24T16:51:20.003996Z",
     "iopub.status.idle": "2023-12-24T16:51:20.010698Z",
     "shell.execute_reply": "2023-12-24T16:51:20.009840Z"
    },
    "papermill": {
     "duration": 0.044233,
     "end_time": "2023-12-24T16:51:20.012691",
     "exception": false,
     "start_time": "2023-12-24T16:51:19.968458",
     "status": "completed"
    },
    "tags": []
   },
   "outputs": [],
   "source": [
    "def get_common_word(_df, feature):\n",
    "  from collections import Counter\n",
    "  reviews_without_null = _df[_df[feature].notnull()][feature]\n",
    "  # Get the most common word in 'feature'\n",
    "  words = pd.Series(' '.join(reviews_without_null).lower().split())\n",
    "  return Counter(words).most_common(1)[0][0]"
   ]
  },
  {
   "cell_type": "markdown",
   "id": "63f41b29",
   "metadata": {
    "papermill": {
     "duration": 0.039091,
     "end_time": "2023-12-24T16:51:20.085583",
     "exception": false,
     "start_time": "2023-12-24T16:51:20.046492",
     "status": "completed"
    },
    "tags": []
   },
   "source": [
    "**check features for nan**"
   ]
  },
  {
   "cell_type": "code",
   "execution_count": 19,
   "id": "a4e58a64",
   "metadata": {
    "execution": {
     "iopub.execute_input": "2023-12-24T16:51:20.164726Z",
     "iopub.status.busy": "2023-12-24T16:51:20.164412Z",
     "iopub.status.idle": "2023-12-24T16:51:20.185407Z",
     "shell.execute_reply": "2023-12-24T16:51:20.184531Z"
    },
    "papermill": {
     "duration": 0.062537,
     "end_time": "2023-12-24T16:51:20.187234",
     "exception": false,
     "start_time": "2023-12-24T16:51:20.124697",
     "status": "completed"
    },
    "tags": []
   },
   "outputs": [
    {
     "name": "stdout",
     "output_type": "stream",
     "text": [
      "Phrase has 0 nan\n",
      "Sentiment has 0 nan\n",
      "SentenceId has 0 nan\n",
      "PhraseId has 0 nan\n"
     ]
    }
   ],
   "source": [
    "features_labels = ['Phrase', 'Sentiment','SentenceId','PhraseId']\n",
    "check_for_nan(df, features_labels)"
   ]
  },
  {
   "cell_type": "markdown",
   "id": "42f731c1",
   "metadata": {
    "papermill": {
     "duration": 0.034806,
     "end_time": "2023-12-24T16:51:20.255567",
     "exception": false,
     "start_time": "2023-12-24T16:51:20.220761",
     "status": "completed"
    },
    "tags": []
   },
   "source": [
    "**apply stop words handler**"
   ]
  },
  {
   "cell_type": "code",
   "execution_count": 20,
   "id": "64d319c4",
   "metadata": {
    "execution": {
     "iopub.execute_input": "2023-12-24T16:51:20.323417Z",
     "iopub.status.busy": "2023-12-24T16:51:20.323107Z",
     "iopub.status.idle": "2023-12-24T16:51:43.999657Z",
     "shell.execute_reply": "2023-12-24T16:51:43.998846Z"
    },
    "papermill": {
     "duration": 23.713452,
     "end_time": "2023-12-24T16:51:44.002211",
     "exception": false,
     "start_time": "2023-12-24T16:51:20.288759",
     "status": "completed"
    },
    "tags": []
   },
   "outputs": [],
   "source": [
    "df['Phrase'] = df['Phrase'].apply(remove_stop_words)"
   ]
  },
  {
   "cell_type": "markdown",
   "id": "8c1098e6",
   "metadata": {
    "papermill": {
     "duration": 0.034033,
     "end_time": "2023-12-24T16:51:44.070321",
     "exception": false,
     "start_time": "2023-12-24T16:51:44.036288",
     "status": "completed"
    },
    "tags": []
   },
   "source": [
    "**Check most common word**"
   ]
  },
  {
   "cell_type": "code",
   "execution_count": 21,
   "id": "1f6e374b",
   "metadata": {
    "execution": {
     "iopub.execute_input": "2023-12-24T16:51:44.138915Z",
     "iopub.status.busy": "2023-12-24T16:51:44.138301Z",
     "iopub.status.idle": "2023-12-24T16:51:44.463997Z",
     "shell.execute_reply": "2023-12-24T16:51:44.462969Z"
    },
    "papermill": {
     "duration": 0.362094,
     "end_time": "2023-12-24T16:51:44.465969",
     "exception": false,
     "start_time": "2023-12-24T16:51:44.103875",
     "status": "completed"
    },
    "tags": []
   },
   "outputs": [
    {
     "name": "stdout",
     "output_type": "stream",
     "text": [
      ",\n"
     ]
    }
   ],
   "source": [
    "most_common_word_review = get_common_word(df, 'Phrase')\n",
    "print(most_common_word_review)"
   ]
  },
  {
   "cell_type": "markdown",
   "id": "c6a07345",
   "metadata": {
    "papermill": {
     "duration": 0.033324,
     "end_time": "2023-12-24T16:51:44.533367",
     "exception": false,
     "start_time": "2023-12-24T16:51:44.500043",
     "status": "completed"
    },
    "tags": []
   },
   "source": [
    "## Create two tensors (inputs IDs, Attension Mak)"
   ]
  },
  {
   "cell_type": "code",
   "execution_count": 22,
   "id": "79fb405d",
   "metadata": {
    "execution": {
     "iopub.execute_input": "2023-12-24T16:51:44.605550Z",
     "iopub.status.busy": "2023-12-24T16:51:44.605203Z",
     "iopub.status.idle": "2023-12-24T16:51:44.609609Z",
     "shell.execute_reply": "2023-12-24T16:51:44.608649Z"
    },
    "papermill": {
     "duration": 0.043218,
     "end_time": "2023-12-24T16:51:44.611723",
     "exception": false,
     "start_time": "2023-12-24T16:51:44.568505",
     "status": "completed"
    },
    "tags": []
   },
   "outputs": [],
   "source": [
    "seq_len = 512\n",
    "num_samples = len(df)"
   ]
  },
  {
   "cell_type": "code",
   "execution_count": 23,
   "id": "e3e7a59c",
   "metadata": {
    "execution": {
     "iopub.execute_input": "2023-12-24T16:51:44.683696Z",
     "iopub.status.busy": "2023-12-24T16:51:44.682937Z",
     "iopub.status.idle": "2023-12-24T16:51:44.688887Z",
     "shell.execute_reply": "2023-12-24T16:51:44.688042Z"
    },
    "papermill": {
     "duration": 0.042904,
     "end_time": "2023-12-24T16:51:44.690786",
     "exception": false,
     "start_time": "2023-12-24T16:51:44.647882",
     "status": "completed"
    },
    "tags": []
   },
   "outputs": [
    {
     "data": {
      "text/plain": [
       "(156060, 512)"
      ]
     },
     "execution_count": 23,
     "metadata": {},
     "output_type": "execute_result"
    }
   ],
   "source": [
    "num_samples, seq_len"
   ]
  },
  {
   "cell_type": "code",
   "execution_count": 24,
   "id": "c4424147",
   "metadata": {
    "execution": {
     "iopub.execute_input": "2023-12-24T16:51:44.761369Z",
     "iopub.status.busy": "2023-12-24T16:51:44.761114Z",
     "iopub.status.idle": "2023-12-24T16:51:50.696952Z",
     "shell.execute_reply": "2023-12-24T16:51:50.695992Z"
    },
    "papermill": {
     "duration": 5.974729,
     "end_time": "2023-12-24T16:51:50.699236",
     "exception": false,
     "start_time": "2023-12-24T16:51:44.724507",
     "status": "completed"
    },
    "tags": []
   },
   "outputs": [],
   "source": [
    "from transformers import BertTokenizer, AutoModel\n",
    "model_name = 'bert-base-cased'"
   ]
  },
  {
   "cell_type": "markdown",
   "id": "66227c6f",
   "metadata": {
    "papermill": {
     "duration": 0.034199,
     "end_time": "2023-12-24T16:51:50.768222",
     "exception": false,
     "start_time": "2023-12-24T16:51:50.734023",
     "status": "completed"
    },
    "tags": []
   },
   "source": [
    "**Create the tokenizer**"
   ]
  },
  {
   "cell_type": "code",
   "execution_count": 25,
   "id": "ec3294c0",
   "metadata": {
    "execution": {
     "iopub.execute_input": "2023-12-24T16:51:50.838065Z",
     "iopub.status.busy": "2023-12-24T16:51:50.837532Z",
     "iopub.status.idle": "2023-12-24T16:51:51.825455Z",
     "shell.execute_reply": "2023-12-24T16:51:51.824706Z"
    },
    "papermill": {
     "duration": 1.024539,
     "end_time": "2023-12-24T16:51:51.827486",
     "exception": false,
     "start_time": "2023-12-24T16:51:50.802947",
     "status": "completed"
    },
    "tags": []
   },
   "outputs": [
    {
     "data": {
      "application/vnd.jupyter.widget-view+json": {
       "model_id": "c7d003b88f7f44b9a7a84626bcb5ca13",
       "version_major": 2,
       "version_minor": 0
      },
      "text/plain": [
       "tokenizer_config.json:   0%|          | 0.00/29.0 [00:00<?, ?B/s]"
      ]
     },
     "metadata": {},
     "output_type": "display_data"
    },
    {
     "data": {
      "application/vnd.jupyter.widget-view+json": {
       "model_id": "6ed3fd0bcf834f55967157380e72f4a8",
       "version_major": 2,
       "version_minor": 0
      },
      "text/plain": [
       "vocab.txt:   0%|          | 0.00/213k [00:00<?, ?B/s]"
      ]
     },
     "metadata": {},
     "output_type": "display_data"
    },
    {
     "data": {
      "application/vnd.jupyter.widget-view+json": {
       "model_id": "17b07284ae814f73a27465b123a5ff5a",
       "version_major": 2,
       "version_minor": 0
      },
      "text/plain": [
       "tokenizer.json:   0%|          | 0.00/436k [00:00<?, ?B/s]"
      ]
     },
     "metadata": {},
     "output_type": "display_data"
    },
    {
     "data": {
      "application/vnd.jupyter.widget-view+json": {
       "model_id": "ddcd943fc29d4a08ab5ed024c0b8f391",
       "version_major": 2,
       "version_minor": 0
      },
      "text/plain": [
       "config.json:   0%|          | 0.00/570 [00:00<?, ?B/s]"
      ]
     },
     "metadata": {},
     "output_type": "display_data"
    }
   ],
   "source": [
    "tokenizer = BertTokenizer.from_pretrained(model_name)"
   ]
  },
  {
   "cell_type": "markdown",
   "id": "0a022fbe",
   "metadata": {
    "papermill": {
     "duration": 0.034581,
     "end_time": "2023-12-24T16:51:51.896953",
     "exception": false,
     "start_time": "2023-12-24T16:51:51.862372",
     "status": "completed"
    },
    "tags": []
   },
   "source": [
    "**get the tokens**"
   ]
  },
  {
   "cell_type": "code",
   "execution_count": 26,
   "id": "7d6b3ea0",
   "metadata": {
    "execution": {
     "iopub.execute_input": "2023-12-24T16:51:51.967525Z",
     "iopub.status.busy": "2023-12-24T16:51:51.966745Z",
     "iopub.status.idle": "2023-12-24T16:52:55.069401Z",
     "shell.execute_reply": "2023-12-24T16:52:55.068310Z"
    },
    "papermill": {
     "duration": 63.141009,
     "end_time": "2023-12-24T16:52:55.072299",
     "exception": false,
     "start_time": "2023-12-24T16:51:51.931290",
     "status": "completed"
    },
    "tags": []
   },
   "outputs": [],
   "source": [
    "tokens = tokenizer(df['Phrase'].tolist(), \n",
    "                   max_length=seq_len,\n",
    "                   padding='max_length',\n",
    "                   truncation=True,\n",
    "                   add_special_tokens=True,\n",
    "                   return_tensors='np'\n",
    "                  )"
   ]
  },
  {
   "cell_type": "code",
   "execution_count": 27,
   "id": "add80aff",
   "metadata": {
    "execution": {
     "iopub.execute_input": "2023-12-24T16:52:55.150748Z",
     "iopub.status.busy": "2023-12-24T16:52:55.150412Z",
     "iopub.status.idle": "2023-12-24T16:52:55.156204Z",
     "shell.execute_reply": "2023-12-24T16:52:55.155291Z"
    },
    "papermill": {
     "duration": 0.04523,
     "end_time": "2023-12-24T16:52:55.158113",
     "exception": false,
     "start_time": "2023-12-24T16:52:55.112883",
     "status": "completed"
    },
    "tags": []
   },
   "outputs": [
    {
     "data": {
      "text/plain": [
       "dict_keys(['input_ids', 'token_type_ids', 'attention_mask'])"
      ]
     },
     "execution_count": 27,
     "metadata": {},
     "output_type": "execute_result"
    }
   ],
   "source": [
    "tokens.keys()"
   ]
  },
  {
   "cell_type": "code",
   "execution_count": 28,
   "id": "e05be2ce",
   "metadata": {
    "execution": {
     "iopub.execute_input": "2023-12-24T16:52:55.229226Z",
     "iopub.status.busy": "2023-12-24T16:52:55.228940Z",
     "iopub.status.idle": "2023-12-24T16:52:55.235072Z",
     "shell.execute_reply": "2023-12-24T16:52:55.234201Z"
    },
    "papermill": {
     "duration": 0.044076,
     "end_time": "2023-12-24T16:52:55.237084",
     "exception": false,
     "start_time": "2023-12-24T16:52:55.193008",
     "status": "completed"
    },
    "tags": []
   },
   "outputs": [
    {
     "data": {
      "text/plain": [
       "array([[  101,  1326, 13936, ...,     0,     0,     0],\n",
       "       [  101,  1326, 13936, ...,     0,     0,     0],\n",
       "       [  101,  1326,   102, ...,     0,     0,     0],\n",
       "       ...,\n",
       "       [  101,   170, 25247, ...,     0,     0,     0],\n",
       "       [  101,   170, 25247, ...,     0,     0,     0],\n",
       "       [  101, 22572, 12148, ...,     0,     0,     0]])"
      ]
     },
     "execution_count": 28,
     "metadata": {},
     "output_type": "execute_result"
    }
   ],
   "source": [
    "tokens['input_ids']"
   ]
  },
  {
   "cell_type": "code",
   "execution_count": 29,
   "id": "15362e8b",
   "metadata": {
    "execution": {
     "iopub.execute_input": "2023-12-24T16:52:55.307425Z",
     "iopub.status.busy": "2023-12-24T16:52:55.307156Z",
     "iopub.status.idle": "2023-12-24T16:52:55.312476Z",
     "shell.execute_reply": "2023-12-24T16:52:55.311627Z"
    },
    "papermill": {
     "duration": 0.042867,
     "end_time": "2023-12-24T16:52:55.314435",
     "exception": false,
     "start_time": "2023-12-24T16:52:55.271568",
     "status": "completed"
    },
    "tags": []
   },
   "outputs": [
    {
     "data": {
      "text/plain": [
       "numpy.ndarray"
      ]
     },
     "execution_count": 29,
     "metadata": {},
     "output_type": "execute_result"
    }
   ],
   "source": [
    "type(tokens['attention_mask'])"
   ]
  },
  {
   "cell_type": "markdown",
   "id": "5669bebb",
   "metadata": {
    "papermill": {
     "duration": 0.035581,
     "end_time": "2023-12-24T16:52:55.385501",
     "exception": false,
     "start_time": "2023-12-24T16:52:55.349920",
     "status": "completed"
    },
    "tags": []
   },
   "source": [
    "## File Handlers"
   ]
  },
  {
   "cell_type": "markdown",
   "id": "1de90c59",
   "metadata": {
    "papermill": {
     "duration": 0.034491,
     "end_time": "2023-12-24T16:52:55.454925",
     "exception": false,
     "start_time": "2023-12-24T16:52:55.420434",
     "status": "completed"
    },
    "tags": []
   },
   "source": [
    "**Save file**"
   ]
  },
  {
   "cell_type": "code",
   "execution_count": 30,
   "id": "90b114f0",
   "metadata": {
    "execution": {
     "iopub.execute_input": "2023-12-24T16:52:55.525410Z",
     "iopub.status.busy": "2023-12-24T16:52:55.525099Z",
     "iopub.status.idle": "2023-12-24T16:52:55.529333Z",
     "shell.execute_reply": "2023-12-24T16:52:55.528542Z"
    },
    "papermill": {
     "duration": 0.041795,
     "end_time": "2023-12-24T16:52:55.531188",
     "exception": false,
     "start_time": "2023-12-24T16:52:55.489393",
     "status": "completed"
    },
    "tags": []
   },
   "outputs": [],
   "source": [
    "def saveFile(name, file):\n",
    "    with open(name,'wb') as f:\n",
    "        np.save(f, file)"
   ]
  },
  {
   "cell_type": "markdown",
   "id": "ea3e905e",
   "metadata": {
    "papermill": {
     "duration": 0.034307,
     "end_time": "2023-12-24T16:52:55.600061",
     "exception": false,
     "start_time": "2023-12-24T16:52:55.565754",
     "status": "completed"
    },
    "tags": []
   },
   "source": [
    "**read file**"
   ]
  },
  {
   "cell_type": "code",
   "execution_count": 31,
   "id": "8d574f09",
   "metadata": {
    "execution": {
     "iopub.execute_input": "2023-12-24T16:52:55.671056Z",
     "iopub.status.busy": "2023-12-24T16:52:55.670736Z",
     "iopub.status.idle": "2023-12-24T16:52:55.675128Z",
     "shell.execute_reply": "2023-12-24T16:52:55.674360Z"
    },
    "papermill": {
     "duration": 0.042539,
     "end_time": "2023-12-24T16:52:55.676883",
     "exception": false,
     "start_time": "2023-12-24T16:52:55.634344",
     "status": "completed"
    },
    "tags": []
   },
   "outputs": [],
   "source": [
    "def readFile(filename: str):\n",
    "    with open(filename, 'rb') as f:\n",
    "        return np.load(f, allow_pickle=True)"
   ]
  },
  {
   "cell_type": "markdown",
   "id": "97a007ae",
   "metadata": {
    "papermill": {
     "duration": 0.0342,
     "end_time": "2023-12-24T16:52:55.745806",
     "exception": false,
     "start_time": "2023-12-24T16:52:55.711606",
     "status": "completed"
    },
    "tags": []
   },
   "source": [
    "## Save the Sentiment labels in binary file"
   ]
  },
  {
   "cell_type": "code",
   "execution_count": 32,
   "id": "d70c4ba3",
   "metadata": {
    "execution": {
     "iopub.execute_input": "2023-12-24T16:52:55.815368Z",
     "iopub.status.busy": "2023-12-24T16:52:55.815093Z",
     "iopub.status.idle": "2023-12-24T16:52:55.819066Z",
     "shell.execute_reply": "2023-12-24T16:52:55.818267Z"
    },
    "papermill": {
     "duration": 0.040857,
     "end_time": "2023-12-24T16:52:55.820887",
     "exception": false,
     "start_time": "2023-12-24T16:52:55.780030",
     "status": "completed"
    },
    "tags": []
   },
   "outputs": [],
   "source": [
    "sentimentArr = df['Sentiment'].values"
   ]
  },
  {
   "cell_type": "code",
   "execution_count": 33,
   "id": "598d0259",
   "metadata": {
    "execution": {
     "iopub.execute_input": "2023-12-24T16:52:55.891570Z",
     "iopub.status.busy": "2023-12-24T16:52:55.891308Z",
     "iopub.status.idle": "2023-12-24T16:52:55.897450Z",
     "shell.execute_reply": "2023-12-24T16:52:55.896662Z"
    },
    "papermill": {
     "duration": 0.044129,
     "end_time": "2023-12-24T16:52:55.899217",
     "exception": false,
     "start_time": "2023-12-24T16:52:55.855088",
     "status": "completed"
    },
    "tags": []
   },
   "outputs": [
    {
     "data": {
      "text/plain": [
       "(156060, 5)"
      ]
     },
     "execution_count": 33,
     "metadata": {},
     "output_type": "execute_result"
    }
   ],
   "source": [
    "labels = np.zeros((num_samples, sentimentArr.max()+1))\n",
    "labels.shape"
   ]
  },
  {
   "cell_type": "code",
   "execution_count": 34,
   "id": "b89c7096",
   "metadata": {
    "execution": {
     "iopub.execute_input": "2023-12-24T16:52:55.969837Z",
     "iopub.status.busy": "2023-12-24T16:52:55.969550Z",
     "iopub.status.idle": "2023-12-24T16:52:55.973953Z",
     "shell.execute_reply": "2023-12-24T16:52:55.973149Z"
    },
    "papermill": {
     "duration": 0.042233,
     "end_time": "2023-12-24T16:52:55.975877",
     "exception": false,
     "start_time": "2023-12-24T16:52:55.933644",
     "status": "completed"
    },
    "tags": []
   },
   "outputs": [],
   "source": [
    "files_list = (\n",
    "    {'list' : tokens['input_ids'], 'key': 'xids'},\n",
    "    {'list' : tokens['attention_mask'], 'key': 'xmask'},\n",
    "    {'list':labels, 'key':'labels'}\n",
    ")"
   ]
  },
  {
   "cell_type": "markdown",
   "id": "9b339202",
   "metadata": {
    "papermill": {
     "duration": 0.035951,
     "end_time": "2023-12-24T16:52:56.046412",
     "exception": false,
     "start_time": "2023-12-24T16:52:56.010461",
     "status": "completed"
    },
    "tags": []
   },
   "source": [
    "## Save the tensors and the labels as numpy binary files"
   ]
  },
  {
   "cell_type": "code",
   "execution_count": 35,
   "id": "612499e2",
   "metadata": {
    "execution": {
     "iopub.execute_input": "2023-12-24T16:52:56.117775Z",
     "iopub.status.busy": "2023-12-24T16:52:56.117484Z",
     "iopub.status.idle": "2023-12-24T16:52:56.999080Z",
     "shell.execute_reply": "2023-12-24T16:52:56.998269Z"
    },
    "papermill": {
     "duration": 0.919935,
     "end_time": "2023-12-24T16:52:57.001261",
     "exception": false,
     "start_time": "2023-12-24T16:52:56.081326",
     "status": "completed"
    },
    "tags": []
   },
   "outputs": [],
   "source": [
    "_ = [saveFile(f\"./data/movie-{item['key']}.npy\", item['list']) for item in files_list]"
   ]
  },
  {
   "cell_type": "markdown",
   "id": "96c2a291",
   "metadata": {
    "papermill": {
     "duration": 0.034516,
     "end_time": "2023-12-24T16:52:57.072208",
     "exception": false,
     "start_time": "2023-12-24T16:52:57.037692",
     "status": "completed"
    },
    "tags": []
   },
   "source": [
    "# Input Pipeline"
   ]
  },
  {
   "cell_type": "code",
   "execution_count": 36,
   "id": "666d62f4",
   "metadata": {
    "execution": {
     "iopub.execute_input": "2023-12-24T16:52:57.143373Z",
     "iopub.status.busy": "2023-12-24T16:52:57.143058Z",
     "iopub.status.idle": "2023-12-24T16:52:57.544338Z",
     "shell.execute_reply": "2023-12-24T16:52:57.543541Z"
    },
    "papermill": {
     "duration": 0.439426,
     "end_time": "2023-12-24T16:52:57.546697",
     "exception": false,
     "start_time": "2023-12-24T16:52:57.107271",
     "status": "completed"
    },
    "tags": []
   },
   "outputs": [],
   "source": [
    "payload = {}\n",
    "for file in files_list:  \n",
    "    payload[file['key']] =  readFile(f\"./data/movie-{file['key']}.npy\")"
   ]
  },
  {
   "cell_type": "code",
   "execution_count": 37,
   "id": "98f3098d",
   "metadata": {
    "execution": {
     "iopub.execute_input": "2023-12-24T16:52:57.618719Z",
     "iopub.status.busy": "2023-12-24T16:52:57.618183Z",
     "iopub.status.idle": "2023-12-24T16:52:57.624372Z",
     "shell.execute_reply": "2023-12-24T16:52:57.623555Z"
    },
    "papermill": {
     "duration": 0.043611,
     "end_time": "2023-12-24T16:52:57.626231",
     "exception": false,
     "start_time": "2023-12-24T16:52:57.582620",
     "status": "completed"
    },
    "tags": []
   },
   "outputs": [
    {
     "data": {
      "text/plain": [
       "((156060, 512), (156060, 512), (156060, 5))"
      ]
     },
     "execution_count": 37,
     "metadata": {},
     "output_type": "execute_result"
    }
   ],
   "source": [
    "payload['xids'].shape, payload['xmask'].shape, payload['labels'].shape"
   ]
  },
  {
   "cell_type": "code",
   "execution_count": 38,
   "id": "f7071dfe",
   "metadata": {
    "execution": {
     "iopub.execute_input": "2023-12-24T16:52:57.697708Z",
     "iopub.status.busy": "2023-12-24T16:52:57.697440Z",
     "iopub.status.idle": "2023-12-24T16:52:57.701585Z",
     "shell.execute_reply": "2023-12-24T16:52:57.700812Z"
    },
    "papermill": {
     "duration": 0.042624,
     "end_time": "2023-12-24T16:52:57.703402",
     "exception": false,
     "start_time": "2023-12-24T16:52:57.660778",
     "status": "completed"
    },
    "tags": []
   },
   "outputs": [],
   "source": [
    "import torch\n",
    "import torch.nn as nn\n",
    "from torch.utils.data import Dataset, DataLoader, random_split, Subset,RandomSampler"
   ]
  },
  {
   "cell_type": "markdown",
   "id": "a2192062",
   "metadata": {
    "papermill": {
     "duration": 0.034305,
     "end_time": "2023-12-24T16:52:57.772339",
     "exception": false,
     "start_time": "2023-12-24T16:52:57.738034",
     "status": "completed"
    },
    "tags": []
   },
   "source": [
    "**CustomDataset Class**"
   ]
  },
  {
   "cell_type": "code",
   "execution_count": 39,
   "id": "ca340fff",
   "metadata": {
    "execution": {
     "iopub.execute_input": "2023-12-24T16:52:57.843340Z",
     "iopub.status.busy": "2023-12-24T16:52:57.842739Z",
     "iopub.status.idle": "2023-12-24T16:52:57.848649Z",
     "shell.execute_reply": "2023-12-24T16:52:57.847785Z"
    },
    "papermill": {
     "duration": 0.043143,
     "end_time": "2023-12-24T16:52:57.850508",
     "exception": false,
     "start_time": "2023-12-24T16:52:57.807365",
     "status": "completed"
    },
    "tags": []
   },
   "outputs": [],
   "source": [
    "class CustomDataset(Dataset):\n",
    "    def __init__(self, inputIds, attention_mask, labels):\n",
    "        self.inputIds = inputIds\n",
    "        self.attention_mask = attention_mask\n",
    "        self.labels = labels\n",
    "\n",
    "    def __getitem__(self, idx):\n",
    "        item = {\n",
    "            \"inputIds\": self.inputIds[idx],\n",
    "            \"attention_mask\": self.attention_mask[idx],\n",
    "            \"labels\": self.labels[idx]\n",
    "        }\n",
    "        return item\n",
    "\n",
    "    def __len__(self):\n",
    "        return len(self.labels)"
   ]
  },
  {
   "cell_type": "markdown",
   "id": "3d659908",
   "metadata": {
    "papermill": {
     "duration": 0.034337,
     "end_time": "2023-12-24T16:52:57.920428",
     "exception": false,
     "start_time": "2023-12-24T16:52:57.886091",
     "status": "completed"
    },
    "tags": []
   },
   "source": [
    "**Save DataLoader**"
   ]
  },
  {
   "cell_type": "code",
   "execution_count": 40,
   "id": "a0eb423d",
   "metadata": {
    "execution": {
     "iopub.execute_input": "2023-12-24T16:52:57.990925Z",
     "iopub.status.busy": "2023-12-24T16:52:57.990613Z",
     "iopub.status.idle": "2023-12-24T16:52:57.995013Z",
     "shell.execute_reply": "2023-12-24T16:52:57.994075Z"
    },
    "papermill": {
     "duration": 0.042039,
     "end_time": "2023-12-24T16:52:57.996968",
     "exception": false,
     "start_time": "2023-12-24T16:52:57.954929",
     "status": "completed"
    },
    "tags": []
   },
   "outputs": [],
   "source": [
    "def save_loader(_loader, filename):\n",
    "    torch.save(_loader, filename)"
   ]
  },
  {
   "cell_type": "markdown",
   "id": "3e64c42e",
   "metadata": {
    "papermill": {
     "duration": 0.034793,
     "end_time": "2023-12-24T16:52:58.067637",
     "exception": false,
     "start_time": "2023-12-24T16:52:58.032844",
     "status": "completed"
    },
    "tags": []
   },
   "source": [
    "**Load DataLoader**"
   ]
  },
  {
   "cell_type": "code",
   "execution_count": 41,
   "id": "2dcd32cf",
   "metadata": {
    "execution": {
     "iopub.execute_input": "2023-12-24T16:52:58.139749Z",
     "iopub.status.busy": "2023-12-24T16:52:58.138690Z",
     "iopub.status.idle": "2023-12-24T16:52:58.143369Z",
     "shell.execute_reply": "2023-12-24T16:52:58.142540Z"
    },
    "papermill": {
     "duration": 0.042432,
     "end_time": "2023-12-24T16:52:58.145258",
     "exception": false,
     "start_time": "2023-12-24T16:52:58.102826",
     "status": "completed"
    },
    "tags": []
   },
   "outputs": [],
   "source": [
    "def load_loader(_loader, filename):\n",
    "    return torch.load(filename)"
   ]
  },
  {
   "cell_type": "markdown",
   "id": "4e57faf2",
   "metadata": {
    "papermill": {
     "duration": 0.034766,
     "end_time": "2023-12-24T16:52:58.215317",
     "exception": false,
     "start_time": "2023-12-24T16:52:58.180551",
     "status": "completed"
    },
    "tags": []
   },
   "source": [
    "**Convert numpy arrays to PyTorch tensors**"
   ]
  },
  {
   "cell_type": "code",
   "execution_count": 42,
   "id": "ba2c2727",
   "metadata": {
    "execution": {
     "iopub.execute_input": "2023-12-24T16:52:58.286585Z",
     "iopub.status.busy": "2023-12-24T16:52:58.285998Z",
     "iopub.status.idle": "2023-12-24T16:52:58.298319Z",
     "shell.execute_reply": "2023-12-24T16:52:58.297588Z"
    },
    "papermill": {
     "duration": 0.049652,
     "end_time": "2023-12-24T16:52:58.300124",
     "exception": false,
     "start_time": "2023-12-24T16:52:58.250472",
     "status": "completed"
    },
    "tags": []
   },
   "outputs": [],
   "source": [
    "inputIds_tensor = torch.from_numpy(payload['xids'])\n",
    "attention_mask_tensor = torch.from_numpy(payload['xmask'])\n",
    "labels_tensor = torch.from_numpy(payload['labels'])"
   ]
  },
  {
   "cell_type": "markdown",
   "id": "7b2aaa8b",
   "metadata": {
    "papermill": {
     "duration": 0.036569,
     "end_time": "2023-12-24T16:52:58.371607",
     "exception": false,
     "start_time": "2023-12-24T16:52:58.335038",
     "status": "completed"
    },
    "tags": []
   },
   "source": [
    "**Create a TensorDataset**"
   ]
  },
  {
   "cell_type": "code",
   "execution_count": 43,
   "id": "85976b19",
   "metadata": {
    "execution": {
     "iopub.execute_input": "2023-12-24T16:52:58.442662Z",
     "iopub.status.busy": "2023-12-24T16:52:58.442398Z",
     "iopub.status.idle": "2023-12-24T16:52:58.446295Z",
     "shell.execute_reply": "2023-12-24T16:52:58.445510Z"
    },
    "papermill": {
     "duration": 0.041251,
     "end_time": "2023-12-24T16:52:58.448091",
     "exception": false,
     "start_time": "2023-12-24T16:52:58.406840",
     "status": "completed"
    },
    "tags": []
   },
   "outputs": [],
   "source": [
    "dataset = CustomDataset(inputIds_tensor, attention_mask_tensor, labels_tensor)"
   ]
  },
  {
   "cell_type": "code",
   "execution_count": 44,
   "id": "fd42db52",
   "metadata": {
    "execution": {
     "iopub.execute_input": "2023-12-24T16:52:58.518477Z",
     "iopub.status.busy": "2023-12-24T16:52:58.518203Z",
     "iopub.status.idle": "2023-12-24T16:52:58.600601Z",
     "shell.execute_reply": "2023-12-24T16:52:58.599786Z"
    },
    "papermill": {
     "duration": 0.11989,
     "end_time": "2023-12-24T16:52:58.602424",
     "exception": false,
     "start_time": "2023-12-24T16:52:58.482534",
     "status": "completed"
    },
    "tags": []
   },
   "outputs": [
    {
     "data": {
      "text/plain": [
       "{'inputIds': tensor([  101,  1326, 13936, 25265, 16913, 15107,  8050,  2553,  1363, 20398,\n",
       "           102,     0,     0,     0,     0,     0,     0,     0,     0,     0,\n",
       "             0,     0,     0,     0,     0,     0,     0,     0,     0,     0,\n",
       "             0,     0,     0,     0,     0,     0,     0,     0,     0,     0,\n",
       "             0,     0,     0,     0,     0,     0,     0,     0,     0,     0,\n",
       "             0,     0,     0,     0,     0,     0,     0,     0,     0,     0,\n",
       "             0,     0,     0,     0,     0,     0,     0,     0,     0,     0,\n",
       "             0,     0,     0,     0,     0,     0,     0,     0,     0,     0,\n",
       "             0,     0,     0,     0,     0,     0,     0,     0,     0,     0,\n",
       "             0,     0,     0,     0,     0,     0,     0,     0,     0,     0,\n",
       "             0,     0,     0,     0,     0,     0,     0,     0,     0,     0,\n",
       "             0,     0,     0,     0,     0,     0,     0,     0,     0,     0,\n",
       "             0,     0,     0,     0,     0,     0,     0,     0,     0,     0,\n",
       "             0,     0,     0,     0,     0,     0,     0,     0,     0,     0,\n",
       "             0,     0,     0,     0,     0,     0,     0,     0,     0,     0,\n",
       "             0,     0,     0,     0,     0,     0,     0,     0,     0,     0,\n",
       "             0,     0,     0,     0,     0,     0,     0,     0,     0,     0,\n",
       "             0,     0,     0,     0,     0,     0,     0,     0,     0,     0,\n",
       "             0,     0,     0,     0,     0,     0,     0,     0,     0,     0,\n",
       "             0,     0,     0,     0,     0,     0,     0,     0,     0,     0,\n",
       "             0,     0,     0,     0,     0,     0,     0,     0,     0,     0,\n",
       "             0,     0,     0,     0,     0,     0,     0,     0,     0,     0,\n",
       "             0,     0,     0,     0,     0,     0,     0,     0,     0,     0,\n",
       "             0,     0,     0,     0,     0,     0,     0,     0,     0,     0,\n",
       "             0,     0,     0,     0,     0,     0,     0,     0,     0,     0,\n",
       "             0,     0,     0,     0,     0,     0,     0,     0,     0,     0,\n",
       "             0,     0,     0,     0,     0,     0,     0,     0,     0,     0,\n",
       "             0,     0,     0,     0,     0,     0,     0,     0,     0,     0,\n",
       "             0,     0,     0,     0,     0,     0,     0,     0,     0,     0,\n",
       "             0,     0,     0,     0,     0,     0,     0,     0,     0,     0,\n",
       "             0,     0,     0,     0,     0,     0,     0,     0,     0,     0,\n",
       "             0,     0,     0,     0,     0,     0,     0,     0,     0,     0,\n",
       "             0,     0,     0,     0,     0,     0,     0,     0,     0,     0,\n",
       "             0,     0,     0,     0,     0,     0,     0,     0,     0,     0,\n",
       "             0,     0,     0,     0,     0,     0,     0,     0,     0,     0,\n",
       "             0,     0,     0,     0,     0,     0,     0,     0,     0,     0,\n",
       "             0,     0,     0,     0,     0,     0,     0,     0,     0,     0,\n",
       "             0,     0,     0,     0,     0,     0,     0,     0,     0,     0,\n",
       "             0,     0,     0,     0,     0,     0,     0,     0,     0,     0,\n",
       "             0,     0,     0,     0,     0,     0,     0,     0,     0,     0,\n",
       "             0,     0,     0,     0,     0,     0,     0,     0,     0,     0,\n",
       "             0,     0,     0,     0,     0,     0,     0,     0,     0,     0,\n",
       "             0,     0,     0,     0,     0,     0,     0,     0,     0,     0,\n",
       "             0,     0,     0,     0,     0,     0,     0,     0,     0,     0,\n",
       "             0,     0,     0,     0,     0,     0,     0,     0,     0,     0,\n",
       "             0,     0,     0,     0,     0,     0,     0,     0,     0,     0,\n",
       "             0,     0,     0,     0,     0,     0,     0,     0,     0,     0,\n",
       "             0,     0,     0,     0,     0,     0,     0,     0,     0,     0,\n",
       "             0,     0,     0,     0,     0,     0,     0,     0,     0,     0,\n",
       "             0,     0,     0,     0,     0,     0,     0,     0,     0,     0,\n",
       "             0,     0,     0,     0,     0,     0,     0,     0,     0,     0,\n",
       "             0,     0]),\n",
       " 'attention_mask': tensor([1, 1, 1, 1, 1, 1, 1, 1, 1, 1, 1, 0, 0, 0, 0, 0, 0, 0, 0, 0, 0, 0, 0, 0,\n",
       "         0, 0, 0, 0, 0, 0, 0, 0, 0, 0, 0, 0, 0, 0, 0, 0, 0, 0, 0, 0, 0, 0, 0, 0,\n",
       "         0, 0, 0, 0, 0, 0, 0, 0, 0, 0, 0, 0, 0, 0, 0, 0, 0, 0, 0, 0, 0, 0, 0, 0,\n",
       "         0, 0, 0, 0, 0, 0, 0, 0, 0, 0, 0, 0, 0, 0, 0, 0, 0, 0, 0, 0, 0, 0, 0, 0,\n",
       "         0, 0, 0, 0, 0, 0, 0, 0, 0, 0, 0, 0, 0, 0, 0, 0, 0, 0, 0, 0, 0, 0, 0, 0,\n",
       "         0, 0, 0, 0, 0, 0, 0, 0, 0, 0, 0, 0, 0, 0, 0, 0, 0, 0, 0, 0, 0, 0, 0, 0,\n",
       "         0, 0, 0, 0, 0, 0, 0, 0, 0, 0, 0, 0, 0, 0, 0, 0, 0, 0, 0, 0, 0, 0, 0, 0,\n",
       "         0, 0, 0, 0, 0, 0, 0, 0, 0, 0, 0, 0, 0, 0, 0, 0, 0, 0, 0, 0, 0, 0, 0, 0,\n",
       "         0, 0, 0, 0, 0, 0, 0, 0, 0, 0, 0, 0, 0, 0, 0, 0, 0, 0, 0, 0, 0, 0, 0, 0,\n",
       "         0, 0, 0, 0, 0, 0, 0, 0, 0, 0, 0, 0, 0, 0, 0, 0, 0, 0, 0, 0, 0, 0, 0, 0,\n",
       "         0, 0, 0, 0, 0, 0, 0, 0, 0, 0, 0, 0, 0, 0, 0, 0, 0, 0, 0, 0, 0, 0, 0, 0,\n",
       "         0, 0, 0, 0, 0, 0, 0, 0, 0, 0, 0, 0, 0, 0, 0, 0, 0, 0, 0, 0, 0, 0, 0, 0,\n",
       "         0, 0, 0, 0, 0, 0, 0, 0, 0, 0, 0, 0, 0, 0, 0, 0, 0, 0, 0, 0, 0, 0, 0, 0,\n",
       "         0, 0, 0, 0, 0, 0, 0, 0, 0, 0, 0, 0, 0, 0, 0, 0, 0, 0, 0, 0, 0, 0, 0, 0,\n",
       "         0, 0, 0, 0, 0, 0, 0, 0, 0, 0, 0, 0, 0, 0, 0, 0, 0, 0, 0, 0, 0, 0, 0, 0,\n",
       "         0, 0, 0, 0, 0, 0, 0, 0, 0, 0, 0, 0, 0, 0, 0, 0, 0, 0, 0, 0, 0, 0, 0, 0,\n",
       "         0, 0, 0, 0, 0, 0, 0, 0, 0, 0, 0, 0, 0, 0, 0, 0, 0, 0, 0, 0, 0, 0, 0, 0,\n",
       "         0, 0, 0, 0, 0, 0, 0, 0, 0, 0, 0, 0, 0, 0, 0, 0, 0, 0, 0, 0, 0, 0, 0, 0,\n",
       "         0, 0, 0, 0, 0, 0, 0, 0, 0, 0, 0, 0, 0, 0, 0, 0, 0, 0, 0, 0, 0, 0, 0, 0,\n",
       "         0, 0, 0, 0, 0, 0, 0, 0, 0, 0, 0, 0, 0, 0, 0, 0, 0, 0, 0, 0, 0, 0, 0, 0,\n",
       "         0, 0, 0, 0, 0, 0, 0, 0, 0, 0, 0, 0, 0, 0, 0, 0, 0, 0, 0, 0, 0, 0, 0, 0,\n",
       "         0, 0, 0, 0, 0, 0, 0, 0]),\n",
       " 'labels': tensor([0., 0., 0., 0., 0.], dtype=torch.float64)}"
      ]
     },
     "execution_count": 44,
     "metadata": {},
     "output_type": "execute_result"
    }
   ],
   "source": [
    "dataset.__getitem__(1)"
   ]
  },
  {
   "cell_type": "markdown",
   "id": "b1e46c03",
   "metadata": {
    "papermill": {
     "duration": 0.034538,
     "end_time": "2023-12-24T16:52:58.671783",
     "exception": false,
     "start_time": "2023-12-24T16:52:58.637245",
     "status": "completed"
    },
    "tags": []
   },
   "source": [
    "**Generate & shuffle indices**"
   ]
  },
  {
   "cell_type": "code",
   "execution_count": 45,
   "id": "1f4271ab",
   "metadata": {
    "execution": {
     "iopub.execute_input": "2023-12-24T16:52:58.743314Z",
     "iopub.status.busy": "2023-12-24T16:52:58.743045Z",
     "iopub.status.idle": "2023-12-24T16:52:58.755216Z",
     "shell.execute_reply": "2023-12-24T16:52:58.754451Z"
    },
    "papermill": {
     "duration": 0.050107,
     "end_time": "2023-12-24T16:52:58.757050",
     "exception": false,
     "start_time": "2023-12-24T16:52:58.706943",
     "status": "completed"
    },
    "tags": []
   },
   "outputs": [],
   "source": [
    "dataset_len = len(dataset)\n",
    "indices = torch.randperm(dataset_len)"
   ]
  },
  {
   "cell_type": "markdown",
   "id": "577a7f2d",
   "metadata": {
    "papermill": {
     "duration": 0.035306,
     "end_time": "2023-12-24T16:52:58.828217",
     "exception": false,
     "start_time": "2023-12-24T16:52:58.792911",
     "status": "completed"
    },
    "tags": []
   },
   "source": [
    "**Define size of train/test indices**"
   ]
  },
  {
   "cell_type": "code",
   "execution_count": 46,
   "id": "4ee2f309",
   "metadata": {
    "execution": {
     "iopub.execute_input": "2023-12-24T16:52:58.901850Z",
     "iopub.status.busy": "2023-12-24T16:52:58.901347Z",
     "iopub.status.idle": "2023-12-24T16:52:58.905433Z",
     "shell.execute_reply": "2023-12-24T16:52:58.904601Z"
    },
    "papermill": {
     "duration": 0.042861,
     "end_time": "2023-12-24T16:52:58.907305",
     "exception": false,
     "start_time": "2023-12-24T16:52:58.864444",
     "status": "completed"
    },
    "tags": []
   },
   "outputs": [],
   "source": [
    "train_size = int(0.8* dataset_len)\n",
    "test_size = len(dataset) - train_size"
   ]
  },
  {
   "cell_type": "markdown",
   "id": "9cc6eae6",
   "metadata": {
    "papermill": {
     "duration": 0.035042,
     "end_time": "2023-12-24T16:52:58.977597",
     "exception": false,
     "start_time": "2023-12-24T16:52:58.942555",
     "status": "completed"
    },
    "tags": []
   },
   "source": [
    "**Select train/test**"
   ]
  },
  {
   "cell_type": "code",
   "execution_count": 47,
   "id": "834c4e7b",
   "metadata": {
    "execution": {
     "iopub.execute_input": "2023-12-24T16:52:59.050518Z",
     "iopub.status.busy": "2023-12-24T16:52:59.049973Z",
     "iopub.status.idle": "2023-12-24T16:52:59.058430Z",
     "shell.execute_reply": "2023-12-24T16:52:59.057607Z"
    },
    "papermill": {
     "duration": 0.047671,
     "end_time": "2023-12-24T16:52:59.060219",
     "exception": false,
     "start_time": "2023-12-24T16:52:59.012548",
     "status": "completed"
    },
    "tags": []
   },
   "outputs": [],
   "source": [
    "train_indices = indices[:train_size]\n",
    "test_indices = indices[:test_size]\n",
    "\n",
    "train_dataset = Subset(dataset, train_indices)\n",
    "test_dataset = Subset(dataset, test_indices)"
   ]
  },
  {
   "cell_type": "markdown",
   "id": "4172ce52",
   "metadata": {
    "papermill": {
     "duration": 0.034906,
     "end_time": "2023-12-24T16:52:59.130082",
     "exception": false,
     "start_time": "2023-12-24T16:52:59.095176",
     "status": "completed"
    },
    "tags": []
   },
   "source": [
    "**Parameters**"
   ]
  },
  {
   "cell_type": "code",
   "execution_count": 48,
   "id": "6d596a6f",
   "metadata": {
    "execution": {
     "iopub.execute_input": "2023-12-24T16:52:59.200778Z",
     "iopub.status.busy": "2023-12-24T16:52:59.200506Z",
     "iopub.status.idle": "2023-12-24T16:52:59.204371Z",
     "shell.execute_reply": "2023-12-24T16:52:59.203551Z"
    },
    "papermill": {
     "duration": 0.041345,
     "end_time": "2023-12-24T16:52:59.206187",
     "exception": false,
     "start_time": "2023-12-24T16:52:59.164842",
     "status": "completed"
    },
    "tags": []
   },
   "outputs": [],
   "source": [
    "batch_size = 16"
   ]
  },
  {
   "cell_type": "markdown",
   "id": "72c5439e",
   "metadata": {
    "papermill": {
     "duration": 0.036298,
     "end_time": "2023-12-24T16:52:59.277169",
     "exception": false,
     "start_time": "2023-12-24T16:52:59.240871",
     "status": "completed"
    },
    "tags": []
   },
   "source": [
    "**Create DataLoaders for train and test**"
   ]
  },
  {
   "cell_type": "code",
   "execution_count": 49,
   "id": "7f739532",
   "metadata": {
    "execution": {
     "iopub.execute_input": "2023-12-24T16:52:59.348682Z",
     "iopub.status.busy": "2023-12-24T16:52:59.348035Z",
     "iopub.status.idle": "2023-12-24T16:52:59.352785Z",
     "shell.execute_reply": "2023-12-24T16:52:59.351968Z"
    },
    "papermill": {
     "duration": 0.042793,
     "end_time": "2023-12-24T16:52:59.354696",
     "exception": false,
     "start_time": "2023-12-24T16:52:59.311903",
     "status": "completed"
    },
    "tags": []
   },
   "outputs": [],
   "source": [
    "train_loader = DataLoader(train_dataset, batch_size=batch_size, sampler=RandomSampler(train_dataset))\n",
    "test_loader = DataLoader(test_dataset, batch_size=batch_size, sampler=RandomSampler(test_dataset))"
   ]
  },
  {
   "cell_type": "markdown",
   "id": "dce24bca",
   "metadata": {
    "papermill": {
     "duration": 0.035323,
     "end_time": "2023-12-24T16:52:59.425560",
     "exception": false,
     "start_time": "2023-12-24T16:52:59.390237",
     "status": "completed"
    },
    "tags": []
   },
   "source": [
    "**Save Loaders**"
   ]
  },
  {
   "cell_type": "code",
   "execution_count": 50,
   "id": "6094a40f",
   "metadata": {
    "execution": {
     "iopub.execute_input": "2023-12-24T16:52:59.497115Z",
     "iopub.status.busy": "2023-12-24T16:52:59.496833Z",
     "iopub.status.idle": "2023-12-24T16:53:02.289978Z",
     "shell.execute_reply": "2023-12-24T16:53:02.288848Z"
    },
    "papermill": {
     "duration": 2.831021,
     "end_time": "2023-12-24T16:53:02.292336",
     "exception": false,
     "start_time": "2023-12-24T16:52:59.461315",
     "status": "completed"
    },
    "tags": []
   },
   "outputs": [],
   "source": [
    "save_loader(train_loader, 'train_loader')\n",
    "save_loader(test_loader, 'test_loader')"
   ]
  },
  {
   "cell_type": "markdown",
   "id": "9c0f6bbc",
   "metadata": {
    "papermill": {
     "duration": 0.043851,
     "end_time": "2023-12-24T16:53:02.405060",
     "exception": false,
     "start_time": "2023-12-24T16:53:02.361209",
     "status": "completed"
    },
    "tags": []
   },
   "source": [
    "**Load Loaders**"
   ]
  },
  {
   "cell_type": "code",
   "execution_count": 51,
   "id": "ba79a4eb",
   "metadata": {
    "execution": {
     "iopub.execute_input": "2023-12-24T16:53:02.498516Z",
     "iopub.status.busy": "2023-12-24T16:53:02.497361Z",
     "iopub.status.idle": "2023-12-24T16:53:03.939008Z",
     "shell.execute_reply": "2023-12-24T16:53:03.938154Z"
    },
    "papermill": {
     "duration": 1.491895,
     "end_time": "2023-12-24T16:53:03.941487",
     "exception": false,
     "start_time": "2023-12-24T16:53:02.449592",
     "status": "completed"
    },
    "tags": []
   },
   "outputs": [],
   "source": [
    "train_loader = load_loader(train_loader, 'train_loader')\n",
    "test_loader = load_loader(test_loader, 'test_loader')"
   ]
  },
  {
   "cell_type": "markdown",
   "id": "dd8ba3b3",
   "metadata": {
    "papermill": {
     "duration": 0.035194,
     "end_time": "2023-12-24T16:53:04.012905",
     "exception": false,
     "start_time": "2023-12-24T16:53:03.977711",
     "status": "completed"
    },
    "tags": []
   },
   "source": [
    "# Build and train"
   ]
  },
  {
   "cell_type": "code",
   "execution_count": 52,
   "id": "9c0dbd2d",
   "metadata": {
    "execution": {
     "iopub.execute_input": "2023-12-24T16:53:04.087846Z",
     "iopub.status.busy": "2023-12-24T16:53:04.086941Z",
     "iopub.status.idle": "2023-12-24T16:53:31.589988Z",
     "shell.execute_reply": "2023-12-24T16:53:31.588847Z"
    },
    "papermill": {
     "duration": 27.541686,
     "end_time": "2023-12-24T16:53:31.592232",
     "exception": false,
     "start_time": "2023-12-24T16:53:04.050546",
     "status": "completed"
    },
    "tags": []
   },
   "outputs": [
    {
     "name": "stdout",
     "output_type": "stream",
     "text": [
      "Collecting torch-summary\r\n",
      "  Downloading torch_summary-1.4.5-py3-none-any.whl (16 kB)\r\n",
      "Installing collected packages: torch-summary\r\n",
      "Successfully installed torch-summary-1.4.5\r\n"
     ]
    }
   ],
   "source": [
    "!pip install torch-summary"
   ]
  },
  {
   "cell_type": "code",
   "execution_count": 53,
   "id": "147e2329",
   "metadata": {
    "execution": {
     "iopub.execute_input": "2023-12-24T16:53:31.667207Z",
     "iopub.status.busy": "2023-12-24T16:53:31.666837Z",
     "iopub.status.idle": "2023-12-24T16:53:31.679601Z",
     "shell.execute_reply": "2023-12-24T16:53:31.678810Z"
    },
    "papermill": {
     "duration": 0.052465,
     "end_time": "2023-12-24T16:53:31.681694",
     "exception": false,
     "start_time": "2023-12-24T16:53:31.629229",
     "status": "completed"
    },
    "tags": []
   },
   "outputs": [],
   "source": [
    "from torchsummary import summary"
   ]
  },
  {
   "cell_type": "markdown",
   "id": "38c6db09",
   "metadata": {
    "papermill": {
     "duration": 0.035378,
     "end_time": "2023-12-24T16:53:31.754189",
     "exception": false,
     "start_time": "2023-12-24T16:53:31.718811",
     "status": "completed"
    },
    "tags": []
   },
   "source": [
    "**Load the base BERT model**"
   ]
  },
  {
   "cell_type": "code",
   "execution_count": 54,
   "id": "e4764f96",
   "metadata": {
    "execution": {
     "iopub.execute_input": "2023-12-24T16:53:31.826365Z",
     "iopub.status.busy": "2023-12-24T16:53:31.826071Z",
     "iopub.status.idle": "2023-12-24T16:53:35.143640Z",
     "shell.execute_reply": "2023-12-24T16:53:35.142842Z"
    },
    "papermill": {
     "duration": 3.356202,
     "end_time": "2023-12-24T16:53:35.146064",
     "exception": false,
     "start_time": "2023-12-24T16:53:31.789862",
     "status": "completed"
    },
    "tags": []
   },
   "outputs": [
    {
     "data": {
      "application/vnd.jupyter.widget-view+json": {
       "model_id": "d2ef3a9eba5d47de8a01aa85c7926118",
       "version_major": 2,
       "version_minor": 0
      },
      "text/plain": [
       "model.safetensors:   0%|          | 0.00/436M [00:00<?, ?B/s]"
      ]
     },
     "metadata": {},
     "output_type": "display_data"
    }
   ],
   "source": [
    "bert_model = AutoModel.from_pretrained(model_name)"
   ]
  },
  {
   "cell_type": "markdown",
   "id": "8823bce9",
   "metadata": {
    "papermill": {
     "duration": 0.03576,
     "end_time": "2023-12-24T16:53:35.219094",
     "exception": false,
     "start_time": "2023-12-24T16:53:35.183334",
     "status": "completed"
    },
    "tags": []
   },
   "source": [
    "**Sentiment Classifier Class**"
   ]
  },
  {
   "cell_type": "code",
   "execution_count": 55,
   "id": "161f9e9f",
   "metadata": {
    "execution": {
     "iopub.execute_input": "2023-12-24T16:53:35.291984Z",
     "iopub.status.busy": "2023-12-24T16:53:35.291488Z",
     "iopub.status.idle": "2023-12-24T16:53:35.297914Z",
     "shell.execute_reply": "2023-12-24T16:53:35.297083Z"
    },
    "papermill": {
     "duration": 0.044675,
     "end_time": "2023-12-24T16:53:35.299758",
     "exception": false,
     "start_time": "2023-12-24T16:53:35.255083",
     "status": "completed"
    },
    "tags": []
   },
   "outputs": [],
   "source": [
    "class SentimentClassifier(nn.Module):\n",
    "    def __init__(self, bert_model, num_classes):\n",
    "        super().__init__()\n",
    "        # Initialize the BERT model\n",
    "        self.bert_model = bert_model\n",
    "        # Initialize a linear layer for classification. The input size is the hidden size of the BERT model\n",
    "        # and the output size is the number of classes.\n",
    "        self.classifier = nn.Linear(bert_model.config.hidden_size, num_classes)\n",
    "        \n",
    "    def forward(self, input_ids, attention_mask):\n",
    "        # Feed the inputs through the BERT model. The 'attention_mask' is used to ignore padding tokens\n",
    "        outputs = self.bert_model(input_ids=input_ids, attention_mask=attention_mask)\n",
    "        # The 'pooler_output' is a summary of the content, according to the BERT model\n",
    "        # Feed the 'pooler_output' through the classifier to get the logits\n",
    "        logits = self.classifier(outputs.pooler_output)\n",
    "        return logits\n"
   ]
  },
  {
   "cell_type": "markdown",
   "id": "575d0558",
   "metadata": {
    "papermill": {
     "duration": 0.035945,
     "end_time": "2023-12-24T16:53:35.371182",
     "exception": false,
     "start_time": "2023-12-24T16:53:35.335237",
     "status": "completed"
    },
    "tags": []
   },
   "source": [
    "**Create an instance of the sentiment classifier**"
   ]
  },
  {
   "cell_type": "code",
   "execution_count": 56,
   "id": "c1c7e8a0",
   "metadata": {
    "execution": {
     "iopub.execute_input": "2023-12-24T16:53:35.446131Z",
     "iopub.status.busy": "2023-12-24T16:53:35.445837Z",
     "iopub.status.idle": "2023-12-24T16:53:35.453677Z",
     "shell.execute_reply": "2023-12-24T16:53:35.452988Z"
    },
    "papermill": {
     "duration": 0.0479,
     "end_time": "2023-12-24T16:53:35.455765",
     "exception": false,
     "start_time": "2023-12-24T16:53:35.407865",
     "status": "completed"
    },
    "tags": []
   },
   "outputs": [],
   "source": [
    "model = SentimentClassifier(bert_model, num_classes=5)"
   ]
  },
  {
   "cell_type": "code",
   "execution_count": 57,
   "id": "12532991",
   "metadata": {
    "execution": {
     "iopub.execute_input": "2023-12-24T16:53:35.528576Z",
     "iopub.status.busy": "2023-12-24T16:53:35.528017Z",
     "iopub.status.idle": "2023-12-24T16:53:35.552537Z",
     "shell.execute_reply": "2023-12-24T16:53:35.551630Z"
    },
    "papermill": {
     "duration": 0.06273,
     "end_time": "2023-12-24T16:53:35.554458",
     "exception": false,
     "start_time": "2023-12-24T16:53:35.491728",
     "status": "completed"
    },
    "tags": []
   },
   "outputs": [
    {
     "name": "stdout",
     "output_type": "stream",
     "text": [
      "=================================================================\n",
      "Layer (type:depth-idx)                   Param #\n",
      "=================================================================\n",
      "├─BertModel: 1-1                         --\n",
      "|    └─BertEmbeddings: 2-1               --\n",
      "|    |    └─Embedding: 3-1               22,268,928\n",
      "|    |    └─Embedding: 3-2               393,216\n",
      "|    |    └─Embedding: 3-3               1,536\n",
      "|    |    └─LayerNorm: 3-4               1,536\n",
      "|    |    └─Dropout: 3-5                 --\n",
      "|    └─BertEncoder: 2-2                  --\n",
      "|    |    └─ModuleList: 3-6              85,054,464\n",
      "|    └─BertPooler: 2-3                   --\n",
      "|    |    └─Linear: 3-7                  590,592\n",
      "|    |    └─Tanh: 3-8                    --\n",
      "├─Linear: 1-2                            3,845\n",
      "=================================================================\n",
      "Total params: 108,314,117\n",
      "Trainable params: 108,314,117\n",
      "Non-trainable params: 0\n",
      "=================================================================\n"
     ]
    },
    {
     "data": {
      "text/plain": [
       "=================================================================\n",
       "Layer (type:depth-idx)                   Param #\n",
       "=================================================================\n",
       "├─BertModel: 1-1                         --\n",
       "|    └─BertEmbeddings: 2-1               --\n",
       "|    |    └─Embedding: 3-1               22,268,928\n",
       "|    |    └─Embedding: 3-2               393,216\n",
       "|    |    └─Embedding: 3-3               1,536\n",
       "|    |    └─LayerNorm: 3-4               1,536\n",
       "|    |    └─Dropout: 3-5                 --\n",
       "|    └─BertEncoder: 2-2                  --\n",
       "|    |    └─ModuleList: 3-6              85,054,464\n",
       "|    └─BertPooler: 2-3                   --\n",
       "|    |    └─Linear: 3-7                  590,592\n",
       "|    |    └─Tanh: 3-8                    --\n",
       "├─Linear: 1-2                            3,845\n",
       "=================================================================\n",
       "Total params: 108,314,117\n",
       "Trainable params: 108,314,117\n",
       "Non-trainable params: 0\n",
       "================================================================="
      ]
     },
     "execution_count": 57,
     "metadata": {},
     "output_type": "execute_result"
    }
   ],
   "source": [
    "summary(model)"
   ]
  },
  {
   "cell_type": "markdown",
   "id": "02899dc8",
   "metadata": {
    "papermill": {
     "duration": 0.035577,
     "end_time": "2023-12-24T16:53:35.625664",
     "exception": false,
     "start_time": "2023-12-24T16:53:35.590087",
     "status": "completed"
    },
    "tags": []
   },
   "source": [
    "**Move model to GPU if available**"
   ]
  },
  {
   "cell_type": "code",
   "execution_count": 58,
   "id": "2b9e1728",
   "metadata": {
    "execution": {
     "iopub.execute_input": "2023-12-24T16:53:35.699679Z",
     "iopub.status.busy": "2023-12-24T16:53:35.699024Z",
     "iopub.status.idle": "2023-12-24T16:53:39.416621Z",
     "shell.execute_reply": "2023-12-24T16:53:39.415591Z"
    },
    "papermill": {
     "duration": 3.757869,
     "end_time": "2023-12-24T16:53:39.419173",
     "exception": false,
     "start_time": "2023-12-24T16:53:35.661304",
     "status": "completed"
    },
    "tags": []
   },
   "outputs": [],
   "source": [
    "# Move model to GPU if available\n",
    "device = torch.device('cuda' if torch.cuda.is_available() else 'cpu')\n",
    "model = model.to(device)"
   ]
  },
  {
   "cell_type": "markdown",
   "id": "90086181",
   "metadata": {
    "papermill": {
     "duration": 0.039039,
     "end_time": "2023-12-24T16:53:39.497719",
     "exception": false,
     "start_time": "2023-12-24T16:53:39.458680",
     "status": "completed"
    },
    "tags": []
   },
   "source": [
    "**Freeze the BERT model**"
   ]
  },
  {
   "cell_type": "code",
   "execution_count": 59,
   "id": "88594c5e",
   "metadata": {
    "execution": {
     "iopub.execute_input": "2023-12-24T16:53:39.579563Z",
     "iopub.status.busy": "2023-12-24T16:53:39.579195Z",
     "iopub.status.idle": "2023-12-24T16:53:39.584965Z",
     "shell.execute_reply": "2023-12-24T16:53:39.584028Z"
    },
    "papermill": {
     "duration": 0.049511,
     "end_time": "2023-12-24T16:53:39.587128",
     "exception": false,
     "start_time": "2023-12-24T16:53:39.537617",
     "status": "completed"
    },
    "tags": []
   },
   "outputs": [],
   "source": [
    "# Freeze the BERT model\n",
    "for param in model.bert_model.parameters():\n",
    "    param.requires_grad = False"
   ]
  },
  {
   "cell_type": "markdown",
   "id": "e23d9091",
   "metadata": {
    "papermill": {
     "duration": 0.040473,
     "end_time": "2023-12-24T16:53:39.668083",
     "exception": false,
     "start_time": "2023-12-24T16:53:39.627610",
     "status": "completed"
    },
    "tags": []
   },
   "source": [
    "**Define the loss function and the optimizer**\n",
    "\n",
    "the `nn.CrossEntropyLoss`  loss function combines `nn.LogSoftmax()` and `nn.NLLLoss()` in one single class, so you don’t need to add a softmax layer to your model."
   ]
  },
  {
   "cell_type": "code",
   "execution_count": 60,
   "id": "0e8fee32",
   "metadata": {
    "execution": {
     "iopub.execute_input": "2023-12-24T16:53:39.748661Z",
     "iopub.status.busy": "2023-12-24T16:53:39.748359Z",
     "iopub.status.idle": "2023-12-24T16:53:39.752566Z",
     "shell.execute_reply": "2023-12-24T16:53:39.751668Z"
    },
    "papermill": {
     "duration": 0.04598,
     "end_time": "2023-12-24T16:53:39.754542",
     "exception": false,
     "start_time": "2023-12-24T16:53:39.708562",
     "status": "completed"
    },
    "tags": []
   },
   "outputs": [],
   "source": [
    "leaning_rate = 5e-5\n",
    "num_epochs = 2"
   ]
  },
  {
   "cell_type": "code",
   "execution_count": 61,
   "id": "bd888f7e",
   "metadata": {
    "execution": {
     "iopub.execute_input": "2023-12-24T16:53:39.830024Z",
     "iopub.status.busy": "2023-12-24T16:53:39.829718Z",
     "iopub.status.idle": "2023-12-24T16:53:39.835547Z",
     "shell.execute_reply": "2023-12-24T16:53:39.834631Z"
    },
    "papermill": {
     "duration": 0.045804,
     "end_time": "2023-12-24T16:53:39.837393",
     "exception": false,
     "start_time": "2023-12-24T16:53:39.791589",
     "status": "completed"
    },
    "tags": []
   },
   "outputs": [],
   "source": [
    "# Define the loss function and the optimizer\n",
    "criterion = nn.CrossEntropyLoss()\n",
    "optimizer = torch.optim.Adam(model.parameters(), lr=leaning_rate)"
   ]
  },
  {
   "cell_type": "markdown",
   "id": "cb4e59f6",
   "metadata": {
    "papermill": {
     "duration": 0.036595,
     "end_time": "2023-12-24T16:53:39.910209",
     "exception": false,
     "start_time": "2023-12-24T16:53:39.873614",
     "status": "completed"
    },
    "tags": []
   },
   "source": [
    "**train_one_epoch:**\n",
    "    Function to train the model for one epoch.\n",
    "    \n",
    "**Parameters:**\n",
    "*     model (torch.nn.Module): The model to be trained.\n",
    "*     criterion (torch.nn.Module): The loss function.\n",
    "*     optimizer (torch.optim.Optimizer): The optimizer.\n",
    "*     data_loader (torch.utils.data.DataLoader): The data loader.\n",
    "*     device (torch.device): The device (cpu or gpu) where the data and model are.\n",
    "\n",
    "**Returns:**\n",
    "*     epoch_loss (float): The average loss for this epoch.\n",
    "*     epoch_accuracy (float): The accuracy for this epoch."
   ]
  },
  {
   "cell_type": "code",
   "execution_count": 62,
   "id": "78953559",
   "metadata": {
    "execution": {
     "iopub.execute_input": "2023-12-24T16:53:39.984578Z",
     "iopub.status.busy": "2023-12-24T16:53:39.984277Z",
     "iopub.status.idle": "2023-12-24T16:53:39.993785Z",
     "shell.execute_reply": "2023-12-24T16:53:39.992948Z"
    },
    "papermill": {
     "duration": 0.048579,
     "end_time": "2023-12-24T16:53:39.995690",
     "exception": false,
     "start_time": "2023-12-24T16:53:39.947111",
     "status": "completed"
    },
    "tags": []
   },
   "outputs": [],
   "source": [
    "import time\n",
    "\n",
    "def train_one_epoch(model, criterion, optimizer, data_loader, device):\n",
    "    \"\"\"\n",
    "    Function to train the model for one epoch.\n",
    "\n",
    "    Parameters:\n",
    "    model (torch.nn.Module): The model to be trained.\n",
    "    criterion (torch.nn.Module): The loss function.\n",
    "    optimizer (torch.optim.Optimizer): The optimizer.\n",
    "    data_loader (torch.utils.data.DataLoader): The data loader.\n",
    "    device (torch.device): The device (cpu or gpu) where the data and model are.\n",
    "\n",
    "    Returns:\n",
    "    epoch_loss (float): The average loss for this epoch.\n",
    "    epoch_accuracy (float): The accuracy for this epoch.\n",
    "    \"\"\"\n",
    "\n",
    "    # Initialize counters\n",
    "    epoch_loss = 0\n",
    "    epoch_correct = 0\n",
    "    epoch_total = 0\n",
    "    \n",
    "    # Start timing\n",
    "    start_time = time.time() \n",
    "        \n",
    "    # Iterate over batches\n",
    "    for batch in data_loader: \n",
    "        # Move data and labels to device\n",
    "        input_ids = batch['inputIds'].to(device)\n",
    "        attention_mask = batch['attention_mask'].to(device)\n",
    "        labels = batch['labels'].to(device)\n",
    "\n",
    "        # Forward pass: compute the model output given the inputs\n",
    "        outputs = model(input_ids, attention_mask)\n",
    "        \n",
    "        # Compute loss: calculate the difference between the model output and the true labels\n",
    "        loss = criterion(outputs, labels)\n",
    "        epoch_loss += loss.item()\n",
    "\n",
    "        # Compute accuracy: compare the model's predictions to the true labels\n",
    "        _, predicted = torch.max(outputs, 1)\n",
    "        labels = torch.argmax(labels, dim=1)  # Convert from one-hot to label \n",
    "        correct = (predicted == labels).sum().item()\n",
    "        total = labels.size(0)\n",
    "        epoch_correct += correct\n",
    "        epoch_total += total\n",
    "        # Backward pass and optimize: compute the gradients and update the model parameters\n",
    "        optimizer.zero_grad()\n",
    "        loss.backward()\n",
    "        optimizer.step()\n",
    "        \n",
    "\n",
    "    elapsed_time = time.time() - start_time  # Calculate the elapsed time since the start of the epoch\n",
    "    print(f\"epochs done, took {(elapsed_time / 60 ):.2f} minutes\")\n",
    "    # Return the average loss and accuracy for this epoch\n",
    "    return epoch_loss / len(data_loader), epoch_correct / epoch_total\n"
   ]
  },
  {
   "cell_type": "markdown",
   "id": "d10270f6",
   "metadata": {
    "papermill": {
     "duration": 0.035948,
     "end_time": "2023-12-24T16:53:40.067222",
     "exception": false,
     "start_time": "2023-12-24T16:53:40.031274",
     "status": "completed"
    },
    "tags": []
   },
   "source": [
    "**plot metrics function**"
   ]
  },
  {
   "cell_type": "code",
   "execution_count": 63,
   "id": "756353c0",
   "metadata": {
    "execution": {
     "iopub.execute_input": "2023-12-24T16:53:40.141217Z",
     "iopub.status.busy": "2023-12-24T16:53:40.140911Z",
     "iopub.status.idle": "2023-12-24T16:53:40.146883Z",
     "shell.execute_reply": "2023-12-24T16:53:40.146026Z"
    },
    "papermill": {
     "duration": 0.045401,
     "end_time": "2023-12-24T16:53:40.148691",
     "exception": false,
     "start_time": "2023-12-24T16:53:40.103290",
     "status": "completed"
    },
    "tags": []
   },
   "outputs": [],
   "source": [
    "def plot_metrics(train_loss, train_accuracy):\n",
    "    # Plot the training loss and accuracy\n",
    "    plt.figure(figsize=(12, 4))\n",
    "    plt.subplot(1, 2, 1)\n",
    "    plt.plot(train_loss, label='Train Loss')\n",
    "    plt.xlabel('Epoch')\n",
    "    plt.ylabel('Loss')\n",
    "    plt.legend()\n",
    "\n",
    "    plt.subplot(1, 2, 2)\n",
    "    plt.plot(train_accuracy, label='Train Accuracy')\n",
    "    plt.xlabel('Epoch')\n",
    "    plt.ylabel('Accuracy')\n",
    "    plt.legend()\n",
    "\n",
    "    plt.show()"
   ]
  },
  {
   "cell_type": "markdown",
   "id": "4263acaf",
   "metadata": {
    "papermill": {
     "duration": 0.035748,
     "end_time": "2023-12-24T16:53:40.221506",
     "exception": false,
     "start_time": "2023-12-24T16:53:40.185758",
     "status": "completed"
    },
    "tags": []
   },
   "source": [
    "**train_model** Function to train the model for a specified number of epochs and plot the training metrics.\n",
    "\n",
    "**Parameters:**\n",
    "*     model (torch.nn.Module): The model to be trained.\n",
    "*     criterion (torch.nn.Module): The loss function.\n",
    "*     optimizer (torch.optim.Optimizer): The optimizer.\n",
    "*     train_loader (torch.utils.data.DataLoader): The data loader.\n",
    "*     num_epochs (int): The number of epochs to train the model.\n",
    "*     device (torch.device): The device (cpu or gpu) where the data and model are."
   ]
  },
  {
   "cell_type": "code",
   "execution_count": 64,
   "id": "67b5fd5e",
   "metadata": {
    "execution": {
     "iopub.execute_input": "2023-12-24T16:53:40.298964Z",
     "iopub.status.busy": "2023-12-24T16:53:40.298589Z",
     "iopub.status.idle": "2023-12-24T16:53:40.305514Z",
     "shell.execute_reply": "2023-12-24T16:53:40.304614Z"
    },
    "papermill": {
     "duration": 0.050183,
     "end_time": "2023-12-24T16:53:40.307547",
     "exception": false,
     "start_time": "2023-12-24T16:53:40.257364",
     "status": "completed"
    },
    "tags": []
   },
   "outputs": [],
   "source": [
    "def train_model(model, criterion, optimizer, train_loader, num_epochs, device):\n",
    "    \"\"\"\n",
    "    Function to train the model for a specified number of epochs and plot the training metrics.\n",
    "\n",
    "    Parameters:\n",
    "    model (torch.nn.Module): The model to be trained.\n",
    "    criterion (torch.nn.Module): The loss function.\n",
    "    optimizer (torch.optim.Optimizer): The optimizer.\n",
    "    train_loader (torch.utils.data.DataLoader): The data loader.\n",
    "    num_epochs (int): The number of epochs to train the model.\n",
    "    device (torch.device): The device (cpu or gpu) where the data and model are.\n",
    "    \"\"\"\n",
    "\n",
    "    # Initialize lists to save the loss and accuracy values\n",
    "    train_loss = []\n",
    "    train_accuracy = []\n",
    "\n",
    "    # Training loop\n",
    "    for epoch in range(num_epochs):\n",
    "        # Train the model for one epoch and get the average loss and accuracy\n",
    "        loss, accuracy = train_one_epoch(model, criterion, optimizer, train_loader, device)\n",
    "        # Save the average loss and accuracy for this epoch\n",
    "        train_loss.append(loss)\n",
    "        train_accuracy.append(accuracy)\n",
    "        # Print the loss and accuracy for this epoch\n",
    "        print(f'Epoch [{epoch+1}/{num_epochs}], Loss: {loss}, Accuracy: {accuracy}')\n",
    "\n",
    "    # Plot the training loss and accuracy\n",
    "    plot_metrics(train_loss, train_accuracy)\n"
   ]
  },
  {
   "cell_type": "markdown",
   "id": "6ca2d77a",
   "metadata": {
    "papermill": {
     "duration": 0.042247,
     "end_time": "2023-12-24T16:53:40.388663",
     "exception": false,
     "start_time": "2023-12-24T16:53:40.346416",
     "status": "completed"
    },
    "tags": []
   },
   "source": [
    "We can now call the **train_model** to train your model and automatically plot the metrics:"
   ]
  },
  {
   "cell_type": "code",
   "execution_count": 65,
   "id": "8eb96200",
   "metadata": {
    "execution": {
     "iopub.execute_input": "2023-12-24T16:53:40.471419Z",
     "iopub.status.busy": "2023-12-24T16:53:40.471072Z",
     "iopub.status.idle": "2023-12-24T16:53:40.495272Z",
     "shell.execute_reply": "2023-12-24T16:53:40.494475Z"
    },
    "papermill": {
     "duration": 0.067061,
     "end_time": "2023-12-24T16:53:40.497121",
     "exception": false,
     "start_time": "2023-12-24T16:53:40.430060",
     "status": "completed"
    },
    "tags": []
   },
   "outputs": [
    {
     "name": "stdout",
     "output_type": "stream",
     "text": [
      "=================================================================\n",
      "Layer (type:depth-idx)                   Param #\n",
      "=================================================================\n",
      "├─BertModel: 1-1                         --\n",
      "|    └─BertEmbeddings: 2-1               --\n",
      "|    |    └─Embedding: 3-1               (22,268,928)\n",
      "|    |    └─Embedding: 3-2               (393,216)\n",
      "|    |    └─Embedding: 3-3               (1,536)\n",
      "|    |    └─LayerNorm: 3-4               (1,536)\n",
      "|    |    └─Dropout: 3-5                 --\n",
      "|    └─BertEncoder: 2-2                  --\n",
      "|    |    └─ModuleList: 3-6              (85,054,464)\n",
      "|    └─BertPooler: 2-3                   --\n",
      "|    |    └─Linear: 3-7                  (590,592)\n",
      "|    |    └─Tanh: 3-8                    --\n",
      "├─Linear: 1-2                            3,845\n",
      "=================================================================\n",
      "Total params: 108,314,117\n",
      "Trainable params: 3,845\n",
      "Non-trainable params: 108,310,272\n",
      "=================================================================\n"
     ]
    },
    {
     "data": {
      "text/plain": [
       "=================================================================\n",
       "Layer (type:depth-idx)                   Param #\n",
       "=================================================================\n",
       "├─BertModel: 1-1                         --\n",
       "|    └─BertEmbeddings: 2-1               --\n",
       "|    |    └─Embedding: 3-1               (22,268,928)\n",
       "|    |    └─Embedding: 3-2               (393,216)\n",
       "|    |    └─Embedding: 3-3               (1,536)\n",
       "|    |    └─LayerNorm: 3-4               (1,536)\n",
       "|    |    └─Dropout: 3-5                 --\n",
       "|    └─BertEncoder: 2-2                  --\n",
       "|    |    └─ModuleList: 3-6              (85,054,464)\n",
       "|    └─BertPooler: 2-3                   --\n",
       "|    |    └─Linear: 3-7                  (590,592)\n",
       "|    |    └─Tanh: 3-8                    --\n",
       "├─Linear: 1-2                            3,845\n",
       "=================================================================\n",
       "Total params: 108,314,117\n",
       "Trainable params: 3,845\n",
       "Non-trainable params: 108,310,272\n",
       "================================================================="
      ]
     },
     "execution_count": 65,
     "metadata": {},
     "output_type": "execute_result"
    }
   ],
   "source": [
    "summary(model)"
   ]
  },
  {
   "cell_type": "code",
   "execution_count": 66,
   "id": "5ee0ce50",
   "metadata": {
    "execution": {
     "iopub.execute_input": "2023-12-24T16:53:40.570150Z",
     "iopub.status.busy": "2023-12-24T16:53:40.569862Z",
     "iopub.status.idle": "2023-12-24T19:12:49.414954Z",
     "shell.execute_reply": "2023-12-24T19:12:49.413984Z"
    },
    "papermill": {
     "duration": 8348.883667,
     "end_time": "2023-12-24T19:12:49.416971",
     "exception": false,
     "start_time": "2023-12-24T16:53:40.533304",
     "status": "completed"
    },
    "tags": []
   },
   "outputs": [
    {
     "name": "stdout",
     "output_type": "stream",
     "text": [
      "epochs done, took 69.54 minutes\n",
      "Epoch [1/2], Loss: 0.0, Accuracy: 0.047746059207996926\n",
      "epochs done, took 69.60 minutes\n",
      "Epoch [2/2], Loss: 0.0, Accuracy: 0.047746059207996926\n"
     ]
    },
    {
     "data": {
      "image/png": "[encoded data removed]",
      "text/plain": [
       "<Figure size 1200x400 with 2 Axes>"
      ]
     },
     "metadata": {},
     "output_type": "display_data"
    }
   ],
   "source": [
    "train_model(model, criterion, optimizer, train_loader, num_epochs, device)"
   ]
  },
  {
   "cell_type": "code",
   "execution_count": null,
   "id": "8084424a",
   "metadata": {
    "papermill": {
     "duration": 0.037041,
     "end_time": "2023-12-24T19:12:49.491079",
     "exception": false,
     "start_time": "2023-12-24T19:12:49.454038",
     "status": "completed"
    },
    "tags": []
   },
   "outputs": [],
   "source": []
  }
 ],
 "metadata": {
  "kaggle": {
   "accelerator": "nvidiaTeslaT4",
   "dataSources": [
    {
     "databundleVersionId": 32092,
     "sourceId": 3810,
     "sourceType": "competition"
    },
    {
     "databundleVersionId": 7336415,
     "datasetId": 4198079,
     "sourceId": 7246711,
     "sourceType": "datasetVersion"
    }
   ],
   "dockerImageVersionId": 30626,
   "isGpuEnabled": true,
   "isInternetEnabled": true,
   "language": "python",
   "sourceType": "notebook"
  },
  "kernelspec": {
   "display_name": "Python 3",
   "language": "python",
   "name": "python3"
  },
  "language_info": {
   "codemirror_mode": {
    "name": "ipython",
    "version": 3
   },
   "file_extension": ".py",
   "mimetype": "text/x-python",
   "name": "python",
   "nbconvert_exporter": "python",
   "pygments_lexer": "ipython3",
   "version": "3.10.12"
  },
  "papermill": {
   "default_parameters": {},
   "duration": 8506.053639,
   "end_time": "2023-12-24T19:12:51.994554",
   "environment_variables": {},
   "exception": null,
   "input_path": "__notebook__.ipynb",
   "output_path": "__notebook__.ipynb",
   "parameters": {},
   "start_time": "2023-12-24T16:51:05.940915",
   "version": "2.4.0"
  },
  "widgets": {
   "application/vnd.jupyter.widget-state+json": {
    "state": {
     "03023f5220ea4f309126ce2871dda092": {
      "model_module": "@jupyter-widgets/base",
      "model_module_version": "1.2.0",
      "model_name": "LayoutModel",
      "state": {
       "_model_module": "@jupyter-widgets/base",
       "_model_module_version": "1.2.0",
       "_model_name": "LayoutModel",
       "_view_count": null,
       "_view_module": "@jupyter-widgets/base",
       "_view_module_version": "1.2.0",
       "_view_name": "LayoutView",
       "align_content": null,
       "align_items": null,
       "align_self": null,
       "border": null,
       "bottom": null,
       "display": null,
       "flex": null,
       "flex_flow": null,
       "grid_area": null,
       "grid_auto_columns": null,
       "grid_auto_flow": null,
       "grid_auto_rows": null,
       "grid_column": null,
       "grid_gap": null,
       "grid_row": null,
       "grid_template_areas": null,
       "grid_template_columns": null,
       "grid_template_rows": null,
       "height": null,
       "justify_content": null,
       "justify_items": null,
       "left": null,
       "margin": null,
       "max_height": null,
       "max_width": null,
       "min_height": null,
       "min_width": null,
       "object_fit": null,
       "object_position": null,
       "order": null,
       "overflow": null,
       "overflow_x": null,
       "overflow_y": null,
       "padding": null,
       "right": null,
       "top": null,
       "visibility": null,
       "width": null
      }
     },
     "037042ab0b1d4a63b5cac2e9f3dd584a": {
      "model_module": "@jupyter-widgets/controls",
      "model_module_version": "1.5.0",
      "model_name": "ProgressStyleModel",
      "state": {
       "_model_module": "@jupyter-widgets/controls",
       "_model_module_version": "1.5.0",
       "_model_name": "ProgressStyleModel",
       "_view_count": null,
       "_view_module": "@jupyter-widgets/base",
       "_view_module_version": "1.2.0",
       "_view_name": "StyleView",
       "bar_color": null,
       "description_width": ""
      }
     },
     "08d77ee8eaf344fab2b4c828446b7f44": {
      "model_module": "@jupyter-widgets/controls",
      "model_module_version": "1.5.0",
      "model_name": "FloatProgressModel",
      "state": {
       "_dom_classes": [],
       "_model_module": "@jupyter-widgets/controls",
       "_model_module_version": "1.5.0",
       "_model_name": "FloatProgressModel",
       "_view_count": null,
       "_view_module": "@jupyter-widgets/controls",
       "_view_module_version": "1.5.0",
       "_view_name": "ProgressView",
       "bar_style": "success",
       "description": "",
       "description_tooltip": null,
       "layout": "IPY_MODEL_b46c42ac6a694886a1076f7c733f3967",
       "max": 435797.0,
       "min": 0.0,
       "orientation": "horizontal",
       "style": "IPY_MODEL_118b3d28936c4acf84d5cdab83502c68",
       "value": 435797.0
      }
     },
     "0fc503ba4f454b2e8ec7bf184411998f": {
      "model_module": "@jupyter-widgets/controls",
      "model_module_version": "1.5.0",
      "model_name": "HTMLModel",
      "state": {
       "_dom_classes": [],
       "_model_module": "@jupyter-widgets/controls",
       "_model_module_version": "1.5.0",
       "_model_name": "HTMLModel",
       "_view_count": null,
       "_view_module": "@jupyter-widgets/controls",
       "_view_module_version": "1.5.0",
       "_view_name": "HTMLView",
       "description": "",
       "description_tooltip": null,
       "layout": "IPY_MODEL_4e2f4bfe78e045e28ba2e04f8b205ed5",
       "placeholder": "​",
       "style": "IPY_MODEL_ef1dd2b2b0fc4b60b812a22fa1f5d420",
       "value": "tokenizer.json: 100%"
      }
     },
     "118b3d28936c4acf84d5cdab83502c68": {
      "model_module": "@jupyter-widgets/controls",
      "model_module_version": "1.5.0",
      "model_name": "ProgressStyleModel",
      "state": {
       "_model_module": "@jupyter-widgets/controls",
       "_model_module_version": "1.5.0",
       "_model_name": "ProgressStyleModel",
       "_view_count": null,
       "_view_module": "@jupyter-widgets/base",
       "_view_module_version": "1.2.0",
       "_view_name": "StyleView",
       "bar_color": null,
       "description_width": ""
      }
     },
     "13a20907ea0543b4beb492021fb4b13b": {
      "model_module": "@jupyter-widgets/base",
      "model_module_version": "1.2.0",
      "model_name": "LayoutModel",
      "state": {
       "_model_module": "@jupyter-widgets/base",
       "_model_module_version": "1.2.0",
       "_model_name": "LayoutModel",
       "_view_count": null,
       "_view_module": "@jupyter-widgets/base",
       "_view_module_version": "1.2.0",
       "_view_name": "LayoutView",
       "align_content": null,
       "align_items": null,
       "align_self": null,
       "border": null,
       "bottom": null,
       "display": null,
       "flex": null,
       "flex_flow": null,
       "grid_area": null,
       "grid_auto_columns": null,
       "grid_auto_flow": null,
       "grid_auto_rows": null,
       "grid_column": null,
       "grid_gap": null,
       "grid_row": null,
       "grid_template_areas": null,
       "grid_template_columns": null,
       "grid_template_rows": null,
       "height": null,
       "justify_content": null,
       "justify_items": null,
       "left": null,
       "margin": null,
       "max_height": null,
       "max_width": null,
       "min_height": null,
       "min_width": null,
       "object_fit": null,
       "object_position": null,
       "order": null,
       "overflow": null,
       "overflow_x": null,
       "overflow_y": null,
       "padding": null,
       "right": null,
       "top": null,
       "visibility": null,
       "width": null
      }
     },
     "17b07284ae814f73a27465b123a5ff5a": {
      "model_module": "@jupyter-widgets/controls",
      "model_module_version": "1.5.0",
      "model_name": "HBoxModel",
      "state": {
       "_dom_classes": [],
       "_model_module": "@jupyter-widgets/controls",
       "_model_module_version": "1.5.0",
       "_model_name": "HBoxModel",
       "_view_count": null,
       "_view_module": "@jupyter-widgets/controls",
       "_view_module_version": "1.5.0",
       "_view_name": "HBoxView",
       "box_style": "",
       "children": [
        "IPY_MODEL_0fc503ba4f454b2e8ec7bf184411998f",
        "IPY_MODEL_08d77ee8eaf344fab2b4c828446b7f44",
        "IPY_MODEL_c64d42450e1442ffbbc3d3cbe796f758"
       ],
       "layout": "IPY_MODEL_422eb5988cfe44869fdda8ca78a11017"
      }
     },
     "1ea404fde02341b593859f718610d906": {
      "model_module": "@jupyter-widgets/controls",
      "model_module_version": "1.5.0",
      "model_name": "DescriptionStyleModel",
      "state": {
       "_model_module": "@jupyter-widgets/controls",
       "_model_module_version": "1.5.0",
       "_model_name": "DescriptionStyleModel",
       "_view_count": null,
       "_view_module": "@jupyter-widgets/base",
       "_view_module_version": "1.2.0",
       "_view_name": "StyleView",
       "description_width": ""
      }
     },
     "1f189f78a44440d492a9a822be3f880d": {
      "model_module": "@jupyter-widgets/base",
      "model_module_version": "1.2.0",
      "model_name": "LayoutModel",
      "state": {
       "_model_module": "@jupyter-widgets/base",
       "_model_module_version": "1.2.0",
       "_model_name": "LayoutModel",
       "_view_count": null,
       "_view_module": "@jupyter-widgets/base",
       "_view_module_version": "1.2.0",
       "_view_name": "LayoutView",
       "align_content": null,
       "align_items": null,
       "align_self": null,
       "border": null,
       "bottom": null,
       "display": null,
       "flex": null,
       "flex_flow": null,
       "grid_area": null,
       "grid_auto_columns": null,
       "grid_auto_flow": null,
       "grid_auto_rows": null,
       "grid_column": null,
       "grid_gap": null,
       "grid_row": null,
       "grid_template_areas": null,
       "grid_template_columns": null,
       "grid_template_rows": null,
       "height": null,
       "justify_content": null,
       "justify_items": null,
       "left": null,
       "margin": null,
       "max_height": null,
       "max_width": null,
       "min_height": null,
       "min_width": null,
       "object_fit": null,
       "object_position": null,
       "order": null,
       "overflow": null,
       "overflow_x": null,
       "overflow_y": null,
       "padding": null,
       "right": null,
       "top": null,
       "visibility": null,
       "width": null
      }
     },
     "21077c5513054429a6f20c3ee411f73e": {
      "model_module": "@jupyter-widgets/base",
      "model_module_version": "1.2.0",
      "model_name": "LayoutModel",
      "state": {
       "_model_module": "@jupyter-widgets/base",
       "_model_module_version": "1.2.0",
       "_model_name": "LayoutModel",
       "_view_count": null,
       "_view_module": "@jupyter-widgets/base",
       "_view_module_version": "1.2.0",
       "_view_name": "LayoutView",
       "align_content": null,
       "align_items": null,
       "align_self": null,
       "border": null,
       "bottom": null,
       "display": null,
       "flex": null,
       "flex_flow": null,
       "grid_area": null,
       "grid_auto_columns": null,
       "grid_auto_flow": null,
       "grid_auto_rows": null,
       "grid_column": null,
       "grid_gap": null,
       "grid_row": null,
       "grid_template_areas": null,
       "grid_template_columns": null,
       "grid_template_rows": null,
       "height": null,
       "justify_content": null,
       "justify_items": null,
       "left": null,
       "margin": null,
       "max_height": null,
       "max_width": null,
       "min_height": null,
       "min_width": null,
       "object_fit": null,
       "object_position": null,
       "order": null,
       "overflow": null,
       "overflow_x": null,
       "overflow_y": null,
       "padding": null,
       "right": null,
       "top": null,
       "visibility": null,
       "width": null
      }
     },
     "2fd4ec9348de48ce8614d8c3102ea18c": {
      "model_module": "@jupyter-widgets/base",
      "model_module_version": "1.2.0",
      "model_name": "LayoutModel",
      "state": {
       "_model_module": "@jupyter-widgets/base",
       "_model_module_version": "1.2.0",
       "_model_name": "LayoutModel",
       "_view_count": null,
       "_view_module": "@jupyter-widgets/base",
       "_view_module_version": "1.2.0",
       "_view_name": "LayoutView",
       "align_content": null,
       "align_items": null,
       "align_self": null,
       "border": null,
       "bottom": null,
       "display": null,
       "flex": null,
       "flex_flow": null,
       "grid_area": null,
       "grid_auto_columns": null,
       "grid_auto_flow": null,
       "grid_auto_rows": null,
       "grid_column": null,
       "grid_gap": null,
       "grid_row": null,
       "grid_template_areas": null,
       "grid_template_columns": null,
       "grid_template_rows": null,
       "height": null,
       "justify_content": null,
       "justify_items": null,
       "left": null,
       "margin": null,
       "max_height": null,
       "max_width": null,
       "min_height": null,
       "min_width": null,
       "object_fit": null,
       "object_position": null,
       "order": null,
       "overflow": null,
       "overflow_x": null,
       "overflow_y": null,
       "padding": null,
       "right": null,
       "top": null,
       "visibility": null,
       "width": null
      }
     },
     "3281a4fa215f4c08bd2d3394e346b191": {
      "model_module": "@jupyter-widgets/base",
      "model_module_version": "1.2.0",
      "model_name": "LayoutModel",
      "state": {
       "_model_module": "@jupyter-widgets/base",
       "_model_module_version": "1.2.0",
       "_model_name": "LayoutModel",
       "_view_count": null,
       "_view_module": "@jupyter-widgets/base",
       "_view_module_version": "1.2.0",
       "_view_name": "LayoutView",
       "align_content": null,
       "align_items": null,
       "align_self": null,
       "border": null,
       "bottom": null,
       "display": null,
       "flex": null,
       "flex_flow": null,
       "grid_area": null,
       "grid_auto_columns": null,
       "grid_auto_flow": null,
       "grid_auto_rows": null,
       "grid_column": null,
       "grid_gap": null,
       "grid_row": null,
       "grid_template_areas": null,
       "grid_template_columns": null,
       "grid_template_rows": null,
       "height": null,
       "justify_content": null,
       "justify_items": null,
       "left": null,
       "margin": null,
       "max_height": null,
       "max_width": null,
       "min_height": null,
       "min_width": null,
       "object_fit": null,
       "object_position": null,
       "order": null,
       "overflow": null,
       "overflow_x": null,
       "overflow_y": null,
       "padding": null,
       "right": null,
       "top": null,
       "visibility": null,
       "width": null
      }
     },
     "39e5deb01c8e45879375cc99912e7e2d": {
      "model_module": "@jupyter-widgets/base",
      "model_module_version": "1.2.0",
      "model_name": "LayoutModel",
      "state": {
       "_model_module": "@jupyter-widgets/base",
       "_model_module_version": "1.2.0",
       "_model_name": "LayoutModel",
       "_view_count": null,
       "_view_module": "@jupyter-widgets/base",
       "_view_module_version": "1.2.0",
       "_view_name": "LayoutView",
       "align_content": null,
       "align_items": null,
       "align_self": null,
       "border": null,
       "bottom": null,
       "display": null,
       "flex": null,
       "flex_flow": null,
       "grid_area": null,
       "grid_auto_columns": null,
       "grid_auto_flow": null,
       "grid_auto_rows": null,
       "grid_column": null,
       "grid_gap": null,
       "grid_row": null,
       "grid_template_areas": null,
       "grid_template_columns": null,
       "grid_template_rows": null,
       "height": null,
       "justify_content": null,
       "justify_items": null,
       "left": null,
       "margin": null,
       "max_height": null,
       "max_width": null,
       "min_height": null,
       "min_width": null,
       "object_fit": null,
       "object_position": null,
       "order": null,
       "overflow": null,
       "overflow_x": null,
       "overflow_y": null,
       "padding": null,
       "right": null,
       "top": null,
       "visibility": null,
       "width": null
      }
     },
     "3a505a342eb3426491d055332bebef11": {
      "model_module": "@jupyter-widgets/controls",
      "model_module_version": "1.5.0",
      "model_name": "ProgressStyleModel",
      "state": {
       "_model_module": "@jupyter-widgets/controls",
       "_model_module_version": "1.5.0",
       "_model_name": "ProgressStyleModel",
       "_view_count": null,
       "_view_module": "@jupyter-widgets/base",
       "_view_module_version": "1.2.0",
       "_view_name": "StyleView",
       "bar_color": null,
       "description_width": ""
      }
     },
     "422eb5988cfe44869fdda8ca78a11017": {
      "model_module": "@jupyter-widgets/base",
      "model_module_version": "1.2.0",
      "model_name": "LayoutModel",
      "state": {
       "_model_module": "@jupyter-widgets/base",
       "_model_module_version": "1.2.0",
       "_model_name": "LayoutModel",
       "_view_count": null,
       "_view_module": "@jupyter-widgets/base",
       "_view_module_version": "1.2.0",
       "_view_name": "LayoutView",
       "align_content": null,
       "align_items": null,
       "align_self": null,
       "border": null,
       "bottom": null,
       "display": null,
       "flex": null,
       "flex_flow": null,
       "grid_area": null,
       "grid_auto_columns": null,
       "grid_auto_flow": null,
       "grid_auto_rows": null,
       "grid_column": null,
       "grid_gap": null,
       "grid_row": null,
       "grid_template_areas": null,
       "grid_template_columns": null,
       "grid_template_rows": null,
       "height": null,
       "justify_content": null,
       "justify_items": null,
       "left": null,
       "margin": null,
       "max_height": null,
       "max_width": null,
       "min_height": null,
       "min_width": null,
       "object_fit": null,
       "object_position": null,
       "order": null,
       "overflow": null,
       "overflow_x": null,
       "overflow_y": null,
       "padding": null,
       "right": null,
       "top": null,
       "visibility": null,
       "width": null
      }
     },
     "47b40bcf39f946d8a617c993e6a47113": {
      "model_module": "@jupyter-widgets/controls",
      "model_module_version": "1.5.0",
      "model_name": "DescriptionStyleModel",
      "state": {
       "_model_module": "@jupyter-widgets/controls",
       "_model_module_version": "1.5.0",
       "_model_name": "DescriptionStyleModel",
       "_view_count": null,
       "_view_module": "@jupyter-widgets/base",
       "_view_module_version": "1.2.0",
       "_view_name": "StyleView",
       "description_width": ""
      }
     },
     "4b2e9966f77a4f4dac6a1d3fec312d7a": {
      "model_module": "@jupyter-widgets/base",
      "model_module_version": "1.2.0",
      "model_name": "LayoutModel",
      "state": {
       "_model_module": "@jupyter-widgets/base",
       "_model_module_version": "1.2.0",
       "_model_name": "LayoutModel",
       "_view_count": null,
       "_view_module": "@jupyter-widgets/base",
       "_view_module_version": "1.2.0",
       "_view_name": "LayoutView",
       "align_content": null,
       "align_items": null,
       "align_self": null,
       "border": null,
       "bottom": null,
       "display": null,
       "flex": null,
       "flex_flow": null,
       "grid_area": null,
       "grid_auto_columns": null,
       "grid_auto_flow": null,
       "grid_auto_rows": null,
       "grid_column": null,
       "grid_gap": null,
       "grid_row": null,
       "grid_template_areas": null,
       "grid_template_columns": null,
       "grid_template_rows": null,
       "height": null,
       "justify_content": null,
       "justify_items": null,
       "left": null,
       "margin": null,
       "max_height": null,
       "max_width": null,
       "min_height": null,
       "min_width": null,
       "object_fit": null,
       "object_position": null,
       "order": null,
       "overflow": null,
       "overflow_x": null,
       "overflow_y": null,
       "padding": null,
       "right": null,
       "top": null,
       "visibility": null,
       "width": null
      }
     },
     "4e2f4bfe78e045e28ba2e04f8b205ed5": {
      "model_module": "@jupyter-widgets/base",
      "model_module_version": "1.2.0",
      "model_name": "LayoutModel",
      "state": {
       "_model_module": "@jupyter-widgets/base",
       "_model_module_version": "1.2.0",
       "_model_name": "LayoutModel",
       "_view_count": null,
       "_view_module": "@jupyter-widgets/base",
       "_view_module_version": "1.2.0",
       "_view_name": "LayoutView",
       "align_content": null,
       "align_items": null,
       "align_self": null,
       "border": null,
       "bottom": null,
       "display": null,
       "flex": null,
       "flex_flow": null,
       "grid_area": null,
       "grid_auto_columns": null,
       "grid_auto_flow": null,
       "grid_auto_rows": null,
       "grid_column": null,
       "grid_gap": null,
       "grid_row": null,
       "grid_template_areas": null,
       "grid_template_columns": null,
       "grid_template_rows": null,
       "height": null,
       "justify_content": null,
       "justify_items": null,
       "left": null,
       "margin": null,
       "max_height": null,
       "max_width": null,
       "min_height": null,
       "min_width": null,
       "object_fit": null,
       "object_position": null,
       "order": null,
       "overflow": null,
       "overflow_x": null,
       "overflow_y": null,
       "padding": null,
       "right": null,
       "top": null,
       "visibility": null,
       "width": null
      }
     },
     "4e9bda0654a64dd5932a894e1685aec2": {
      "model_module": "@jupyter-widgets/controls",
      "model_module_version": "1.5.0",
      "model_name": "HTMLModel",
      "state": {
       "_dom_classes": [],
       "_model_module": "@jupyter-widgets/controls",
       "_model_module_version": "1.5.0",
       "_model_name": "HTMLModel",
       "_view_count": null,
       "_view_module": "@jupyter-widgets/controls",
       "_view_module_version": "1.5.0",
       "_view_name": "HTMLView",
       "description": "",
       "description_tooltip": null,
       "layout": "IPY_MODEL_2fd4ec9348de48ce8614d8c3102ea18c",
       "placeholder": "​",
       "style": "IPY_MODEL_1ea404fde02341b593859f718610d906",
       "value": "vocab.txt: 100%"
      }
     },
     "504322e4479b437190e720bea2385eda": {
      "model_module": "@jupyter-widgets/controls",
      "model_module_version": "1.5.0",
      "model_name": "DescriptionStyleModel",
      "state": {
       "_model_module": "@jupyter-widgets/controls",
       "_model_module_version": "1.5.0",
       "_model_name": "DescriptionStyleModel",
       "_view_count": null,
       "_view_module": "@jupyter-widgets/base",
       "_view_module_version": "1.2.0",
       "_view_name": "StyleView",
       "description_width": ""
      }
     },
     "5840d109ce0b4c6f84f8f817c08a5527": {
      "model_module": "@jupyter-widgets/controls",
      "model_module_version": "1.5.0",
      "model_name": "DescriptionStyleModel",
      "state": {
       "_model_module": "@jupyter-widgets/controls",
       "_model_module_version": "1.5.0",
       "_model_name": "DescriptionStyleModel",
       "_view_count": null,
       "_view_module": "@jupyter-widgets/base",
       "_view_module_version": "1.2.0",
       "_view_name": "StyleView",
       "description_width": ""
      }
     },
     "608ef3c790c044f796be78b689b94f45": {
      "model_module": "@jupyter-widgets/controls",
      "model_module_version": "1.5.0",
      "model_name": "FloatProgressModel",
      "state": {
       "_dom_classes": [],
       "_model_module": "@jupyter-widgets/controls",
       "_model_module_version": "1.5.0",
       "_model_name": "FloatProgressModel",
       "_view_count": null,
       "_view_module": "@jupyter-widgets/controls",
       "_view_module_version": "1.5.0",
       "_view_name": "ProgressView",
       "bar_style": "success",
       "description": "",
       "description_tooltip": null,
       "layout": "IPY_MODEL_13a20907ea0543b4beb492021fb4b13b",
       "max": 570.0,
       "min": 0.0,
       "orientation": "horizontal",
       "style": "IPY_MODEL_81a0b49832d240c5bfc25a60ceff504d",
       "value": 570.0
      }
     },
     "625fdd5dd6e143e6afe4a7f4bb6ef426": {
      "model_module": "@jupyter-widgets/controls",
      "model_module_version": "1.5.0",
      "model_name": "FloatProgressModel",
      "state": {
       "_dom_classes": [],
       "_model_module": "@jupyter-widgets/controls",
       "_model_module_version": "1.5.0",
       "_model_name": "FloatProgressModel",
       "_view_count": null,
       "_view_module": "@jupyter-widgets/controls",
       "_view_module_version": "1.5.0",
       "_view_name": "ProgressView",
       "bar_style": "success",
       "description": "",
       "description_tooltip": null,
       "layout": "IPY_MODEL_d5f51e2aad324ba2b4848aff9f3b455e",
       "max": 213450.0,
       "min": 0.0,
       "orientation": "horizontal",
       "style": "IPY_MODEL_3a505a342eb3426491d055332bebef11",
       "value": 213450.0
      }
     },
     "628d42a27df243339f1332140654919a": {
      "model_module": "@jupyter-widgets/controls",
      "model_module_version": "1.5.0",
      "model_name": "HTMLModel",
      "state": {
       "_dom_classes": [],
       "_model_module": "@jupyter-widgets/controls",
       "_model_module_version": "1.5.0",
       "_model_name": "HTMLModel",
       "_view_count": null,
       "_view_module": "@jupyter-widgets/controls",
       "_view_module_version": "1.5.0",
       "_view_name": "HTMLView",
       "description": "",
       "description_tooltip": null,
       "layout": "IPY_MODEL_b3c8569bef4d43768aa47674f2d5b18d",
       "placeholder": "​",
       "style": "IPY_MODEL_d0b6983d00f34bf2abae40f26eeb28c3",
       "value": "model.safetensors: 100%"
      }
     },
     "62c641fa0f464e5abe9925e1953e4eec": {
      "model_module": "@jupyter-widgets/base",
      "model_module_version": "1.2.0",
      "model_name": "LayoutModel",
      "state": {
       "_model_module": "@jupyter-widgets/base",
       "_model_module_version": "1.2.0",
       "_model_name": "LayoutModel",
       "_view_count": null,
       "_view_module": "@jupyter-widgets/base",
       "_view_module_version": "1.2.0",
       "_view_name": "LayoutView",
       "align_content": null,
       "align_items": null,
       "align_self": null,
       "border": null,
       "bottom": null,
       "display": null,
       "flex": null,
       "flex_flow": null,
       "grid_area": null,
       "grid_auto_columns": null,
       "grid_auto_flow": null,
       "grid_auto_rows": null,
       "grid_column": null,
       "grid_gap": null,
       "grid_row": null,
       "grid_template_areas": null,
       "grid_template_columns": null,
       "grid_template_rows": null,
       "height": null,
       "justify_content": null,
       "justify_items": null,
       "left": null,
       "margin": null,
       "max_height": null,
       "max_width": null,
       "min_height": null,
       "min_width": null,
       "object_fit": null,
       "object_position": null,
       "order": null,
       "overflow": null,
       "overflow_x": null,
       "overflow_y": null,
       "padding": null,
       "right": null,
       "top": null,
       "visibility": null,
       "width": null
      }
     },
     "6ed3fd0bcf834f55967157380e72f4a8": {
      "model_module": "@jupyter-widgets/controls",
      "model_module_version": "1.5.0",
      "model_name": "HBoxModel",
      "state": {
       "_dom_classes": [],
       "_model_module": "@jupyter-widgets/controls",
       "_model_module_version": "1.5.0",
       "_model_name": "HBoxModel",
       "_view_count": null,
       "_view_module": "@jupyter-widgets/controls",
       "_view_module_version": "1.5.0",
       "_view_name": "HBoxView",
       "box_style": "",
       "children": [
        "IPY_MODEL_4e9bda0654a64dd5932a894e1685aec2",
        "IPY_MODEL_625fdd5dd6e143e6afe4a7f4bb6ef426",
        "IPY_MODEL_9a0db863f63a45a0a292749005987b14"
       ],
       "layout": "IPY_MODEL_3281a4fa215f4c08bd2d3394e346b191"
      }
     },
     "70cc2c861faf4985973a72b71f569843": {
      "model_module": "@jupyter-widgets/controls",
      "model_module_version": "1.5.0",
      "model_name": "DescriptionStyleModel",
      "state": {
       "_model_module": "@jupyter-widgets/controls",
       "_model_module_version": "1.5.0",
       "_model_name": "DescriptionStyleModel",
       "_view_count": null,
       "_view_module": "@jupyter-widgets/base",
       "_view_module_version": "1.2.0",
       "_view_name": "StyleView",
       "description_width": ""
      }
     },
     "81a0b49832d240c5bfc25a60ceff504d": {
      "model_module": "@jupyter-widgets/controls",
      "model_module_version": "1.5.0",
      "model_name": "ProgressStyleModel",
      "state": {
       "_model_module": "@jupyter-widgets/controls",
       "_model_module_version": "1.5.0",
       "_model_name": "ProgressStyleModel",
       "_view_count": null,
       "_view_module": "@jupyter-widgets/base",
       "_view_module_version": "1.2.0",
       "_view_name": "StyleView",
       "bar_color": null,
       "description_width": ""
      }
     },
     "89077ecb4694434fa95965256b54de32": {
      "model_module": "@jupyter-widgets/base",
      "model_module_version": "1.2.0",
      "model_name": "LayoutModel",
      "state": {
       "_model_module": "@jupyter-widgets/base",
       "_model_module_version": "1.2.0",
       "_model_name": "LayoutModel",
       "_view_count": null,
       "_view_module": "@jupyter-widgets/base",
       "_view_module_version": "1.2.0",
       "_view_name": "LayoutView",
       "align_content": null,
       "align_items": null,
       "align_self": null,
       "border": null,
       "bottom": null,
       "display": null,
       "flex": null,
       "flex_flow": null,
       "grid_area": null,
       "grid_auto_columns": null,
       "grid_auto_flow": null,
       "grid_auto_rows": null,
       "grid_column": null,
       "grid_gap": null,
       "grid_row": null,
       "grid_template_areas": null,
       "grid_template_columns": null,
       "grid_template_rows": null,
       "height": null,
       "justify_content": null,
       "justify_items": null,
       "left": null,
       "margin": null,
       "max_height": null,
       "max_width": null,
       "min_height": null,
       "min_width": null,
       "object_fit": null,
       "object_position": null,
       "order": null,
       "overflow": null,
       "overflow_x": null,
       "overflow_y": null,
       "padding": null,
       "right": null,
       "top": null,
       "visibility": null,
       "width": null
      }
     },
     "8e5cbba9d3cf4fd19a061f6158a79785": {
      "model_module": "@jupyter-widgets/controls",
      "model_module_version": "1.5.0",
      "model_name": "FloatProgressModel",
      "state": {
       "_dom_classes": [],
       "_model_module": "@jupyter-widgets/controls",
       "_model_module_version": "1.5.0",
       "_model_name": "FloatProgressModel",
       "_view_count": null,
       "_view_module": "@jupyter-widgets/controls",
       "_view_module_version": "1.5.0",
       "_view_name": "ProgressView",
       "bar_style": "success",
       "description": "",
       "description_tooltip": null,
       "layout": "IPY_MODEL_4b2e9966f77a4f4dac6a1d3fec312d7a",
       "max": 435755784.0,
       "min": 0.0,
       "orientation": "horizontal",
       "style": "IPY_MODEL_037042ab0b1d4a63b5cac2e9f3dd584a",
       "value": 435755784.0
      }
     },
     "9a0db863f63a45a0a292749005987b14": {
      "model_module": "@jupyter-widgets/controls",
      "model_module_version": "1.5.0",
      "model_name": "HTMLModel",
      "state": {
       "_dom_classes": [],
       "_model_module": "@jupyter-widgets/controls",
       "_model_module_version": "1.5.0",
       "_model_name": "HTMLModel",
       "_view_count": null,
       "_view_module": "@jupyter-widgets/controls",
       "_view_module_version": "1.5.0",
       "_view_name": "HTMLView",
       "description": "",
       "description_tooltip": null,
       "layout": "IPY_MODEL_e58198e895b34af4850207260fdc8bba",
       "placeholder": "​",
       "style": "IPY_MODEL_504322e4479b437190e720bea2385eda",
       "value": " 213k/213k [00:00&lt;00:00, 5.10MB/s]"
      }
     },
     "9fcd6f2a3acf4e0586aa4f59d2d2c6b8": {
      "model_module": "@jupyter-widgets/controls",
      "model_module_version": "1.5.0",
      "model_name": "ProgressStyleModel",
      "state": {
       "_model_module": "@jupyter-widgets/controls",
       "_model_module_version": "1.5.0",
       "_model_name": "ProgressStyleModel",
       "_view_count": null,
       "_view_module": "@jupyter-widgets/base",
       "_view_module_version": "1.2.0",
       "_view_name": "StyleView",
       "bar_color": null,
       "description_width": ""
      }
     },
     "ab2e23f7605b448883cb509283cb781a": {
      "model_module": "@jupyter-widgets/controls",
      "model_module_version": "1.5.0",
      "model_name": "HTMLModel",
      "state": {
       "_dom_classes": [],
       "_model_module": "@jupyter-widgets/controls",
       "_model_module_version": "1.5.0",
       "_model_name": "HTMLModel",
       "_view_count": null,
       "_view_module": "@jupyter-widgets/controls",
       "_view_module_version": "1.5.0",
       "_view_name": "HTMLView",
       "description": "",
       "description_tooltip": null,
       "layout": "IPY_MODEL_62c641fa0f464e5abe9925e1953e4eec",
       "placeholder": "​",
       "style": "IPY_MODEL_47b40bcf39f946d8a617c993e6a47113",
       "value": "config.json: 100%"
      }
     },
     "aca37a6af9ad4fe39d2228a367d216a6": {
      "model_module": "@jupyter-widgets/base",
      "model_module_version": "1.2.0",
      "model_name": "LayoutModel",
      "state": {
       "_model_module": "@jupyter-widgets/base",
       "_model_module_version": "1.2.0",
       "_model_name": "LayoutModel",
       "_view_count": null,
       "_view_module": "@jupyter-widgets/base",
       "_view_module_version": "1.2.0",
       "_view_name": "LayoutView",
       "align_content": null,
       "align_items": null,
       "align_self": null,
       "border": null,
       "bottom": null,
       "display": null,
       "flex": null,
       "flex_flow": null,
       "grid_area": null,
       "grid_auto_columns": null,
       "grid_auto_flow": null,
       "grid_auto_rows": null,
       "grid_column": null,
       "grid_gap": null,
       "grid_row": null,
       "grid_template_areas": null,
       "grid_template_columns": null,
       "grid_template_rows": null,
       "height": null,
       "justify_content": null,
       "justify_items": null,
       "left": null,
       "margin": null,
       "max_height": null,
       "max_width": null,
       "min_height": null,
       "min_width": null,
       "object_fit": null,
       "object_position": null,
       "order": null,
       "overflow": null,
       "overflow_x": null,
       "overflow_y": null,
       "padding": null,
       "right": null,
       "top": null,
       "visibility": null,
       "width": null
      }
     },
     "af286e49ad694f77a7839ccaa05366b5": {
      "model_module": "@jupyter-widgets/controls",
      "model_module_version": "1.5.0",
      "model_name": "DescriptionStyleModel",
      "state": {
       "_model_module": "@jupyter-widgets/controls",
       "_model_module_version": "1.5.0",
       "_model_name": "DescriptionStyleModel",
       "_view_count": null,
       "_view_module": "@jupyter-widgets/base",
       "_view_module_version": "1.2.0",
       "_view_name": "StyleView",
       "description_width": ""
      }
     },
     "afc6ef2086174077aea35b50cb0afcdf": {
      "model_module": "@jupyter-widgets/controls",
      "model_module_version": "1.5.0",
      "model_name": "HTMLModel",
      "state": {
       "_dom_classes": [],
       "_model_module": "@jupyter-widgets/controls",
       "_model_module_version": "1.5.0",
       "_model_name": "HTMLModel",
       "_view_count": null,
       "_view_module": "@jupyter-widgets/controls",
       "_view_module_version": "1.5.0",
       "_view_name": "HTMLView",
       "description": "",
       "description_tooltip": null,
       "layout": "IPY_MODEL_aca37a6af9ad4fe39d2228a367d216a6",
       "placeholder": "​",
       "style": "IPY_MODEL_f71c988413d641a286cf5edd12f1a7a7",
       "value": "tokenizer_config.json: 100%"
      }
     },
     "b3c8569bef4d43768aa47674f2d5b18d": {
      "model_module": "@jupyter-widgets/base",
      "model_module_version": "1.2.0",
      "model_name": "LayoutModel",
      "state": {
       "_model_module": "@jupyter-widgets/base",
       "_model_module_version": "1.2.0",
       "_model_name": "LayoutModel",
       "_view_count": null,
       "_view_module": "@jupyter-widgets/base",
       "_view_module_version": "1.2.0",
       "_view_name": "LayoutView",
       "align_content": null,
       "align_items": null,
       "align_self": null,
       "border": null,
       "bottom": null,
       "display": null,
       "flex": null,
       "flex_flow": null,
       "grid_area": null,
       "grid_auto_columns": null,
       "grid_auto_flow": null,
       "grid_auto_rows": null,
       "grid_column": null,
       "grid_gap": null,
       "grid_row": null,
       "grid_template_areas": null,
       "grid_template_columns": null,
       "grid_template_rows": null,
       "height": null,
       "justify_content": null,
       "justify_items": null,
       "left": null,
       "margin": null,
       "max_height": null,
       "max_width": null,
       "min_height": null,
       "min_width": null,
       "object_fit": null,
       "object_position": null,
       "order": null,
       "overflow": null,
       "overflow_x": null,
       "overflow_y": null,
       "padding": null,
       "right": null,
       "top": null,
       "visibility": null,
       "width": null
      }
     },
     "b3de308152a140cc973f0a4195e63bbb": {
      "model_module": "@jupyter-widgets/controls",
      "model_module_version": "1.5.0",
      "model_name": "DescriptionStyleModel",
      "state": {
       "_model_module": "@jupyter-widgets/controls",
       "_model_module_version": "1.5.0",
       "_model_name": "DescriptionStyleModel",
       "_view_count": null,
       "_view_module": "@jupyter-widgets/base",
       "_view_module_version": "1.2.0",
       "_view_name": "StyleView",
       "description_width": ""
      }
     },
     "b46c42ac6a694886a1076f7c733f3967": {
      "model_module": "@jupyter-widgets/base",
      "model_module_version": "1.2.0",
      "model_name": "LayoutModel",
      "state": {
       "_model_module": "@jupyter-widgets/base",
       "_model_module_version": "1.2.0",
       "_model_name": "LayoutModel",
       "_view_count": null,
       "_view_module": "@jupyter-widgets/base",
       "_view_module_version": "1.2.0",
       "_view_name": "LayoutView",
       "align_content": null,
       "align_items": null,
       "align_self": null,
       "border": null,
       "bottom": null,
       "display": null,
       "flex": null,
       "flex_flow": null,
       "grid_area": null,
       "grid_auto_columns": null,
       "grid_auto_flow": null,
       "grid_auto_rows": null,
       "grid_column": null,
       "grid_gap": null,
       "grid_row": null,
       "grid_template_areas": null,
       "grid_template_columns": null,
       "grid_template_rows": null,
       "height": null,
       "justify_content": null,
       "justify_items": null,
       "left": null,
       "margin": null,
       "max_height": null,
       "max_width": null,
       "min_height": null,
       "min_width": null,
       "object_fit": null,
       "object_position": null,
       "order": null,
       "overflow": null,
       "overflow_x": null,
       "overflow_y": null,
       "padding": null,
       "right": null,
       "top": null,
       "visibility": null,
       "width": null
      }
     },
     "c64d42450e1442ffbbc3d3cbe796f758": {
      "model_module": "@jupyter-widgets/controls",
      "model_module_version": "1.5.0",
      "model_name": "HTMLModel",
      "state": {
       "_dom_classes": [],
       "_model_module": "@jupyter-widgets/controls",
       "_model_module_version": "1.5.0",
       "_model_name": "HTMLModel",
       "_view_count": null,
       "_view_module": "@jupyter-widgets/controls",
       "_view_module_version": "1.5.0",
       "_view_name": "HTMLView",
       "description": "",
       "description_tooltip": null,
       "layout": "IPY_MODEL_f9632750f50b46729f8e4cc46e202a8c",
       "placeholder": "​",
       "style": "IPY_MODEL_5840d109ce0b4c6f84f8f817c08a5527",
       "value": " 436k/436k [00:00&lt;00:00, 19.9MB/s]"
      }
     },
     "c7d003b88f7f44b9a7a84626bcb5ca13": {
      "model_module": "@jupyter-widgets/controls",
      "model_module_version": "1.5.0",
      "model_name": "HBoxModel",
      "state": {
       "_dom_classes": [],
       "_model_module": "@jupyter-widgets/controls",
       "_model_module_version": "1.5.0",
       "_model_name": "HBoxModel",
       "_view_count": null,
       "_view_module": "@jupyter-widgets/controls",
       "_view_module_version": "1.5.0",
       "_view_name": "HBoxView",
       "box_style": "",
       "children": [
        "IPY_MODEL_afc6ef2086174077aea35b50cb0afcdf",
        "IPY_MODEL_ca02bd5b3a3142ecb97e23a3d5e4345a",
        "IPY_MODEL_eb9e818000d341e7860f9636efd1a87d"
       ],
       "layout": "IPY_MODEL_03023f5220ea4f309126ce2871dda092"
      }
     },
     "c95028bd0d6e4afd82dc1fdfe0523d31": {
      "model_module": "@jupyter-widgets/base",
      "model_module_version": "1.2.0",
      "model_name": "LayoutModel",
      "state": {
       "_model_module": "@jupyter-widgets/base",
       "_model_module_version": "1.2.0",
       "_model_name": "LayoutModel",
       "_view_count": null,
       "_view_module": "@jupyter-widgets/base",
       "_view_module_version": "1.2.0",
       "_view_name": "LayoutView",
       "align_content": null,
       "align_items": null,
       "align_self": null,
       "border": null,
       "bottom": null,
       "display": null,
       "flex": null,
       "flex_flow": null,
       "grid_area": null,
       "grid_auto_columns": null,
       "grid_auto_flow": null,
       "grid_auto_rows": null,
       "grid_column": null,
       "grid_gap": null,
       "grid_row": null,
       "grid_template_areas": null,
       "grid_template_columns": null,
       "grid_template_rows": null,
       "height": null,
       "justify_content": null,
       "justify_items": null,
       "left": null,
       "margin": null,
       "max_height": null,
       "max_width": null,
       "min_height": null,
       "min_width": null,
       "object_fit": null,
       "object_position": null,
       "order": null,
       "overflow": null,
       "overflow_x": null,
       "overflow_y": null,
       "padding": null,
       "right": null,
       "top": null,
       "visibility": null,
       "width": null
      }
     },
     "ca02bd5b3a3142ecb97e23a3d5e4345a": {
      "model_module": "@jupyter-widgets/controls",
      "model_module_version": "1.5.0",
      "model_name": "FloatProgressModel",
      "state": {
       "_dom_classes": [],
       "_model_module": "@jupyter-widgets/controls",
       "_model_module_version": "1.5.0",
       "_model_name": "FloatProgressModel",
       "_view_count": null,
       "_view_module": "@jupyter-widgets/controls",
       "_view_module_version": "1.5.0",
       "_view_name": "ProgressView",
       "bar_style": "success",
       "description": "",
       "description_tooltip": null,
       "layout": "IPY_MODEL_1f189f78a44440d492a9a822be3f880d",
       "max": 29.0,
       "min": 0.0,
       "orientation": "horizontal",
       "style": "IPY_MODEL_9fcd6f2a3acf4e0586aa4f59d2d2c6b8",
       "value": 29.0
      }
     },
     "cacf01fc45764846b7f78b4d1cbe1042": {
      "model_module": "@jupyter-widgets/controls",
      "model_module_version": "1.5.0",
      "model_name": "HTMLModel",
      "state": {
       "_dom_classes": [],
       "_model_module": "@jupyter-widgets/controls",
       "_model_module_version": "1.5.0",
       "_model_name": "HTMLModel",
       "_view_count": null,
       "_view_module": "@jupyter-widgets/controls",
       "_view_module_version": "1.5.0",
       "_view_name": "HTMLView",
       "description": "",
       "description_tooltip": null,
       "layout": "IPY_MODEL_21077c5513054429a6f20c3ee411f73e",
       "placeholder": "​",
       "style": "IPY_MODEL_70cc2c861faf4985973a72b71f569843",
       "value": " 570/570 [00:00&lt;00:00, 60.6kB/s]"
      }
     },
     "d0b6983d00f34bf2abae40f26eeb28c3": {
      "model_module": "@jupyter-widgets/controls",
      "model_module_version": "1.5.0",
      "model_name": "DescriptionStyleModel",
      "state": {
       "_model_module": "@jupyter-widgets/controls",
       "_model_module_version": "1.5.0",
       "_model_name": "DescriptionStyleModel",
       "_view_count": null,
       "_view_module": "@jupyter-widgets/base",
       "_view_module_version": "1.2.0",
       "_view_name": "StyleView",
       "description_width": ""
      }
     },
     "d2ef3a9eba5d47de8a01aa85c7926118": {
      "model_module": "@jupyter-widgets/controls",
      "model_module_version": "1.5.0",
      "model_name": "HBoxModel",
      "state": {
       "_dom_classes": [],
       "_model_module": "@jupyter-widgets/controls",
       "_model_module_version": "1.5.0",
       "_model_name": "HBoxModel",
       "_view_count": null,
       "_view_module": "@jupyter-widgets/controls",
       "_view_module_version": "1.5.0",
       "_view_name": "HBoxView",
       "box_style": "",
       "children": [
        "IPY_MODEL_628d42a27df243339f1332140654919a",
        "IPY_MODEL_8e5cbba9d3cf4fd19a061f6158a79785",
        "IPY_MODEL_d95284921f8c40239508948c038dca4d"
       ],
       "layout": "IPY_MODEL_ebbe7185a83a427ebc03f28b06f6ea56"
      }
     },
     "d5f51e2aad324ba2b4848aff9f3b455e": {
      "model_module": "@jupyter-widgets/base",
      "model_module_version": "1.2.0",
      "model_name": "LayoutModel",
      "state": {
       "_model_module": "@jupyter-widgets/base",
       "_model_module_version": "1.2.0",
       "_model_name": "LayoutModel",
       "_view_count": null,
       "_view_module": "@jupyter-widgets/base",
       "_view_module_version": "1.2.0",
       "_view_name": "LayoutView",
       "align_content": null,
       "align_items": null,
       "align_self": null,
       "border": null,
       "bottom": null,
       "display": null,
       "flex": null,
       "flex_flow": null,
       "grid_area": null,
       "grid_auto_columns": null,
       "grid_auto_flow": null,
       "grid_auto_rows": null,
       "grid_column": null,
       "grid_gap": null,
       "grid_row": null,
       "grid_template_areas": null,
       "grid_template_columns": null,
       "grid_template_rows": null,
       "height": null,
       "justify_content": null,
       "justify_items": null,
       "left": null,
       "margin": null,
       "max_height": null,
       "max_width": null,
       "min_height": null,
       "min_width": null,
       "object_fit": null,
       "object_position": null,
       "order": null,
       "overflow": null,
       "overflow_x": null,
       "overflow_y": null,
       "padding": null,
       "right": null,
       "top": null,
       "visibility": null,
       "width": null
      }
     },
     "d95284921f8c40239508948c038dca4d": {
      "model_module": "@jupyter-widgets/controls",
      "model_module_version": "1.5.0",
      "model_name": "HTMLModel",
      "state": {
       "_dom_classes": [],
       "_model_module": "@jupyter-widgets/controls",
       "_model_module_version": "1.5.0",
       "_model_name": "HTMLModel",
       "_view_count": null,
       "_view_module": "@jupyter-widgets/controls",
       "_view_module_version": "1.5.0",
       "_view_name": "HTMLView",
       "description": "",
       "description_tooltip": null,
       "layout": "IPY_MODEL_c95028bd0d6e4afd82dc1fdfe0523d31",
       "placeholder": "​",
       "style": "IPY_MODEL_b3de308152a140cc973f0a4195e63bbb",
       "value": " 436M/436M [00:02&lt;00:00, 223MB/s]"
      }
     },
     "ddcd943fc29d4a08ab5ed024c0b8f391": {
      "model_module": "@jupyter-widgets/controls",
      "model_module_version": "1.5.0",
      "model_name": "HBoxModel",
      "state": {
       "_dom_classes": [],
       "_model_module": "@jupyter-widgets/controls",
       "_model_module_version": "1.5.0",
       "_model_name": "HBoxModel",
       "_view_count": null,
       "_view_module": "@jupyter-widgets/controls",
       "_view_module_version": "1.5.0",
       "_view_name": "HBoxView",
       "box_style": "",
       "children": [
        "IPY_MODEL_ab2e23f7605b448883cb509283cb781a",
        "IPY_MODEL_608ef3c790c044f796be78b689b94f45",
        "IPY_MODEL_cacf01fc45764846b7f78b4d1cbe1042"
       ],
       "layout": "IPY_MODEL_89077ecb4694434fa95965256b54de32"
      }
     },
     "e58198e895b34af4850207260fdc8bba": {
      "model_module": "@jupyter-widgets/base",
      "model_module_version": "1.2.0",
      "model_name": "LayoutModel",
      "state": {
       "_model_module": "@jupyter-widgets/base",
       "_model_module_version": "1.2.0",
       "_model_name": "LayoutModel",
       "_view_count": null,
       "_view_module": "@jupyter-widgets/base",
       "_view_module_version": "1.2.0",
       "_view_name": "LayoutView",
       "align_content": null,
       "align_items": null,
       "align_self": null,
       "border": null,
       "bottom": null,
       "display": null,
       "flex": null,
       "flex_flow": null,
       "grid_area": null,
       "grid_auto_columns": null,
       "grid_auto_flow": null,
       "grid_auto_rows": null,
       "grid_column": null,
       "grid_gap": null,
       "grid_row": null,
       "grid_template_areas": null,
       "grid_template_columns": null,
       "grid_template_rows": null,
       "height": null,
       "justify_content": null,
       "justify_items": null,
       "left": null,
       "margin": null,
       "max_height": null,
       "max_width": null,
       "min_height": null,
       "min_width": null,
       "object_fit": null,
       "object_position": null,
       "order": null,
       "overflow": null,
       "overflow_x": null,
       "overflow_y": null,
       "padding": null,
       "right": null,
       "top": null,
       "visibility": null,
       "width": null
      }
     },
     "eb9e818000d341e7860f9636efd1a87d": {
      "model_module": "@jupyter-widgets/controls",
      "model_module_version": "1.5.0",
      "model_name": "HTMLModel",
      "state": {
       "_dom_classes": [],
       "_model_module": "@jupyter-widgets/controls",
       "_model_module_version": "1.5.0",
       "_model_name": "HTMLModel",
       "_view_count": null,
       "_view_module": "@jupyter-widgets/controls",
       "_view_module_version": "1.5.0",
       "_view_name": "HTMLView",
       "description": "",
       "description_tooltip": null,
       "layout": "IPY_MODEL_39e5deb01c8e45879375cc99912e7e2d",
       "placeholder": "​",
       "style": "IPY_MODEL_af286e49ad694f77a7839ccaa05366b5",
       "value": " 29.0/29.0 [00:00&lt;00:00, 2.55kB/s]"
      }
     },
     "ebbe7185a83a427ebc03f28b06f6ea56": {
      "model_module": "@jupyter-widgets/base",
      "model_module_version": "1.2.0",
      "model_name": "LayoutModel",
      "state": {
       "_model_module": "@jupyter-widgets/base",
       "_model_module_version": "1.2.0",
       "_model_name": "LayoutModel",
       "_view_count": null,
       "_view_module": "@jupyter-widgets/base",
       "_view_module_version": "1.2.0",
       "_view_name": "LayoutView",
       "align_content": null,
       "align_items": null,
       "align_self": null,
       "border": null,
       "bottom": null,
       "display": null,
       "flex": null,
       "flex_flow": null,
       "grid_area": null,
       "grid_auto_columns": null,
       "grid_auto_flow": null,
       "grid_auto_rows": null,
       "grid_column": null,
       "grid_gap": null,
       "grid_row": null,
       "grid_template_areas": null,
       "grid_template_columns": null,
       "grid_template_rows": null,
       "height": null,
       "justify_content": null,
       "justify_items": null,
       "left": null,
       "margin": null,
       "max_height": null,
       "max_width": null,
       "min_height": null,
       "min_width": null,
       "object_fit": null,
       "object_position": null,
       "order": null,
       "overflow": null,
       "overflow_x": null,
       "overflow_y": null,
       "padding": null,
       "right": null,
       "top": null,
       "visibility": null,
       "width": null
      }
     },
     "ef1dd2b2b0fc4b60b812a22fa1f5d420": {
      "model_module": "@jupyter-widgets/controls",
      "model_module_version": "1.5.0",
      "model_name": "DescriptionStyleModel",
      "state": {
       "_model_module": "@jupyter-widgets/controls",
       "_model_module_version": "1.5.0",
       "_model_name": "DescriptionStyleModel",
       "_view_count": null,
       "_view_module": "@jupyter-widgets/base",
       "_view_module_version": "1.2.0",
       "_view_name": "StyleView",
       "description_width": ""
      }
     },
     "f71c988413d641a286cf5edd12f1a7a7": {
      "model_module": "@jupyter-widgets/controls",
      "model_module_version": "1.5.0",
      "model_name": "DescriptionStyleModel",
      "state": {
       "_model_module": "@jupyter-widgets/controls",
       "_model_module_version": "1.5.0",
       "_model_name": "DescriptionStyleModel",
       "_view_count": null,
       "_view_module": "@jupyter-widgets/base",
       "_view_module_version": "1.2.0",
       "_view_name": "StyleView",
       "description_width": ""
      }
     },
     "f9632750f50b46729f8e4cc46e202a8c": {
      "model_module": "@jupyter-widgets/base",
      "model_module_version": "1.2.0",
      "model_name": "LayoutModel",
      "state": {
       "_model_module": "@jupyter-widgets/base",
       "_model_module_version": "1.2.0",
       "_model_name": "LayoutModel",
       "_view_count": null,
       "_view_module": "@jupyter-widgets/base",
       "_view_module_version": "1.2.0",
       "_view_name": "LayoutView",
       "align_content": null,
       "align_items": null,
       "align_self": null,
       "border": null,
       "bottom": null,
       "display": null,
       "flex": null,
       "flex_flow": null,
       "grid_area": null,
       "grid_auto_columns": null,
       "grid_auto_flow": null,
       "grid_auto_rows": null,
       "grid_column": null,
       "grid_gap": null,
       "grid_row": null,
       "grid_template_areas": null,
       "grid_template_columns": null,
       "grid_template_rows": null,
       "height": null,
       "justify_content": null,
       "justify_items": null,
       "left": null,
       "margin": null,
       "max_height": null,
       "max_width": null,
       "min_height": null,
       "min_width": null,
       "object_fit": null,
       "object_position": null,
       "order": null,
       "overflow": null,
       "overflow_x": null,
       "overflow_y": null,
       "padding": null,
       "right": null,
       "top": null,
       "visibility": null,
       "width": null
      }
     }
    },
    "version_major": 2,
    "version_minor": 0
   }
  }
 },
 "nbformat": 4,
 "nbformat_minor": 5
}
