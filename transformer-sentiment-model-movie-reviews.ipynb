{
 "cells": [
  {
   "cell_type": "code",
   "execution_count": 1,
   "id": "b38c3d87",
   "metadata": {
    "_cell_guid": "b1076dfc-b9ad-4769-8c92-a6c4dae69d19",
    "_uuid": "8f2839f25d086af736a60e9eeb907d3b93b6e0e5",
    "execution": {
     "iopub.execute_input": "2023-12-22T21:37:21.612318Z",
     "iopub.status.busy": "2023-12-22T21:37:21.611966Z",
     "iopub.status.idle": "2023-12-22T21:37:23.464788Z",
     "shell.execute_reply": "2023-12-22T21:37:23.463722Z"
    },
    "papermill": {
     "duration": 1.875765,
     "end_time": "2023-12-22T21:37:23.466923",
     "exception": false,
     "start_time": "2023-12-22T21:37:21.591158",
     "status": "completed"
    },
    "tags": []
   },
   "outputs": [
    {
     "name": "stdout",
     "output_type": "stream",
     "text": [
      "/kaggle/input/dejavusans-bold/DejaVuSans-Bold.ttf\n",
      "/kaggle/input/sentiment-analysis-on-movie-reviews/sampleSubmission.csv\n",
      "/kaggle/input/sentiment-analysis-on-movie-reviews/train.tsv.zip\n",
      "/kaggle/input/sentiment-analysis-on-movie-reviews/test.tsv.zip\n"
     ]
    }
   ],
   "source": [
    "# This Python 3 environment comes with many helpful analytics libraries installed\n",
    "# It is defined by the kaggle/python Docker image: https://github.com/kaggle/docker-python\n",
    "# For example, here's several helpful packages to load\n",
    "\n",
    "import numpy as np # linear algebra\n",
    "import pandas as pd # data processing, CSV file I/O (e.g. pd.read_csv)\n",
    "import matplotlib.pyplot as plt\n",
    "import zipfile\n",
    "import seaborn as sns\n",
    "from wordcloud import WordCloud\n",
    "from collections import Counter\n",
    "# Input data files are available in the read-only \"../input/\" directory\n",
    "# For example, running this (by clicking run or pressing Shift+Enter) will list all files under the input directory\n",
    "\n",
    "import os\n",
    "for dirname, _, filenames in os.walk('/kaggle/input'):\n",
    "    for filename in filenames:\n",
    "        print(os.path.join(dirname, filename))\n",
    "\n",
    "# You can write up to 20GB to the current directory (/kaggle/working/) that gets preserved as output when you create a version using \"Save & Run All\" \n",
    "# You can also write temporary files to /kaggle/temp/, but they won't be saved outside of the current session"
   ]
  },
  {
   "cell_type": "code",
   "execution_count": 2,
   "id": "497c2d0a",
   "metadata": {
    "execution": {
     "iopub.execute_input": "2023-12-22T21:37:23.505684Z",
     "iopub.status.busy": "2023-12-22T21:37:23.504844Z",
     "iopub.status.idle": "2023-12-22T21:37:23.508942Z",
     "shell.execute_reply": "2023-12-22T21:37:23.508154Z"
    },
    "papermill": {
     "duration": 0.025593,
     "end_time": "2023-12-22T21:37:23.510699",
     "exception": false,
     "start_time": "2023-12-22T21:37:23.485106",
     "status": "completed"
    },
    "tags": []
   },
   "outputs": [],
   "source": [
    "dataset_path = \"/kaggle/working/\"\n",
    "font = \"/kaggle/input/dejavusans/DejaVuSans-Bold.ttf\""
   ]
  },
  {
   "cell_type": "markdown",
   "id": "050951e2",
   "metadata": {
    "papermill": {
     "duration": 0.017931,
     "end_time": "2023-12-22T21:37:23.547723",
     "exception": false,
     "start_time": "2023-12-22T21:37:23.529792",
     "status": "completed"
    },
    "tags": []
   },
   "source": [
    "## Extract zip files"
   ]
  },
  {
   "cell_type": "code",
   "execution_count": 3,
   "id": "78b018d8",
   "metadata": {
    "execution": {
     "iopub.execute_input": "2023-12-22T21:37:23.589198Z",
     "iopub.status.busy": "2023-12-22T21:37:23.588545Z",
     "iopub.status.idle": "2023-12-22T21:37:23.593121Z",
     "shell.execute_reply": "2023-12-22T21:37:23.591904Z"
    },
    "papermill": {
     "duration": 0.028473,
     "end_time": "2023-12-22T21:37:23.595511",
     "exception": false,
     "start_time": "2023-12-22T21:37:23.567038",
     "status": "completed"
    },
    "tags": []
   },
   "outputs": [],
   "source": [
    "def extract_file(path):\n",
    "    with zipfile.ZipFile(path,'r') as zipref:\n",
    "        zipref.extractall('./data')"
   ]
  },
  {
   "cell_type": "code",
   "execution_count": 4,
   "id": "89f64343",
   "metadata": {
    "execution": {
     "iopub.execute_input": "2023-12-22T21:37:23.634606Z",
     "iopub.status.busy": "2023-12-22T21:37:23.634006Z",
     "iopub.status.idle": "2023-12-22T21:37:23.719315Z",
     "shell.execute_reply": "2023-12-22T21:37:23.718291Z"
    },
    "papermill": {
     "duration": 0.107406,
     "end_time": "2023-12-22T21:37:23.721594",
     "exception": false,
     "start_time": "2023-12-22T21:37:23.614188",
     "status": "completed"
    },
    "tags": []
   },
   "outputs": [],
   "source": [
    "paths = [\n",
    "    '/kaggle/input/sentiment-analysis-on-movie-reviews/train.tsv.zip',\n",
    "    '/kaggle/input/sentiment-analysis-on-movie-reviews/test.tsv.zip', \n",
    "]\n",
    "_ = [extract_file(path) for path in paths]"
   ]
  },
  {
   "cell_type": "markdown",
   "id": "c537af08",
   "metadata": {
    "papermill": {
     "duration": 0.017525,
     "end_time": "2023-12-22T21:37:23.815198",
     "exception": false,
     "start_time": "2023-12-22T21:37:23.797673",
     "status": "completed"
    },
    "tags": []
   },
   "source": [
    "# Explore Data"
   ]
  },
  {
   "cell_type": "code",
   "execution_count": 5,
   "id": "568d0a93",
   "metadata": {
    "execution": {
     "iopub.execute_input": "2023-12-22T21:37:23.853429Z",
     "iopub.status.busy": "2023-12-22T21:37:23.852101Z",
     "iopub.status.idle": "2023-12-22T21:37:24.116454Z",
     "shell.execute_reply": "2023-12-22T21:37:24.115053Z"
    },
    "papermill": {
     "duration": 0.285921,
     "end_time": "2023-12-22T21:37:24.118931",
     "exception": false,
     "start_time": "2023-12-22T21:37:23.833010",
     "status": "completed"
    },
    "tags": []
   },
   "outputs": [
    {
     "data": {
      "text/html": [
       "<div>\n",
       "<style scoped>\n",
       "    .dataframe tbody tr th:only-of-type {\n",
       "        vertical-align: middle;\n",
       "    }\n",
       "\n",
       "    .dataframe tbody tr th {\n",
       "        vertical-align: top;\n",
       "    }\n",
       "\n",
       "    .dataframe thead th {\n",
       "        text-align: right;\n",
       "    }\n",
       "</style>\n",
       "<table border=\"1\" class=\"dataframe\">\n",
       "  <thead>\n",
       "    <tr style=\"text-align: right;\">\n",
       "      <th></th>\n",
       "      <th>PhraseId</th>\n",
       "      <th>SentenceId</th>\n",
       "      <th>Phrase</th>\n",
       "      <th>Sentiment</th>\n",
       "    </tr>\n",
       "  </thead>\n",
       "  <tbody>\n",
       "    <tr>\n",
       "      <th>0</th>\n",
       "      <td>1</td>\n",
       "      <td>1</td>\n",
       "      <td>A series of escapades demonstrating the adage ...</td>\n",
       "      <td>1</td>\n",
       "    </tr>\n",
       "    <tr>\n",
       "      <th>1</th>\n",
       "      <td>2</td>\n",
       "      <td>1</td>\n",
       "      <td>A series of escapades demonstrating the adage ...</td>\n",
       "      <td>2</td>\n",
       "    </tr>\n",
       "    <tr>\n",
       "      <th>2</th>\n",
       "      <td>3</td>\n",
       "      <td>1</td>\n",
       "      <td>A series</td>\n",
       "      <td>2</td>\n",
       "    </tr>\n",
       "    <tr>\n",
       "      <th>3</th>\n",
       "      <td>4</td>\n",
       "      <td>1</td>\n",
       "      <td>A</td>\n",
       "      <td>2</td>\n",
       "    </tr>\n",
       "    <tr>\n",
       "      <th>4</th>\n",
       "      <td>5</td>\n",
       "      <td>1</td>\n",
       "      <td>series</td>\n",
       "      <td>2</td>\n",
       "    </tr>\n",
       "  </tbody>\n",
       "</table>\n",
       "</div>"
      ],
      "text/plain": [
       "   PhraseId  SentenceId                                             Phrase  \\\n",
       "0         1           1  A series of escapades demonstrating the adage ...   \n",
       "1         2           1  A series of escapades demonstrating the adage ...   \n",
       "2         3           1                                           A series   \n",
       "3         4           1                                                  A   \n",
       "4         5           1                                             series   \n",
       "\n",
       "   Sentiment  \n",
       "0          1  \n",
       "1          2  \n",
       "2          2  \n",
       "3          2  \n",
       "4          2  "
      ]
     },
     "execution_count": 5,
     "metadata": {},
     "output_type": "execute_result"
    }
   ],
   "source": [
    "df = pd.read_csv('./data/train.tsv', sep='\\t')\n",
    "df.head()"
   ]
  },
  {
   "cell_type": "markdown",
   "id": "804518d5",
   "metadata": {
    "papermill": {
     "duration": 0.018058,
     "end_time": "2023-12-22T21:37:24.155453",
     "exception": false,
     "start_time": "2023-12-22T21:37:24.137395",
     "status": "completed"
    },
    "tags": []
   },
   "source": [
    "**The sentiment labels are:**\n",
    "* 0 - negative\n",
    "* 1 - somewhat negative\n",
    "* 2 - neutral\n",
    "* 3 - somewhat positive\n",
    "* 4 - positive"
   ]
  },
  {
   "cell_type": "code",
   "execution_count": 6,
   "id": "49e498dd",
   "metadata": {
    "execution": {
     "iopub.execute_input": "2023-12-22T21:37:24.193824Z",
     "iopub.status.busy": "2023-12-22T21:37:24.193431Z",
     "iopub.status.idle": "2023-12-22T21:37:24.205687Z",
     "shell.execute_reply": "2023-12-22T21:37:24.204305Z"
    },
    "papermill": {
     "duration": 0.034429,
     "end_time": "2023-12-22T21:37:24.208307",
     "exception": false,
     "start_time": "2023-12-22T21:37:24.173878",
     "status": "completed"
    },
    "tags": []
   },
   "outputs": [
    {
     "data": {
      "text/plain": [
       "array([1, 2, 3, 4, 0])"
      ]
     },
     "execution_count": 6,
     "metadata": {},
     "output_type": "execute_result"
    }
   ],
   "source": [
    "df['Sentiment'].unique()"
   ]
  },
  {
   "cell_type": "markdown",
   "id": "074840f4",
   "metadata": {
    "papermill": {
     "duration": 0.01864,
     "end_time": "2023-12-22T21:37:24.245764",
     "exception": false,
     "start_time": "2023-12-22T21:37:24.227124",
     "status": "completed"
    },
    "tags": []
   },
   "source": [
    "## Distribution sentiment classes"
   ]
  },
  {
   "cell_type": "markdown",
   "id": "1da16878",
   "metadata": {
    "papermill": {
     "duration": 0.019488,
     "end_time": "2023-12-22T21:37:24.283849",
     "exception": false,
     "start_time": "2023-12-22T21:37:24.264361",
     "status": "completed"
    },
    "tags": []
   },
   "source": [
    "### Plot handlers"
   ]
  },
  {
   "cell_type": "code",
   "execution_count": 7,
   "id": "35603228",
   "metadata": {
    "execution": {
     "iopub.execute_input": "2023-12-22T21:37:24.322742Z",
     "iopub.status.busy": "2023-12-22T21:37:24.322355Z",
     "iopub.status.idle": "2023-12-22T21:37:24.327808Z",
     "shell.execute_reply": "2023-12-22T21:37:24.326693Z"
    },
    "papermill": {
     "duration": 0.027202,
     "end_time": "2023-12-22T21:37:24.329590",
     "exception": false,
     "start_time": "2023-12-22T21:37:24.302388",
     "status": "completed"
    },
    "tags": []
   },
   "outputs": [],
   "source": [
    "def shpw_distplot(_df, feature):\n",
    "    plt.figure(figsize=(8, 6))\n",
    "    sns.distplot(_df[feature], bins=10, kde=True)\n",
    "    plt.title(f'Distribution of {feature}')\n",
    "    plt.xlabel(feature)\n",
    "    plt.show()"
   ]
  },
  {
   "cell_type": "code",
   "execution_count": 8,
   "id": "d9c7dfec",
   "metadata": {
    "execution": {
     "iopub.execute_input": "2023-12-22T21:37:24.369592Z",
     "iopub.status.busy": "2023-12-22T21:37:24.369282Z",
     "iopub.status.idle": "2023-12-22T21:37:24.375161Z",
     "shell.execute_reply": "2023-12-22T21:37:24.373707Z"
    },
    "papermill": {
     "duration": 0.028673,
     "end_time": "2023-12-22T21:37:24.377891",
     "exception": false,
     "start_time": "2023-12-22T21:37:24.349218",
     "status": "completed"
    },
    "tags": []
   },
   "outputs": [],
   "source": [
    "def generate_wordcloud(all_words, feature, label=\"Most used words in\"):\n",
    "    # Generate word cloud\n",
    "    wordcloud = WordCloud(width = 1000, height = 500, font_path=f'{font}/DejaVuSans-Bold.ttf').generate(' '.join(all_words))\n",
    "\n",
    "    # Plot word cloud\n",
    "    plt.figure(figsize=(15,8))\n",
    "    plt.imshow(wordcloud)\n",
    "    plt.title(f\"{label} {feature}\", size=16)\n",
    "    plt.axis(\"off\")\n",
    "    plt.show()"
   ]
  },
  {
   "cell_type": "code",
   "execution_count": 9,
   "id": "c6dfe2f5",
   "metadata": {
    "execution": {
     "iopub.execute_input": "2023-12-22T21:37:24.417217Z",
     "iopub.status.busy": "2023-12-22T21:37:24.416906Z",
     "iopub.status.idle": "2023-12-22T21:37:24.423911Z",
     "shell.execute_reply": "2023-12-22T21:37:24.422501Z"
    },
    "papermill": {
     "duration": 0.02916,
     "end_time": "2023-12-22T21:37:24.425825",
     "exception": false,
     "start_time": "2023-12-22T21:37:24.396665",
     "status": "completed"
    },
    "tags": []
   },
   "outputs": [],
   "source": [
    "def show_word_ferq(_df, feature, top_words=10):\n",
    "  # Get the top 10 most common words\n",
    "  words = ' '.join(_df[feature]).split()\n",
    "  word_counts = Counter(words)\n",
    "  top_words = word_counts.most_common(top_words)\n",
    "\n",
    "  # Separate the words and their counts\n",
    "  words, counts = zip(*top_words)\n",
    "\n",
    "  # Create the bar plot\n",
    "  fig, (ax1, ax2) = plt.subplots(2, 1, figsize=(16, 10), sharex=True)\n",
    "  ax1.bar(words, counts)\n",
    "  ax1.set_title(f\"{feature} Word Frequency\")\n",
    "\n",
    "  ax2.bar(words, np.log10(counts))\n",
    "  ax2.set_title(f\"{feature} Word Frequency (Log10 Adjusted)\")\n",
    "  plt.show()"
   ]
  },
  {
   "cell_type": "code",
   "execution_count": 10,
   "id": "438b2fd1",
   "metadata": {
    "execution": {
     "iopub.execute_input": "2023-12-22T21:37:24.464357Z",
     "iopub.status.busy": "2023-12-22T21:37:24.463884Z",
     "iopub.status.idle": "2023-12-22T21:37:24.469010Z",
     "shell.execute_reply": "2023-12-22T21:37:24.467495Z"
    },
    "papermill": {
     "duration": 0.027279,
     "end_time": "2023-12-22T21:37:24.471707",
     "exception": false,
     "start_time": "2023-12-22T21:37:24.444428",
     "status": "completed"
    },
    "tags": []
   },
   "outputs": [],
   "source": [
    "def getAllWords(_df, feature):\n",
    "    return pd.Series(' '.join(str(_df[feature]).split()))"
   ]
  },
  {
   "cell_type": "code",
   "execution_count": 11,
   "id": "32a0e72c",
   "metadata": {
    "execution": {
     "iopub.execute_input": "2023-12-22T21:37:24.511140Z",
     "iopub.status.busy": "2023-12-22T21:37:24.510606Z",
     "iopub.status.idle": "2023-12-22T21:37:24.516155Z",
     "shell.execute_reply": "2023-12-22T21:37:24.514999Z"
    },
    "papermill": {
     "duration": 0.027412,
     "end_time": "2023-12-22T21:37:24.518307",
     "exception": false,
     "start_time": "2023-12-22T21:37:24.490895",
     "status": "completed"
    },
    "tags": []
   },
   "outputs": [],
   "source": [
    "def show_sentiment_distribution(_df, feature):\n",
    "    # Count the occurrences of each unique sentiment category\n",
    "    sentiment_counts = _df[feature].value_counts()\n",
    "\n",
    "    # Create a pie chart\n",
    "    plt.figure(figsize=(8, 8))\n",
    "    plt.pie(sentiment_counts, labels=sentiment_counts.index, autopct='%1.1f%%', startangle=140)\n",
    "    plt.title('Sentiment Distribution')\n",
    "    plt.axis('equal')  # Equal aspect ratio ensures that pie is drawn as a circle.\n",
    "\n",
    "    # Show the pie chart\n",
    "    plt.show()"
   ]
  },
  {
   "cell_type": "markdown",
   "id": "01e92a73",
   "metadata": {
    "papermill": {
     "duration": 0.018281,
     "end_time": "2023-12-22T21:37:24.555672",
     "exception": false,
     "start_time": "2023-12-22T21:37:24.537391",
     "status": "completed"
    },
    "tags": []
   },
   "source": [
    "**Distribution Plot for Sentiment**"
   ]
  },
  {
   "cell_type": "code",
   "execution_count": 12,
   "id": "5f1dbb3e",
   "metadata": {
    "execution": {
     "iopub.execute_input": "2023-12-22T21:37:24.593941Z",
     "iopub.status.busy": "2023-12-22T21:37:24.593428Z",
     "iopub.status.idle": "2023-12-22T21:37:24.597404Z",
     "shell.execute_reply": "2023-12-22T21:37:24.596714Z"
    },
    "papermill": {
     "duration": 0.025287,
     "end_time": "2023-12-22T21:37:24.599207",
     "exception": false,
     "start_time": "2023-12-22T21:37:24.573920",
     "status": "completed"
    },
    "tags": []
   },
   "outputs": [],
   "source": [
    "feature_target = 'Sentiment'"
   ]
  },
  {
   "cell_type": "code",
   "execution_count": 13,
   "id": "4b274fbc",
   "metadata": {
    "execution": {
     "iopub.execute_input": "2023-12-22T21:37:24.637990Z",
     "iopub.status.busy": "2023-12-22T21:37:24.637486Z",
     "iopub.status.idle": "2023-12-22T21:37:28.829773Z",
     "shell.execute_reply": "2023-12-22T21:37:28.828390Z"
    },
    "papermill": {
     "duration": 4.214991,
     "end_time": "2023-12-22T21:37:28.832683",
     "exception": false,
     "start_time": "2023-12-22T21:37:24.617692",
     "status": "completed"
    },
    "tags": []
   },
   "outputs": [
    {
     "name": "stderr",
     "output_type": "stream",
     "text": [
      "/tmp/ipykernel_19/19030082.py:3: UserWarning: \n",
      "\n",
      "`distplot` is a deprecated function and will be removed in seaborn v0.14.0.\n",
      "\n",
      "Please adapt your code to use either `displot` (a figure-level function with\n",
      "similar flexibility) or `histplot` (an axes-level function for histograms).\n",
      "\n",
      "For a guide to updating your code to use the new functions, please see\n",
      "https://gist.github.com/mwaskom/de44147ed2974457ad6372750bbe5751\n",
      "\n",
      "  sns.distplot(_df[feature], bins=10, kde=True)\n"
     ]
    },
    {
     "data": {
      "image/png": "[encoded data removed]",
      "text/plain": [
       "<Figure size 800x600 with 1 Axes>"
      ]
     },
     "metadata": {},
     "output_type": "display_data"
    },
    {
     "data": {
      "image/png": "[encoded data removed]",
      "text/plain": [
       "<Figure size 1500x800 with 1 Axes>"
      ]
     },
     "metadata": {},
     "output_type": "display_data"
    },
    {
     "data": {
      "image/png": "[encoded data removed]",
      "text/plain": [
       "<Figure size 1500x800 with 1 Axes>"
      ]
     },
     "metadata": {},
     "output_type": "display_data"
    },
    {
     "data": {
      "image/png": "[encoded data removed]",
      "text/plain": [
       "<Figure size 1500x800 with 1 Axes>"
      ]
     },
     "metadata": {},
     "output_type": "display_data"
    }
   ],
   "source": [
    "shpw_distplot(df, feature_target)\n",
    "\n",
    "# get all words for phrase column\n",
    "all_words = getAllWords(df, 'Phrase')\n",
    "\n",
    "# show the word cloud\n",
    "generate_wordcloud(all_words, 'Phrase')\n",
    "\n",
    "# get all words for neutral\n",
    "all_words_neutral = getAllWords(df[df[feature_target] == 2], 'Phrase')\n",
    "\n",
    "# show the word cloud for neutral\n",
    "generate_wordcloud(all_words_neutral, 'Phrase', 'Most used words in the neutral')\n",
    "\n",
    "# get all words for somewhat positive\n",
    "all_words_somewhat_positive = getAllWords(df[df[feature_target] == 3], 'Phrase')\n",
    "\n",
    "# show the word cloud for neutral\n",
    "generate_wordcloud(all_words_somewhat_positive, 'Phrase', 'Most used words in the somewhat positive')"
   ]
  },
  {
   "cell_type": "code",
   "execution_count": 14,
   "id": "ea39a05a",
   "metadata": {
    "execution": {
     "iopub.execute_input": "2023-12-22T21:37:28.883133Z",
     "iopub.status.busy": "2023-12-22T21:37:28.882769Z",
     "iopub.status.idle": "2023-12-22T21:37:29.455615Z",
     "shell.execute_reply": "2023-12-22T21:37:29.454398Z"
    },
    "papermill": {
     "duration": 0.600799,
     "end_time": "2023-12-22T21:37:29.457925",
     "exception": false,
     "start_time": "2023-12-22T21:37:28.857126",
     "status": "completed"
    },
    "tags": []
   },
   "outputs": [
    {
     "data": {
      "image/png": "[encoded data removed]",
      "text/plain": [
       "<Figure size 1600x1000 with 2 Axes>"
      ]
     },
     "metadata": {},
     "output_type": "display_data"
    }
   ],
   "source": [
    "show_word_ferq(df, 'Phrase')"
   ]
  },
  {
   "cell_type": "markdown",
   "id": "df2c90ca",
   "metadata": {
    "papermill": {
     "duration": 0.023957,
     "end_time": "2023-12-22T21:37:29.506248",
     "exception": false,
     "start_time": "2023-12-22T21:37:29.482291",
     "status": "completed"
    },
    "tags": []
   },
   "source": [
    "we can see that there is ',' and '.' we should remove the stop words to see the words correctly"
   ]
  },
  {
   "cell_type": "code",
   "execution_count": 15,
   "id": "f09fd10e",
   "metadata": {
    "execution": {
     "iopub.execute_input": "2023-12-22T21:37:29.555992Z",
     "iopub.status.busy": "2023-12-22T21:37:29.555609Z",
     "iopub.status.idle": "2023-12-22T21:37:29.706891Z",
     "shell.execute_reply": "2023-12-22T21:37:29.706027Z"
    },
    "papermill": {
     "duration": 0.17865,
     "end_time": "2023-12-22T21:37:29.708884",
     "exception": false,
     "start_time": "2023-12-22T21:37:29.530234",
     "status": "completed"
    },
    "tags": []
   },
   "outputs": [
    {
     "data": {
      "image/png": "[encoded data removed]",
      "text/plain": [
       "<Figure size 800x800 with 1 Axes>"
      ]
     },
     "metadata": {},
     "output_type": "display_data"
    }
   ],
   "source": [
    "show_sentiment_distribution(df, feature_target)"
   ]
  },
  {
   "cell_type": "markdown",
   "id": "acf7ce45",
   "metadata": {
    "papermill": {
     "duration": 0.030209,
     "end_time": "2023-12-22T21:37:29.772465",
     "exception": false,
     "start_time": "2023-12-22T21:37:29.742256",
     "status": "completed"
    },
    "tags": []
   },
   "source": [
    "# Preprocess Data"
   ]
  },
  {
   "cell_type": "markdown",
   "id": "8f9729f9",
   "metadata": {
    "papermill": {
     "duration": 0.023865,
     "end_time": "2023-12-22T21:37:29.824608",
     "exception": false,
     "start_time": "2023-12-22T21:37:29.800743",
     "status": "completed"
    },
    "tags": []
   },
   "source": [
    "## Preprocess utils handlers"
   ]
  },
  {
   "cell_type": "markdown",
   "id": "4f965a6c",
   "metadata": {
    "papermill": {
     "duration": 0.024113,
     "end_time": "2023-12-22T21:37:29.873184",
     "exception": false,
     "start_time": "2023-12-22T21:37:29.849071",
     "status": "completed"
    },
    "tags": []
   },
   "source": [
    "### Check for nan handler"
   ]
  },
  {
   "cell_type": "code",
   "execution_count": 16,
   "id": "1bcf60ac",
   "metadata": {
    "execution": {
     "iopub.execute_input": "2023-12-22T21:37:29.924112Z",
     "iopub.status.busy": "2023-12-22T21:37:29.923805Z",
     "iopub.status.idle": "2023-12-22T21:37:29.928130Z",
     "shell.execute_reply": "2023-12-22T21:37:29.927296Z"
    },
    "papermill": {
     "duration": 0.031646,
     "end_time": "2023-12-22T21:37:29.929737",
     "exception": false,
     "start_time": "2023-12-22T21:37:29.898091",
     "status": "completed"
    },
    "tags": []
   },
   "outputs": [],
   "source": [
    "# check_for_nan for many features\n",
    "def check_for_nan(_df, features=[]):\n",
    "    [print(f\"{feature} has {_df[feature].isnull().sum()} nan\") for feature in features]"
   ]
  },
  {
   "cell_type": "markdown",
   "id": "eb7264e8",
   "metadata": {
    "papermill": {
     "duration": 0.024405,
     "end_time": "2023-12-22T21:37:29.978384",
     "exception": false,
     "start_time": "2023-12-22T21:37:29.953979",
     "status": "completed"
    },
    "tags": []
   },
   "source": [
    "### Remove stop words handler"
   ]
  },
  {
   "cell_type": "code",
   "execution_count": 17,
   "id": "77633990",
   "metadata": {
    "execution": {
     "iopub.execute_input": "2023-12-22T21:37:30.029621Z",
     "iopub.status.busy": "2023-12-22T21:37:30.029009Z",
     "iopub.status.idle": "2023-12-22T21:37:31.208353Z",
     "shell.execute_reply": "2023-12-22T21:37:31.207412Z"
    },
    "papermill": {
     "duration": 1.207402,
     "end_time": "2023-12-22T21:37:31.210288",
     "exception": false,
     "start_time": "2023-12-22T21:37:30.002886",
     "status": "completed"
    },
    "tags": []
   },
   "outputs": [
    {
     "name": "stdout",
     "output_type": "stream",
     "text": [
      "[nltk_data] Downloading package stopwords to /usr/share/nltk_data...\n",
      "[nltk_data]   Package stopwords is already up-to-date!\n",
      "[nltk_data] Downloading package punkt to /usr/share/nltk_data...\n",
      "[nltk_data]   Package punkt is already up-to-date!\n"
     ]
    }
   ],
   "source": [
    "import nltk\n",
    "from nltk.corpus import stopwords\n",
    "from nltk.tokenize import word_tokenize\n",
    "\n",
    "# Download the stop words\n",
    "nltk.download('stopwords')\n",
    "nltk.download('punkt')\n",
    "\n",
    "# Get the stop words for Arabic and English\n",
    "stop_words = stopwords.words('english')\n",
    "\n",
    "# Function to remove stop words from a string\n",
    "def remove_stop_words(text):\n",
    "    tokens = word_tokenize(text)\n",
    "    filtered = [word for word in tokens if word.casefold() not in stop_words]\n",
    "    return ' '.join(filtered)"
   ]
  },
  {
   "cell_type": "markdown",
   "id": "8eb87417",
   "metadata": {
    "papermill": {
     "duration": 0.025824,
     "end_time": "2023-12-22T21:37:31.261037",
     "exception": false,
     "start_time": "2023-12-22T21:37:31.235213",
     "status": "completed"
    },
    "tags": []
   },
   "source": [
    "### Most common word handler"
   ]
  },
  {
   "cell_type": "code",
   "execution_count": 18,
   "id": "f0ddaf72",
   "metadata": {
    "execution": {
     "iopub.execute_input": "2023-12-22T21:37:31.313762Z",
     "iopub.status.busy": "2023-12-22T21:37:31.313406Z",
     "iopub.status.idle": "2023-12-22T21:37:31.318266Z",
     "shell.execute_reply": "2023-12-22T21:37:31.317405Z"
    },
    "papermill": {
     "duration": 0.033609,
     "end_time": "2023-12-22T21:37:31.320208",
     "exception": false,
     "start_time": "2023-12-22T21:37:31.286599",
     "status": "completed"
    },
    "tags": []
   },
   "outputs": [],
   "source": [
    "def get_common_word(_df, feature):\n",
    "  from collections import Counter\n",
    "  reviews_without_null = _df[_df[feature].notnull()][feature]\n",
    "  # Get the most common word in 'feature'\n",
    "  words = pd.Series(' '.join(reviews_without_null).lower().split())\n",
    "  return Counter(words).most_common(1)[0][0]"
   ]
  },
  {
   "cell_type": "markdown",
   "id": "16fd7d2f",
   "metadata": {
    "papermill": {
     "duration": 0.025565,
     "end_time": "2023-12-22T21:37:31.370278",
     "exception": false,
     "start_time": "2023-12-22T21:37:31.344713",
     "status": "completed"
    },
    "tags": []
   },
   "source": [
    "**check features for nan**"
   ]
  },
  {
   "cell_type": "code",
   "execution_count": 19,
   "id": "3d04883d",
   "metadata": {
    "execution": {
     "iopub.execute_input": "2023-12-22T21:37:31.421919Z",
     "iopub.status.busy": "2023-12-22T21:37:31.421451Z",
     "iopub.status.idle": "2023-12-22T21:37:31.433576Z",
     "shell.execute_reply": "2023-12-22T21:37:31.432693Z"
    },
    "papermill": {
     "duration": 0.040064,
     "end_time": "2023-12-22T21:37:31.435293",
     "exception": false,
     "start_time": "2023-12-22T21:37:31.395229",
     "status": "completed"
    },
    "tags": []
   },
   "outputs": [
    {
     "name": "stdout",
     "output_type": "stream",
     "text": [
      "Phrase has 0 nan\n",
      "Sentiment has 0 nan\n",
      "SentenceId has 0 nan\n",
      "PhraseId has 0 nan\n"
     ]
    }
   ],
   "source": [
    "features_labels = ['Phrase', 'Sentiment','SentenceId','PhraseId']\n",
    "check_for_nan(df, features_labels)"
   ]
  },
  {
   "cell_type": "markdown",
   "id": "77b34782",
   "metadata": {
    "papermill": {
     "duration": 0.024389,
     "end_time": "2023-12-22T21:37:31.485305",
     "exception": false,
     "start_time": "2023-12-22T21:37:31.460916",
     "status": "completed"
    },
    "tags": []
   },
   "source": [
    "**apply stop words handler**"
   ]
  },
  {
   "cell_type": "code",
   "execution_count": 20,
   "id": "6e8033c0",
   "metadata": {
    "execution": {
     "iopub.execute_input": "2023-12-22T21:37:31.539117Z",
     "iopub.status.busy": "2023-12-22T21:37:31.538454Z",
     "iopub.status.idle": "2023-12-22T21:37:46.755037Z",
     "shell.execute_reply": "2023-12-22T21:37:46.753180Z"
    },
    "papermill": {
     "duration": 15.247641,
     "end_time": "2023-12-22T21:37:46.757973",
     "exception": false,
     "start_time": "2023-12-22T21:37:31.510332",
     "status": "completed"
    },
    "tags": []
   },
   "outputs": [],
   "source": [
    "df['Phrase'] = df['Phrase'].apply(remove_stop_words)"
   ]
  },
  {
   "cell_type": "markdown",
   "id": "4702377d",
   "metadata": {
    "papermill": {
     "duration": 0.025579,
     "end_time": "2023-12-22T21:37:46.810679",
     "exception": false,
     "start_time": "2023-12-22T21:37:46.785100",
     "status": "completed"
    },
    "tags": []
   },
   "source": [
    "**Check most common word**"
   ]
  },
  {
   "cell_type": "code",
   "execution_count": 21,
   "id": "25ad6156",
   "metadata": {
    "execution": {
     "iopub.execute_input": "2023-12-22T21:37:46.865428Z",
     "iopub.status.busy": "2023-12-22T21:37:46.864879Z",
     "iopub.status.idle": "2023-12-22T21:37:47.115082Z",
     "shell.execute_reply": "2023-12-22T21:37:47.113062Z"
    },
    "papermill": {
     "duration": 0.281292,
     "end_time": "2023-12-22T21:37:47.117410",
     "exception": false,
     "start_time": "2023-12-22T21:37:46.836118",
     "status": "completed"
    },
    "tags": []
   },
   "outputs": [
    {
     "name": "stdout",
     "output_type": "stream",
     "text": [
      ",\n"
     ]
    }
   ],
   "source": [
    "most_common_word_review = get_common_word(df, 'Phrase')\n",
    "print(most_common_word_review)"
   ]
  },
  {
   "cell_type": "markdown",
   "id": "85c0aa3b",
   "metadata": {
    "papermill": {
     "duration": 0.026197,
     "end_time": "2023-12-22T21:37:47.169613",
     "exception": false,
     "start_time": "2023-12-22T21:37:47.143416",
     "status": "completed"
    },
    "tags": []
   },
   "source": [
    "## Create two tensors (inputs IDs, Attension Mak)"
   ]
  },
  {
   "cell_type": "code",
   "execution_count": 22,
   "id": "0cb8868d",
   "metadata": {
    "execution": {
     "iopub.execute_input": "2023-12-22T21:37:47.221443Z",
     "iopub.status.busy": "2023-12-22T21:37:47.221115Z",
     "iopub.status.idle": "2023-12-22T21:37:47.226518Z",
     "shell.execute_reply": "2023-12-22T21:37:47.224994Z"
    },
    "papermill": {
     "duration": 0.034204,
     "end_time": "2023-12-22T21:37:47.229298",
     "exception": false,
     "start_time": "2023-12-22T21:37:47.195094",
     "status": "completed"
    },
    "tags": []
   },
   "outputs": [],
   "source": [
    "seq_len = 512\n",
    "num_samples = len(df)"
   ]
  },
  {
   "cell_type": "code",
   "execution_count": 23,
   "id": "4ef03628",
   "metadata": {
    "execution": {
     "iopub.execute_input": "2023-12-22T21:37:47.283250Z",
     "iopub.status.busy": "2023-12-22T21:37:47.282565Z",
     "iopub.status.idle": "2023-12-22T21:37:47.287732Z",
     "shell.execute_reply": "2023-12-22T21:37:47.287099Z"
    },
    "papermill": {
     "duration": 0.03442,
     "end_time": "2023-12-22T21:37:47.289564",
     "exception": false,
     "start_time": "2023-12-22T21:37:47.255144",
     "status": "completed"
    },
    "tags": []
   },
   "outputs": [
    {
     "data": {
      "text/plain": [
       "(156060, 512)"
      ]
     },
     "execution_count": 23,
     "metadata": {},
     "output_type": "execute_result"
    }
   ],
   "source": [
    "num_samples, seq_len"
   ]
  },
  {
   "cell_type": "code",
   "execution_count": 24,
   "id": "9e4dba6c",
   "metadata": {
    "execution": {
     "iopub.execute_input": "2023-12-22T21:37:47.342124Z",
     "iopub.status.busy": "2023-12-22T21:37:47.341509Z",
     "iopub.status.idle": "2023-12-22T21:37:54.203294Z",
     "shell.execute_reply": "2023-12-22T21:37:54.202231Z"
    },
    "papermill": {
     "duration": 6.891249,
     "end_time": "2023-12-22T21:37:54.205965",
     "exception": false,
     "start_time": "2023-12-22T21:37:47.314716",
     "status": "completed"
    },
    "tags": []
   },
   "outputs": [],
   "source": [
    "from transformers import BertTokenizer, AutoModel\n",
    "model_name = 'bert-base-cased'"
   ]
  },
  {
   "cell_type": "markdown",
   "id": "a2d6d587",
   "metadata": {
    "papermill": {
     "duration": 0.026637,
     "end_time": "2023-12-22T21:37:54.259007",
     "exception": false,
     "start_time": "2023-12-22T21:37:54.232370",
     "status": "completed"
    },
    "tags": []
   },
   "source": [
    "**Create the tokenizer**"
   ]
  },
  {
   "cell_type": "code",
   "execution_count": 25,
   "id": "86715dd2",
   "metadata": {
    "execution": {
     "iopub.execute_input": "2023-12-22T21:37:54.312527Z",
     "iopub.status.busy": "2023-12-22T21:37:54.311932Z",
     "iopub.status.idle": "2023-12-22T21:37:55.004483Z",
     "shell.execute_reply": "2023-12-22T21:37:55.003045Z"
    },
    "papermill": {
     "duration": 0.722786,
     "end_time": "2023-12-22T21:37:55.007578",
     "exception": false,
     "start_time": "2023-12-22T21:37:54.284792",
     "status": "completed"
    },
    "tags": []
   },
   "outputs": [
    {
     "data": {
      "application/vnd.jupyter.widget-view+json": {
       "model_id": "f40e3b58865f45f283f9411d8dc579f2",
       "version_major": 2,
       "version_minor": 0
      },
      "text/plain": [
       "tokenizer_config.json:   0%|          | 0.00/29.0 [00:00<?, ?B/s]"
      ]
     },
     "metadata": {},
     "output_type": "display_data"
    },
    {
     "data": {
      "application/vnd.jupyter.widget-view+json": {
       "model_id": "a5be7ecf2b344794ad08c557b6f6cf1d",
       "version_major": 2,
       "version_minor": 0
      },
      "text/plain": [
       "vocab.txt:   0%|          | 0.00/213k [00:00<?, ?B/s]"
      ]
     },
     "metadata": {},
     "output_type": "display_data"
    },
    {
     "data": {
      "application/vnd.jupyter.widget-view+json": {
       "model_id": "be79f4d6822b460caa5135a1139ec9c4",
       "version_major": 2,
       "version_minor": 0
      },
      "text/plain": [
       "tokenizer.json:   0%|          | 0.00/436k [00:00<?, ?B/s]"
      ]
     },
     "metadata": {},
     "output_type": "display_data"
    },
    {
     "data": {
      "application/vnd.jupyter.widget-view+json": {
       "model_id": "3f6029f75ffa40a4a55615dfd1faa662",
       "version_major": 2,
       "version_minor": 0
      },
      "text/plain": [
       "config.json:   0%|          | 0.00/570 [00:00<?, ?B/s]"
      ]
     },
     "metadata": {},
     "output_type": "display_data"
    }
   ],
   "source": [
    "tokenizer = BertTokenizer.from_pretrained(model_name)"
   ]
  },
  {
   "cell_type": "markdown",
   "id": "6c0df8f2",
   "metadata": {
    "papermill": {
     "duration": 0.025832,
     "end_time": "2023-12-22T21:37:55.059818",
     "exception": false,
     "start_time": "2023-12-22T21:37:55.033986",
     "status": "completed"
    },
    "tags": []
   },
   "source": [
    "**get the tokens**"
   ]
  },
  {
   "cell_type": "code",
   "execution_count": 26,
   "id": "117c509a",
   "metadata": {
    "execution": {
     "iopub.execute_input": "2023-12-22T21:37:55.116283Z",
     "iopub.status.busy": "2023-12-22T21:37:55.115356Z",
     "iopub.status.idle": "2023-12-22T21:38:34.739518Z",
     "shell.execute_reply": "2023-12-22T21:38:34.737718Z"
    },
    "papermill": {
     "duration": 39.655566,
     "end_time": "2023-12-22T21:38:34.742411",
     "exception": false,
     "start_time": "2023-12-22T21:37:55.086845",
     "status": "completed"
    },
    "tags": []
   },
   "outputs": [],
   "source": [
    "tokens = tokenizer(df['Phrase'].tolist(), \n",
    "                   max_length=seq_len,\n",
    "                   padding='max_length',\n",
    "                   truncation=True,\n",
    "                   add_special_tokens=True,\n",
    "                   return_tensors='np'\n",
    "                  )"
   ]
  },
  {
   "cell_type": "code",
   "execution_count": 27,
   "id": "b5864c51",
   "metadata": {
    "execution": {
     "iopub.execute_input": "2023-12-22T21:38:34.795546Z",
     "iopub.status.busy": "2023-12-22T21:38:34.795237Z",
     "iopub.status.idle": "2023-12-22T21:38:34.801185Z",
     "shell.execute_reply": "2023-12-22T21:38:34.800243Z"
    },
    "papermill": {
     "duration": 0.034561,
     "end_time": "2023-12-22T21:38:34.802947",
     "exception": false,
     "start_time": "2023-12-22T21:38:34.768386",
     "status": "completed"
    },
    "tags": []
   },
   "outputs": [
    {
     "data": {
      "text/plain": [
       "dict_keys(['input_ids', 'token_type_ids', 'attention_mask'])"
      ]
     },
     "execution_count": 27,
     "metadata": {},
     "output_type": "execute_result"
    }
   ],
   "source": [
    "tokens.keys()"
   ]
  },
  {
   "cell_type": "code",
   "execution_count": 28,
   "id": "08337f79",
   "metadata": {
    "execution": {
     "iopub.execute_input": "2023-12-22T21:38:34.854588Z",
     "iopub.status.busy": "2023-12-22T21:38:34.854283Z",
     "iopub.status.idle": "2023-12-22T21:38:34.861320Z",
     "shell.execute_reply": "2023-12-22T21:38:34.860201Z"
    },
    "papermill": {
     "duration": 0.034878,
     "end_time": "2023-12-22T21:38:34.862968",
     "exception": false,
     "start_time": "2023-12-22T21:38:34.828090",
     "status": "completed"
    },
    "tags": []
   },
   "outputs": [
    {
     "data": {
      "text/plain": [
       "array([[  101,  1326, 13936, ...,     0,     0,     0],\n",
       "       [  101,  1326, 13936, ...,     0,     0,     0],\n",
       "       [  101,  1326,   102, ...,     0,     0,     0],\n",
       "       ...,\n",
       "       [  101,   170, 25247, ...,     0,     0,     0],\n",
       "       [  101,   170, 25247, ...,     0,     0,     0],\n",
       "       [  101, 22572, 12148, ...,     0,     0,     0]])"
      ]
     },
     "execution_count": 28,
     "metadata": {},
     "output_type": "execute_result"
    }
   ],
   "source": [
    "tokens['input_ids']"
   ]
  },
  {
   "cell_type": "code",
   "execution_count": 29,
   "id": "f95211b9",
   "metadata": {
    "execution": {
     "iopub.execute_input": "2023-12-22T21:38:34.915617Z",
     "iopub.status.busy": "2023-12-22T21:38:34.915295Z",
     "iopub.status.idle": "2023-12-22T21:38:34.922488Z",
     "shell.execute_reply": "2023-12-22T21:38:34.921206Z"
    },
    "papermill": {
     "duration": 0.035961,
     "end_time": "2023-12-22T21:38:34.924398",
     "exception": false,
     "start_time": "2023-12-22T21:38:34.888437",
     "status": "completed"
    },
    "tags": []
   },
   "outputs": [
    {
     "data": {
      "text/plain": [
       "numpy.ndarray"
      ]
     },
     "execution_count": 29,
     "metadata": {},
     "output_type": "execute_result"
    }
   ],
   "source": [
    "type(tokens['attention_mask'])"
   ]
  },
  {
   "cell_type": "markdown",
   "id": "f41a46c2",
   "metadata": {
    "papermill": {
     "duration": 0.026368,
     "end_time": "2023-12-22T21:38:34.977592",
     "exception": false,
     "start_time": "2023-12-22T21:38:34.951224",
     "status": "completed"
    },
    "tags": []
   },
   "source": [
    "## File Handlers"
   ]
  },
  {
   "cell_type": "markdown",
   "id": "4170ff2a",
   "metadata": {
    "papermill": {
     "duration": 0.027546,
     "end_time": "2023-12-22T21:38:35.031392",
     "exception": false,
     "start_time": "2023-12-22T21:38:35.003846",
     "status": "completed"
    },
    "tags": []
   },
   "source": [
    "**Save file**"
   ]
  },
  {
   "cell_type": "code",
   "execution_count": 30,
   "id": "92880ada",
   "metadata": {
    "execution": {
     "iopub.execute_input": "2023-12-22T21:38:35.086447Z",
     "iopub.status.busy": "2023-12-22T21:38:35.086142Z",
     "iopub.status.idle": "2023-12-22T21:38:35.091413Z",
     "shell.execute_reply": "2023-12-22T21:38:35.089858Z"
    },
    "papermill": {
     "duration": 0.035471,
     "end_time": "2023-12-22T21:38:35.093166",
     "exception": false,
     "start_time": "2023-12-22T21:38:35.057695",
     "status": "completed"
    },
    "tags": []
   },
   "outputs": [],
   "source": [
    "def saveFile(name, file):\n",
    "    with open(name,'wb') as f:\n",
    "        np.save(f, file)"
   ]
  },
  {
   "cell_type": "markdown",
   "id": "93d9c122",
   "metadata": {
    "papermill": {
     "duration": 0.026145,
     "end_time": "2023-12-22T21:38:35.144752",
     "exception": false,
     "start_time": "2023-12-22T21:38:35.118607",
     "status": "completed"
    },
    "tags": []
   },
   "source": [
    "**read file**"
   ]
  },
  {
   "cell_type": "code",
   "execution_count": 31,
   "id": "fc4517c6",
   "metadata": {
    "execution": {
     "iopub.execute_input": "2023-12-22T21:38:35.197440Z",
     "iopub.status.busy": "2023-12-22T21:38:35.197107Z",
     "iopub.status.idle": "2023-12-22T21:38:35.202088Z",
     "shell.execute_reply": "2023-12-22T21:38:35.200916Z"
    },
    "papermill": {
     "duration": 0.033637,
     "end_time": "2023-12-22T21:38:35.203933",
     "exception": false,
     "start_time": "2023-12-22T21:38:35.170296",
     "status": "completed"
    },
    "tags": []
   },
   "outputs": [],
   "source": [
    "def readFile(filename: str):\n",
    "    with open(filename, 'rb') as f:\n",
    "        return np.load(f, allow_pickle=True)"
   ]
  },
  {
   "cell_type": "markdown",
   "id": "22295f12",
   "metadata": {
    "papermill": {
     "duration": 0.025085,
     "end_time": "2023-12-22T21:38:35.254374",
     "exception": false,
     "start_time": "2023-12-22T21:38:35.229289",
     "status": "completed"
    },
    "tags": []
   },
   "source": [
    "## Save the Sentiment labels in binary file"
   ]
  },
  {
   "cell_type": "code",
   "execution_count": 32,
   "id": "ba4c61fa",
   "metadata": {
    "execution": {
     "iopub.execute_input": "2023-12-22T21:38:35.307062Z",
     "iopub.status.busy": "2023-12-22T21:38:35.306722Z",
     "iopub.status.idle": "2023-12-22T21:38:35.311442Z",
     "shell.execute_reply": "2023-12-22T21:38:35.310034Z"
    },
    "papermill": {
     "duration": 0.034226,
     "end_time": "2023-12-22T21:38:35.313971",
     "exception": false,
     "start_time": "2023-12-22T21:38:35.279745",
     "status": "completed"
    },
    "tags": []
   },
   "outputs": [],
   "source": [
    "sentimentArr = df['Sentiment'].values"
   ]
  },
  {
   "cell_type": "code",
   "execution_count": 33,
   "id": "4f68168c",
   "metadata": {
    "execution": {
     "iopub.execute_input": "2023-12-22T21:38:35.369478Z",
     "iopub.status.busy": "2023-12-22T21:38:35.369159Z",
     "iopub.status.idle": "2023-12-22T21:38:35.376437Z",
     "shell.execute_reply": "2023-12-22T21:38:35.375416Z"
    },
    "papermill": {
     "duration": 0.038197,
     "end_time": "2023-12-22T21:38:35.378710",
     "exception": false,
     "start_time": "2023-12-22T21:38:35.340513",
     "status": "completed"
    },
    "tags": []
   },
   "outputs": [
    {
     "data": {
      "text/plain": [
       "(156060, 5)"
      ]
     },
     "execution_count": 33,
     "metadata": {},
     "output_type": "execute_result"
    }
   ],
   "source": [
    "labels = np.zeros((num_samples, sentimentArr.max()+1))\n",
    "labels.shape"
   ]
  },
  {
   "cell_type": "code",
   "execution_count": 34,
   "id": "d1a5d12d",
   "metadata": {
    "execution": {
     "iopub.execute_input": "2023-12-22T21:38:35.432173Z",
     "iopub.status.busy": "2023-12-22T21:38:35.431798Z",
     "iopub.status.idle": "2023-12-22T21:38:35.437049Z",
     "shell.execute_reply": "2023-12-22T21:38:35.435691Z"
    },
    "papermill": {
     "duration": 0.034159,
     "end_time": "2023-12-22T21:38:35.438914",
     "exception": false,
     "start_time": "2023-12-22T21:38:35.404755",
     "status": "completed"
    },
    "tags": []
   },
   "outputs": [],
   "source": [
    "files_list = (\n",
    "    {'list' : tokens['input_ids'], 'key': 'xids'},\n",
    "    {'list' : tokens['attention_mask'], 'key': 'xmask'},\n",
    "    {'list':labels, 'key':'labels'}\n",
    ")"
   ]
  },
  {
   "cell_type": "markdown",
   "id": "b8b31049",
   "metadata": {
    "papermill": {
     "duration": 0.025604,
     "end_time": "2023-12-22T21:38:35.490601",
     "exception": false,
     "start_time": "2023-12-22T21:38:35.464997",
     "status": "completed"
    },
    "tags": []
   },
   "source": [
    "## Save the tensors and the labels as numpy binary files"
   ]
  },
  {
   "cell_type": "code",
   "execution_count": 35,
   "id": "7e610f25",
   "metadata": {
    "execution": {
     "iopub.execute_input": "2023-12-22T21:38:35.545420Z",
     "iopub.status.busy": "2023-12-22T21:38:35.545088Z",
     "iopub.status.idle": "2023-12-22T21:38:36.153118Z",
     "shell.execute_reply": "2023-12-22T21:38:36.151705Z"
    },
    "papermill": {
     "duration": 0.638121,
     "end_time": "2023-12-22T21:38:36.155802",
     "exception": false,
     "start_time": "2023-12-22T21:38:35.517681",
     "status": "completed"
    },
    "tags": []
   },
   "outputs": [],
   "source": [
    "_ = [saveFile(f\"./data/movie-{item['key']}.npy\", item['list']) for item in files_list]"
   ]
  },
  {
   "cell_type": "markdown",
   "id": "e1985126",
   "metadata": {
    "papermill": {
     "duration": 0.024918,
     "end_time": "2023-12-22T21:38:36.207112",
     "exception": false,
     "start_time": "2023-12-22T21:38:36.182194",
     "status": "completed"
    },
    "tags": []
   },
   "source": [
    "# Input Pipeline"
   ]
  },
  {
   "cell_type": "code",
   "execution_count": 36,
   "id": "7f1b530e",
   "metadata": {
    "execution": {
     "iopub.execute_input": "2023-12-22T21:38:36.259540Z",
     "iopub.status.busy": "2023-12-22T21:38:36.259201Z",
     "iopub.status.idle": "2023-12-22T21:38:36.512382Z",
     "shell.execute_reply": "2023-12-22T21:38:36.510970Z"
    },
    "papermill": {
     "duration": 0.282505,
     "end_time": "2023-12-22T21:38:36.514744",
     "exception": false,
     "start_time": "2023-12-22T21:38:36.232239",
     "status": "completed"
    },
    "tags": []
   },
   "outputs": [],
   "source": [
    "payload = {}\n",
    "for file in files_list:  \n",
    "    payload[file['key']] =  readFile(f\"./data/movie-{file['key']}.npy\")"
   ]
  },
  {
   "cell_type": "code",
   "execution_count": 37,
   "id": "781e4d03",
   "metadata": {
    "execution": {
     "iopub.execute_input": "2023-12-22T21:38:36.569921Z",
     "iopub.status.busy": "2023-12-22T21:38:36.569562Z",
     "iopub.status.idle": "2023-12-22T21:38:36.576523Z",
     "shell.execute_reply": "2023-12-22T21:38:36.575577Z"
    },
    "papermill": {
     "duration": 0.037402,
     "end_time": "2023-12-22T21:38:36.578417",
     "exception": false,
     "start_time": "2023-12-22T21:38:36.541015",
     "status": "completed"
    },
    "tags": []
   },
   "outputs": [
    {
     "data": {
      "text/plain": [
       "((156060, 512), (156060, 512), (156060, 5))"
      ]
     },
     "execution_count": 37,
     "metadata": {},
     "output_type": "execute_result"
    }
   ],
   "source": [
    "payload['xids'].shape, payload['xmask'].shape, payload['labels'].shape"
   ]
  },
  {
   "cell_type": "code",
   "execution_count": 38,
   "id": "5d9ad435",
   "metadata": {
    "execution": {
     "iopub.execute_input": "2023-12-22T21:38:36.632404Z",
     "iopub.status.busy": "2023-12-22T21:38:36.632087Z",
     "iopub.status.idle": "2023-12-22T21:38:36.637208Z",
     "shell.execute_reply": "2023-12-22T21:38:36.635606Z"
    },
    "papermill": {
     "duration": 0.034682,
     "end_time": "2023-12-22T21:38:36.639078",
     "exception": false,
     "start_time": "2023-12-22T21:38:36.604396",
     "status": "completed"
    },
    "tags": []
   },
   "outputs": [],
   "source": [
    "import torch\n",
    "import torch.nn as nn\n",
    "from torch.utils.data import Dataset, DataLoader, random_split, Subset,RandomSampler"
   ]
  },
  {
   "cell_type": "markdown",
   "id": "8c770960",
   "metadata": {
    "papermill": {
     "duration": 0.025858,
     "end_time": "2023-12-22T21:38:36.690823",
     "exception": false,
     "start_time": "2023-12-22T21:38:36.664965",
     "status": "completed"
    },
    "tags": []
   },
   "source": [
    "**CustomDataset Class**"
   ]
  },
  {
   "cell_type": "code",
   "execution_count": 39,
   "id": "9c45e97e",
   "metadata": {
    "execution": {
     "iopub.execute_input": "2023-12-22T21:38:36.745322Z",
     "iopub.status.busy": "2023-12-22T21:38:36.745026Z",
     "iopub.status.idle": "2023-12-22T21:38:36.750189Z",
     "shell.execute_reply": "2023-12-22T21:38:36.749418Z"
    },
    "papermill": {
     "duration": 0.034771,
     "end_time": "2023-12-22T21:38:36.751830",
     "exception": false,
     "start_time": "2023-12-22T21:38:36.717059",
     "status": "completed"
    },
    "tags": []
   },
   "outputs": [],
   "source": [
    "class CustomDataset(Dataset):\n",
    "    def __init__(self, inputIds, attention_mask, labels):\n",
    "        self.inputIds = inputIds\n",
    "        self.attention_mask = attention_mask\n",
    "        self.labels = labels\n",
    "\n",
    "    def __getitem__(self, idx):\n",
    "        item = {\n",
    "            \"inputIds\": self.inputIds[idx],\n",
    "            \"attention_mask\": self.attention_mask[idx],\n",
    "            \"labels\": self.labels[idx]\n",
    "        }\n",
    "        return item\n",
    "\n",
    "    def __len__(self):\n",
    "        return len(self.labels)"
   ]
  },
  {
   "cell_type": "markdown",
   "id": "cf36f02a",
   "metadata": {
    "papermill": {
     "duration": 0.025337,
     "end_time": "2023-12-22T21:38:36.802785",
     "exception": false,
     "start_time": "2023-12-22T21:38:36.777448",
     "status": "completed"
    },
    "tags": []
   },
   "source": [
    "**Save DataLoader**"
   ]
  },
  {
   "cell_type": "code",
   "execution_count": 40,
   "id": "80b45520",
   "metadata": {
    "execution": {
     "iopub.execute_input": "2023-12-22T21:38:36.855412Z",
     "iopub.status.busy": "2023-12-22T21:38:36.855120Z",
     "iopub.status.idle": "2023-12-22T21:38:36.858927Z",
     "shell.execute_reply": "2023-12-22T21:38:36.858181Z"
    },
    "papermill": {
     "duration": 0.031826,
     "end_time": "2023-12-22T21:38:36.860510",
     "exception": false,
     "start_time": "2023-12-22T21:38:36.828684",
     "status": "completed"
    },
    "tags": []
   },
   "outputs": [],
   "source": [
    "def save_loader(_loader, filename):\n",
    "    torch.save(_loader, filename)"
   ]
  },
  {
   "cell_type": "markdown",
   "id": "34d90dcc",
   "metadata": {
    "papermill": {
     "duration": 0.025122,
     "end_time": "2023-12-22T21:38:36.910908",
     "exception": false,
     "start_time": "2023-12-22T21:38:36.885786",
     "status": "completed"
    },
    "tags": []
   },
   "source": [
    "**Load DataLoader**"
   ]
  },
  {
   "cell_type": "code",
   "execution_count": 41,
   "id": "86098b50",
   "metadata": {
    "execution": {
     "iopub.execute_input": "2023-12-22T21:38:36.964933Z",
     "iopub.status.busy": "2023-12-22T21:38:36.964581Z",
     "iopub.status.idle": "2023-12-22T21:38:36.968460Z",
     "shell.execute_reply": "2023-12-22T21:38:36.967675Z"
    },
    "papermill": {
     "duration": 0.0329,
     "end_time": "2023-12-22T21:38:36.970098",
     "exception": false,
     "start_time": "2023-12-22T21:38:36.937198",
     "status": "completed"
    },
    "tags": []
   },
   "outputs": [],
   "source": [
    "def load_loader(_loader, filename):\n",
    "    return torch.load(filename)"
   ]
  },
  {
   "cell_type": "markdown",
   "id": "f2459e48",
   "metadata": {
    "papermill": {
     "duration": 0.025594,
     "end_time": "2023-12-22T21:38:37.021196",
     "exception": false,
     "start_time": "2023-12-22T21:38:36.995602",
     "status": "completed"
    },
    "tags": []
   },
   "source": [
    "**Convert numpy arrays to PyTorch tensors**"
   ]
  },
  {
   "cell_type": "code",
   "execution_count": 42,
   "id": "b8f48e27",
   "metadata": {
    "execution": {
     "iopub.execute_input": "2023-12-22T21:38:37.075254Z",
     "iopub.status.busy": "2023-12-22T21:38:37.074613Z",
     "iopub.status.idle": "2023-12-22T21:38:37.090616Z",
     "shell.execute_reply": "2023-12-22T21:38:37.089269Z"
    },
    "papermill": {
     "duration": 0.045657,
     "end_time": "2023-12-22T21:38:37.093054",
     "exception": false,
     "start_time": "2023-12-22T21:38:37.047397",
     "status": "completed"
    },
    "tags": []
   },
   "outputs": [],
   "source": [
    "inputIds_tensor = torch.from_numpy(payload['xids'])\n",
    "attention_mask_tensor = torch.from_numpy(payload['xmask'])\n",
    "labels_tensor = torch.from_numpy(payload['labels'])"
   ]
  },
  {
   "cell_type": "markdown",
   "id": "fb53f6ee",
   "metadata": {
    "papermill": {
     "duration": 0.025459,
     "end_time": "2023-12-22T21:38:37.144794",
     "exception": false,
     "start_time": "2023-12-22T21:38:37.119335",
     "status": "completed"
    },
    "tags": []
   },
   "source": [
    "**Create a TensorDataset**"
   ]
  },
  {
   "cell_type": "code",
   "execution_count": 43,
   "id": "bd3d3d0d",
   "metadata": {
    "execution": {
     "iopub.execute_input": "2023-12-22T21:38:37.197852Z",
     "iopub.status.busy": "2023-12-22T21:38:37.197522Z",
     "iopub.status.idle": "2023-12-22T21:38:37.201739Z",
     "shell.execute_reply": "2023-12-22T21:38:37.200951Z"
    },
    "papermill": {
     "duration": 0.032765,
     "end_time": "2023-12-22T21:38:37.203469",
     "exception": false,
     "start_time": "2023-12-22T21:38:37.170704",
     "status": "completed"
    },
    "tags": []
   },
   "outputs": [],
   "source": [
    "dataset = CustomDataset(inputIds_tensor, attention_mask_tensor, labels_tensor)"
   ]
  },
  {
   "cell_type": "code",
   "execution_count": 44,
   "id": "b6762640",
   "metadata": {
    "execution": {
     "iopub.execute_input": "2023-12-22T21:38:37.258168Z",
     "iopub.status.busy": "2023-12-22T21:38:37.257814Z",
     "iopub.status.idle": "2023-12-22T21:38:37.351363Z",
     "shell.execute_reply": "2023-12-22T21:38:37.350643Z"
    },
    "papermill": {
     "duration": 0.124131,
     "end_time": "2023-12-22T21:38:37.352974",
     "exception": false,
     "start_time": "2023-12-22T21:38:37.228843",
     "status": "completed"
    },
    "tags": []
   },
   "outputs": [
    {
     "data": {
      "text/plain": [
       "{'inputIds': tensor([  101,  1326, 13936, 25265, 16913, 15107,  8050,  2553,  1363, 20398,\n",
       "           102,     0,     0,     0,     0,     0,     0,     0,     0,     0,\n",
       "             0,     0,     0,     0,     0,     0,     0,     0,     0,     0,\n",
       "             0,     0,     0,     0,     0,     0,     0,     0,     0,     0,\n",
       "             0,     0,     0,     0,     0,     0,     0,     0,     0,     0,\n",
       "             0,     0,     0,     0,     0,     0,     0,     0,     0,     0,\n",
       "             0,     0,     0,     0,     0,     0,     0,     0,     0,     0,\n",
       "             0,     0,     0,     0,     0,     0,     0,     0,     0,     0,\n",
       "             0,     0,     0,     0,     0,     0,     0,     0,     0,     0,\n",
       "             0,     0,     0,     0,     0,     0,     0,     0,     0,     0,\n",
       "             0,     0,     0,     0,     0,     0,     0,     0,     0,     0,\n",
       "             0,     0,     0,     0,     0,     0,     0,     0,     0,     0,\n",
       "             0,     0,     0,     0,     0,     0,     0,     0,     0,     0,\n",
       "             0,     0,     0,     0,     0,     0,     0,     0,     0,     0,\n",
       "             0,     0,     0,     0,     0,     0,     0,     0,     0,     0,\n",
       "             0,     0,     0,     0,     0,     0,     0,     0,     0,     0,\n",
       "             0,     0,     0,     0,     0,     0,     0,     0,     0,     0,\n",
       "             0,     0,     0,     0,     0,     0,     0,     0,     0,     0,\n",
       "             0,     0,     0,     0,     0,     0,     0,     0,     0,     0,\n",
       "             0,     0,     0,     0,     0,     0,     0,     0,     0,     0,\n",
       "             0,     0,     0,     0,     0,     0,     0,     0,     0,     0,\n",
       "             0,     0,     0,     0,     0,     0,     0,     0,     0,     0,\n",
       "             0,     0,     0,     0,     0,     0,     0,     0,     0,     0,\n",
       "             0,     0,     0,     0,     0,     0,     0,     0,     0,     0,\n",
       "             0,     0,     0,     0,     0,     0,     0,     0,     0,     0,\n",
       "             0,     0,     0,     0,     0,     0,     0,     0,     0,     0,\n",
       "             0,     0,     0,     0,     0,     0,     0,     0,     0,     0,\n",
       "             0,     0,     0,     0,     0,     0,     0,     0,     0,     0,\n",
       "             0,     0,     0,     0,     0,     0,     0,     0,     0,     0,\n",
       "             0,     0,     0,     0,     0,     0,     0,     0,     0,     0,\n",
       "             0,     0,     0,     0,     0,     0,     0,     0,     0,     0,\n",
       "             0,     0,     0,     0,     0,     0,     0,     0,     0,     0,\n",
       "             0,     0,     0,     0,     0,     0,     0,     0,     0,     0,\n",
       "             0,     0,     0,     0,     0,     0,     0,     0,     0,     0,\n",
       "             0,     0,     0,     0,     0,     0,     0,     0,     0,     0,\n",
       "             0,     0,     0,     0,     0,     0,     0,     0,     0,     0,\n",
       "             0,     0,     0,     0,     0,     0,     0,     0,     0,     0,\n",
       "             0,     0,     0,     0,     0,     0,     0,     0,     0,     0,\n",
       "             0,     0,     0,     0,     0,     0,     0,     0,     0,     0,\n",
       "             0,     0,     0,     0,     0,     0,     0,     0,     0,     0,\n",
       "             0,     0,     0,     0,     0,     0,     0,     0,     0,     0,\n",
       "             0,     0,     0,     0,     0,     0,     0,     0,     0,     0,\n",
       "             0,     0,     0,     0,     0,     0,     0,     0,     0,     0,\n",
       "             0,     0,     0,     0,     0,     0,     0,     0,     0,     0,\n",
       "             0,     0,     0,     0,     0,     0,     0,     0,     0,     0,\n",
       "             0,     0,     0,     0,     0,     0,     0,     0,     0,     0,\n",
       "             0,     0,     0,     0,     0,     0,     0,     0,     0,     0,\n",
       "             0,     0,     0,     0,     0,     0,     0,     0,     0,     0,\n",
       "             0,     0,     0,     0,     0,     0,     0,     0,     0,     0,\n",
       "             0,     0,     0,     0,     0,     0,     0,     0,     0,     0,\n",
       "             0,     0,     0,     0,     0,     0,     0,     0,     0,     0,\n",
       "             0,     0]),\n",
       " 'attention_mask': tensor([1, 1, 1, 1, 1, 1, 1, 1, 1, 1, 1, 0, 0, 0, 0, 0, 0, 0, 0, 0, 0, 0, 0, 0,\n",
       "         0, 0, 0, 0, 0, 0, 0, 0, 0, 0, 0, 0, 0, 0, 0, 0, 0, 0, 0, 0, 0, 0, 0, 0,\n",
       "         0, 0, 0, 0, 0, 0, 0, 0, 0, 0, 0, 0, 0, 0, 0, 0, 0, 0, 0, 0, 0, 0, 0, 0,\n",
       "         0, 0, 0, 0, 0, 0, 0, 0, 0, 0, 0, 0, 0, 0, 0, 0, 0, 0, 0, 0, 0, 0, 0, 0,\n",
       "         0, 0, 0, 0, 0, 0, 0, 0, 0, 0, 0, 0, 0, 0, 0, 0, 0, 0, 0, 0, 0, 0, 0, 0,\n",
       "         0, 0, 0, 0, 0, 0, 0, 0, 0, 0, 0, 0, 0, 0, 0, 0, 0, 0, 0, 0, 0, 0, 0, 0,\n",
       "         0, 0, 0, 0, 0, 0, 0, 0, 0, 0, 0, 0, 0, 0, 0, 0, 0, 0, 0, 0, 0, 0, 0, 0,\n",
       "         0, 0, 0, 0, 0, 0, 0, 0, 0, 0, 0, 0, 0, 0, 0, 0, 0, 0, 0, 0, 0, 0, 0, 0,\n",
       "         0, 0, 0, 0, 0, 0, 0, 0, 0, 0, 0, 0, 0, 0, 0, 0, 0, 0, 0, 0, 0, 0, 0, 0,\n",
       "         0, 0, 0, 0, 0, 0, 0, 0, 0, 0, 0, 0, 0, 0, 0, 0, 0, 0, 0, 0, 0, 0, 0, 0,\n",
       "         0, 0, 0, 0, 0, 0, 0, 0, 0, 0, 0, 0, 0, 0, 0, 0, 0, 0, 0, 0, 0, 0, 0, 0,\n",
       "         0, 0, 0, 0, 0, 0, 0, 0, 0, 0, 0, 0, 0, 0, 0, 0, 0, 0, 0, 0, 0, 0, 0, 0,\n",
       "         0, 0, 0, 0, 0, 0, 0, 0, 0, 0, 0, 0, 0, 0, 0, 0, 0, 0, 0, 0, 0, 0, 0, 0,\n",
       "         0, 0, 0, 0, 0, 0, 0, 0, 0, 0, 0, 0, 0, 0, 0, 0, 0, 0, 0, 0, 0, 0, 0, 0,\n",
       "         0, 0, 0, 0, 0, 0, 0, 0, 0, 0, 0, 0, 0, 0, 0, 0, 0, 0, 0, 0, 0, 0, 0, 0,\n",
       "         0, 0, 0, 0, 0, 0, 0, 0, 0, 0, 0, 0, 0, 0, 0, 0, 0, 0, 0, 0, 0, 0, 0, 0,\n",
       "         0, 0, 0, 0, 0, 0, 0, 0, 0, 0, 0, 0, 0, 0, 0, 0, 0, 0, 0, 0, 0, 0, 0, 0,\n",
       "         0, 0, 0, 0, 0, 0, 0, 0, 0, 0, 0, 0, 0, 0, 0, 0, 0, 0, 0, 0, 0, 0, 0, 0,\n",
       "         0, 0, 0, 0, 0, 0, 0, 0, 0, 0, 0, 0, 0, 0, 0, 0, 0, 0, 0, 0, 0, 0, 0, 0,\n",
       "         0, 0, 0, 0, 0, 0, 0, 0, 0, 0, 0, 0, 0, 0, 0, 0, 0, 0, 0, 0, 0, 0, 0, 0,\n",
       "         0, 0, 0, 0, 0, 0, 0, 0, 0, 0, 0, 0, 0, 0, 0, 0, 0, 0, 0, 0, 0, 0, 0, 0,\n",
       "         0, 0, 0, 0, 0, 0, 0, 0]),\n",
       " 'labels': tensor([0., 0., 0., 0., 0.], dtype=torch.float64)}"
      ]
     },
     "execution_count": 44,
     "metadata": {},
     "output_type": "execute_result"
    }
   ],
   "source": [
    "dataset.__getitem__(1)"
   ]
  },
  {
   "cell_type": "markdown",
   "id": "16fa7983",
   "metadata": {
    "papermill": {
     "duration": 0.026009,
     "end_time": "2023-12-22T21:38:37.405055",
     "exception": false,
     "start_time": "2023-12-22T21:38:37.379046",
     "status": "completed"
    },
    "tags": []
   },
   "source": [
    "**Generate & shuffle indices**"
   ]
  },
  {
   "cell_type": "code",
   "execution_count": 45,
   "id": "20cbf88a",
   "metadata": {
    "execution": {
     "iopub.execute_input": "2023-12-22T21:38:37.460906Z",
     "iopub.status.busy": "2023-12-22T21:38:37.459453Z",
     "iopub.status.idle": "2023-12-22T21:38:37.475125Z",
     "shell.execute_reply": "2023-12-22T21:38:37.473804Z"
    },
    "papermill": {
     "duration": 0.046055,
     "end_time": "2023-12-22T21:38:37.477481",
     "exception": false,
     "start_time": "2023-12-22T21:38:37.431426",
     "status": "completed"
    },
    "tags": []
   },
   "outputs": [],
   "source": [
    "dataset_len = len(dataset)\n",
    "indices = torch.randperm(dataset_len)"
   ]
  },
  {
   "cell_type": "markdown",
   "id": "ae6f2484",
   "metadata": {
    "papermill": {
     "duration": 0.026722,
     "end_time": "2023-12-22T21:38:37.532377",
     "exception": false,
     "start_time": "2023-12-22T21:38:37.505655",
     "status": "completed"
    },
    "tags": []
   },
   "source": [
    "**Define size of train/test indices**"
   ]
  },
  {
   "cell_type": "code",
   "execution_count": 46,
   "id": "58f44bb5",
   "metadata": {
    "execution": {
     "iopub.execute_input": "2023-12-22T21:38:37.589363Z",
     "iopub.status.busy": "2023-12-22T21:38:37.588990Z",
     "iopub.status.idle": "2023-12-22T21:38:37.594738Z",
     "shell.execute_reply": "2023-12-22T21:38:37.593214Z"
    },
    "papermill": {
     "duration": 0.036848,
     "end_time": "2023-12-22T21:38:37.596956",
     "exception": false,
     "start_time": "2023-12-22T21:38:37.560108",
     "status": "completed"
    },
    "tags": []
   },
   "outputs": [],
   "source": [
    "train_size = int(0.8* dataset_len)\n",
    "test_size = len(dataset) - train_size"
   ]
  },
  {
   "cell_type": "markdown",
   "id": "f9ad14f6",
   "metadata": {
    "papermill": {
     "duration": 0.028293,
     "end_time": "2023-12-22T21:38:37.652128",
     "exception": false,
     "start_time": "2023-12-22T21:38:37.623835",
     "status": "completed"
    },
    "tags": []
   },
   "source": [
    "**Select train/test**"
   ]
  },
  {
   "cell_type": "code",
   "execution_count": 47,
   "id": "67b2496e",
   "metadata": {
    "execution": {
     "iopub.execute_input": "2023-12-22T21:38:37.707910Z",
     "iopub.status.busy": "2023-12-22T21:38:37.707140Z",
     "iopub.status.idle": "2023-12-22T21:38:37.720212Z",
     "shell.execute_reply": "2023-12-22T21:38:37.719015Z"
    },
    "papermill": {
     "duration": 0.043625,
     "end_time": "2023-12-22T21:38:37.722655",
     "exception": false,
     "start_time": "2023-12-22T21:38:37.679030",
     "status": "completed"
    },
    "tags": []
   },
   "outputs": [],
   "source": [
    "train_indices = indices[:train_size]\n",
    "test_indices = indices[:test_size]\n",
    "\n",
    "train_dataset = Subset(dataset, train_indices)\n",
    "test_dataset = Subset(dataset, test_indices)"
   ]
  },
  {
   "cell_type": "markdown",
   "id": "1d83b5b2",
   "metadata": {
    "papermill": {
     "duration": 0.027261,
     "end_time": "2023-12-22T21:38:37.780558",
     "exception": false,
     "start_time": "2023-12-22T21:38:37.753297",
     "status": "completed"
    },
    "tags": []
   },
   "source": [
    "**Parameters**"
   ]
  },
  {
   "cell_type": "code",
   "execution_count": 48,
   "id": "22eac10b",
   "metadata": {
    "execution": {
     "iopub.execute_input": "2023-12-22T21:38:37.841679Z",
     "iopub.status.busy": "2023-12-22T21:38:37.840970Z",
     "iopub.status.idle": "2023-12-22T21:38:37.847037Z",
     "shell.execute_reply": "2023-12-22T21:38:37.844346Z"
    },
    "papermill": {
     "duration": 0.042448,
     "end_time": "2023-12-22T21:38:37.849918",
     "exception": false,
     "start_time": "2023-12-22T21:38:37.807470",
     "status": "completed"
    },
    "tags": []
   },
   "outputs": [],
   "source": [
    "batch_size = 16"
   ]
  },
  {
   "cell_type": "markdown",
   "id": "99cc802e",
   "metadata": {
    "papermill": {
     "duration": 0.026008,
     "end_time": "2023-12-22T21:38:37.909206",
     "exception": false,
     "start_time": "2023-12-22T21:38:37.883198",
     "status": "completed"
    },
    "tags": []
   },
   "source": [
    "**Create DataLoaders for train and test**"
   ]
  },
  {
   "cell_type": "code",
   "execution_count": 49,
   "id": "18331d21",
   "metadata": {
    "execution": {
     "iopub.execute_input": "2023-12-22T21:38:37.963682Z",
     "iopub.status.busy": "2023-12-22T21:38:37.963029Z",
     "iopub.status.idle": "2023-12-22T21:38:37.968364Z",
     "shell.execute_reply": "2023-12-22T21:38:37.967612Z"
    },
    "papermill": {
     "duration": 0.035236,
     "end_time": "2023-12-22T21:38:37.970738",
     "exception": false,
     "start_time": "2023-12-22T21:38:37.935502",
     "status": "completed"
    },
    "tags": []
   },
   "outputs": [],
   "source": [
    "train_loader = DataLoader(train_dataset, batch_size=batch_size, sampler=RandomSampler(train_dataset))\n",
    "test_loader = DataLoader(test_dataset, batch_size=batch_size, sampler=RandomSampler(test_dataset))"
   ]
  },
  {
   "cell_type": "markdown",
   "id": "fe247417",
   "metadata": {
    "papermill": {
     "duration": 0.027145,
     "end_time": "2023-12-22T21:38:38.024923",
     "exception": false,
     "start_time": "2023-12-22T21:38:37.997778",
     "status": "completed"
    },
    "tags": []
   },
   "source": [
    "**Save Loaders**"
   ]
  },
  {
   "cell_type": "code",
   "execution_count": 50,
   "id": "42b21b36",
   "metadata": {
    "execution": {
     "iopub.execute_input": "2023-12-22T21:38:38.082267Z",
     "iopub.status.busy": "2023-12-22T21:38:38.081663Z",
     "iopub.status.idle": "2023-12-22T21:38:40.506336Z",
     "shell.execute_reply": "2023-12-22T21:38:40.505038Z"
    },
    "papermill": {
     "duration": 2.455862,
     "end_time": "2023-12-22T21:38:40.508968",
     "exception": false,
     "start_time": "2023-12-22T21:38:38.053106",
     "status": "completed"
    },
    "tags": []
   },
   "outputs": [],
   "source": [
    "save_loader(train_loader, 'train_loader')\n",
    "save_loader(test_loader, 'test_loader')"
   ]
  },
  {
   "cell_type": "markdown",
   "id": "4c73e0f1",
   "metadata": {
    "papermill": {
     "duration": 0.036434,
     "end_time": "2023-12-22T21:38:41.410044",
     "exception": false,
     "start_time": "2023-12-22T21:38:41.373610",
     "status": "completed"
    },
    "tags": []
   },
   "source": [
    "**Load Loaders**"
   ]
  },
  {
   "cell_type": "code",
   "execution_count": 51,
   "id": "3c42a64e",
   "metadata": {
    "execution": {
     "iopub.execute_input": "2023-12-22T21:38:41.474402Z",
     "iopub.status.busy": "2023-12-22T21:38:41.473701Z",
     "iopub.status.idle": "2023-12-22T21:38:42.842680Z",
     "shell.execute_reply": "2023-12-22T21:38:42.841385Z"
    },
    "papermill": {
     "duration": 1.40553,
     "end_time": "2023-12-22T21:38:42.845092",
     "exception": false,
     "start_time": "2023-12-22T21:38:41.439562",
     "status": "completed"
    },
    "tags": []
   },
   "outputs": [],
   "source": [
    "train_loader = load_loader(train_loader, 'train_loader')\n",
    "test_loader = load_loader(test_loader, 'test_loader')"
   ]
  },
  {
   "cell_type": "markdown",
   "id": "a0f288a2",
   "metadata": {
    "papermill": {
     "duration": 0.026277,
     "end_time": "2023-12-22T21:38:42.899323",
     "exception": false,
     "start_time": "2023-12-22T21:38:42.873046",
     "status": "completed"
    },
    "tags": []
   },
   "source": [
    "# Build and train"
   ]
  },
  {
   "cell_type": "code",
   "execution_count": 52,
   "id": "a845fc7b",
   "metadata": {
    "execution": {
     "iopub.execute_input": "2023-12-22T21:38:42.959551Z",
     "iopub.status.busy": "2023-12-22T21:38:42.958814Z",
     "iopub.status.idle": "2023-12-22T21:39:00.259309Z",
     "shell.execute_reply": "2023-12-22T21:39:00.256829Z"
    },
    "papermill": {
     "duration": 17.336162,
     "end_time": "2023-12-22T21:39:00.262876",
     "exception": false,
     "start_time": "2023-12-22T21:38:42.926714",
     "status": "completed"
    },
    "tags": []
   },
   "outputs": [
    {
     "name": "stdout",
     "output_type": "stream",
     "text": [
      "Collecting torch-summary\r\n",
      "  Downloading torch_summary-1.4.5-py3-none-any.whl (16 kB)\r\n",
      "Installing collected packages: torch-summary\r\n",
      "Successfully installed torch-summary-1.4.5\r\n"
     ]
    }
   ],
   "source": [
    "!pip install torch-summary"
   ]
  },
  {
   "cell_type": "code",
   "execution_count": 53,
   "id": "73b64959",
   "metadata": {
    "execution": {
     "iopub.execute_input": "2023-12-22T21:39:00.326885Z",
     "iopub.status.busy": "2023-12-22T21:39:00.326218Z",
     "iopub.status.idle": "2023-12-22T21:39:00.344974Z",
     "shell.execute_reply": "2023-12-22T21:39:00.343264Z"
    },
    "papermill": {
     "duration": 0.052398,
     "end_time": "2023-12-22T21:39:00.348096",
     "exception": false,
     "start_time": "2023-12-22T21:39:00.295698",
     "status": "completed"
    },
    "tags": []
   },
   "outputs": [],
   "source": [
    "from torchsummary import summary"
   ]
  },
  {
   "cell_type": "markdown",
   "id": "a4ee9ee7",
   "metadata": {
    "papermill": {
     "duration": 0.027936,
     "end_time": "2023-12-22T21:39:00.404277",
     "exception": false,
     "start_time": "2023-12-22T21:39:00.376341",
     "status": "completed"
    },
    "tags": []
   },
   "source": [
    "**Load the base BERT model**"
   ]
  },
  {
   "cell_type": "code",
   "execution_count": 54,
   "id": "f8d4705a",
   "metadata": {
    "execution": {
     "iopub.execute_input": "2023-12-22T21:39:00.460726Z",
     "iopub.status.busy": "2023-12-22T21:39:00.460258Z",
     "iopub.status.idle": "2023-12-22T21:39:04.781659Z",
     "shell.execute_reply": "2023-12-22T21:39:04.780449Z"
    },
    "papermill": {
     "duration": 4.352937,
     "end_time": "2023-12-22T21:39:04.784235",
     "exception": false,
     "start_time": "2023-12-22T21:39:00.431298",
     "status": "completed"
    },
    "tags": []
   },
   "outputs": [
    {
     "data": {
      "application/vnd.jupyter.widget-view+json": {
       "model_id": "aad4f25a49a143e0a004417d163a6446",
       "version_major": 2,
       "version_minor": 0
      },
      "text/plain": [
       "model.safetensors:   0%|          | 0.00/436M [00:00<?, ?B/s]"
      ]
     },
     "metadata": {},
     "output_type": "display_data"
    }
   ],
   "source": [
    "bert_model = AutoModel.from_pretrained(model_name)"
   ]
  },
  {
   "cell_type": "markdown",
   "id": "c5c367db",
   "metadata": {
    "papermill": {
     "duration": 0.027073,
     "end_time": "2023-12-22T21:39:04.843233",
     "exception": false,
     "start_time": "2023-12-22T21:39:04.816160",
     "status": "completed"
    },
    "tags": []
   },
   "source": [
    "**Sentiment Classifier Class**"
   ]
  },
  {
   "cell_type": "code",
   "execution_count": 55,
   "id": "2840ca9b",
   "metadata": {
    "execution": {
     "iopub.execute_input": "2023-12-22T21:39:04.900890Z",
     "iopub.status.busy": "2023-12-22T21:39:04.900183Z",
     "iopub.status.idle": "2023-12-22T21:39:04.907159Z",
     "shell.execute_reply": "2023-12-22T21:39:04.905711Z"
    },
    "papermill": {
     "duration": 0.038358,
     "end_time": "2023-12-22T21:39:04.909150",
     "exception": false,
     "start_time": "2023-12-22T21:39:04.870792",
     "status": "completed"
    },
    "tags": []
   },
   "outputs": [],
   "source": [
    "class SentimentClassifier(nn.Module):\n",
    "    def __init__(self, bert_model, num_classes):\n",
    "        super().__init__()\n",
    "        # Initialize the BERT model\n",
    "        self.bert_model = bert_model\n",
    "        # Initialize a linear layer for classification. The input size is the hidden size of the BERT model\n",
    "        # and the output size is the number of classes.\n",
    "        self.classifier = nn.Linear(bert_model.config.hidden_size, num_classes)\n",
    "        \n",
    "    def forward(self, input_ids, attention_mask):\n",
    "        # Feed the inputs through the BERT model. The 'attention_mask' is used to ignore padding tokens\n",
    "        outputs = self.bert_model(input_ids=input_ids, attention_mask=attention_mask)\n",
    "        # The 'pooler_output' is a summary of the content, according to the BERT model\n",
    "        # Feed the 'pooler_output' through the classifier to get the logits\n",
    "        logits = self.classifier(outputs.pooler_output)\n",
    "        return logits\n"
   ]
  },
  {
   "cell_type": "markdown",
   "id": "b6a177d7",
   "metadata": {
    "papermill": {
     "duration": 0.026365,
     "end_time": "2023-12-22T21:39:04.963461",
     "exception": false,
     "start_time": "2023-12-22T21:39:04.937096",
     "status": "completed"
    },
    "tags": []
   },
   "source": [
    "**Create an instance of the sentiment classifier**"
   ]
  },
  {
   "cell_type": "code",
   "execution_count": 56,
   "id": "7a7c264f",
   "metadata": {
    "execution": {
     "iopub.execute_input": "2023-12-22T21:39:05.023306Z",
     "iopub.status.busy": "2023-12-22T21:39:05.022905Z",
     "iopub.status.idle": "2023-12-22T21:39:05.032676Z",
     "shell.execute_reply": "2023-12-22T21:39:05.031791Z"
    },
    "papermill": {
     "duration": 0.042119,
     "end_time": "2023-12-22T21:39:05.035353",
     "exception": false,
     "start_time": "2023-12-22T21:39:04.993234",
     "status": "completed"
    },
    "tags": []
   },
   "outputs": [],
   "source": [
    "model = SentimentClassifier(bert_model, num_classes=5)"
   ]
  },
  {
   "cell_type": "code",
   "execution_count": 57,
   "id": "d744e0e0",
   "metadata": {
    "execution": {
     "iopub.execute_input": "2023-12-22T21:39:05.091703Z",
     "iopub.status.busy": "2023-12-22T21:39:05.090849Z",
     "iopub.status.idle": "2023-12-22T21:39:05.114271Z",
     "shell.execute_reply": "2023-12-22T21:39:05.113075Z"
    },
    "papermill": {
     "duration": 0.054295,
     "end_time": "2023-12-22T21:39:05.116804",
     "exception": false,
     "start_time": "2023-12-22T21:39:05.062509",
     "status": "completed"
    },
    "tags": []
   },
   "outputs": [
    {
     "name": "stdout",
     "output_type": "stream",
     "text": [
      "=================================================================\n",
      "Layer (type:depth-idx)                   Param #\n",
      "=================================================================\n",
      "├─BertModel: 1-1                         --\n",
      "|    └─BertEmbeddings: 2-1               --\n",
      "|    |    └─Embedding: 3-1               22,268,928\n",
      "|    |    └─Embedding: 3-2               393,216\n",
      "|    |    └─Embedding: 3-3               1,536\n",
      "|    |    └─LayerNorm: 3-4               1,536\n",
      "|    |    └─Dropout: 3-5                 --\n",
      "|    └─BertEncoder: 2-2                  --\n",
      "|    |    └─ModuleList: 3-6              85,054,464\n",
      "|    └─BertPooler: 2-3                   --\n",
      "|    |    └─Linear: 3-7                  590,592\n",
      "|    |    └─Tanh: 3-8                    --\n",
      "├─Linear: 1-2                            3,845\n",
      "=================================================================\n",
      "Total params: 108,314,117\n",
      "Trainable params: 108,314,117\n",
      "Non-trainable params: 0\n",
      "=================================================================\n"
     ]
    },
    {
     "data": {
      "text/plain": [
       "=================================================================\n",
       "Layer (type:depth-idx)                   Param #\n",
       "=================================================================\n",
       "├─BertModel: 1-1                         --\n",
       "|    └─BertEmbeddings: 2-1               --\n",
       "|    |    └─Embedding: 3-1               22,268,928\n",
       "|    |    └─Embedding: 3-2               393,216\n",
       "|    |    └─Embedding: 3-3               1,536\n",
       "|    |    └─LayerNorm: 3-4               1,536\n",
       "|    |    └─Dropout: 3-5                 --\n",
       "|    └─BertEncoder: 2-2                  --\n",
       "|    |    └─ModuleList: 3-6              85,054,464\n",
       "|    └─BertPooler: 2-3                   --\n",
       "|    |    └─Linear: 3-7                  590,592\n",
       "|    |    └─Tanh: 3-8                    --\n",
       "├─Linear: 1-2                            3,845\n",
       "=================================================================\n",
       "Total params: 108,314,117\n",
       "Trainable params: 108,314,117\n",
       "Non-trainable params: 0\n",
       "================================================================="
      ]
     },
     "execution_count": 57,
     "metadata": {},
     "output_type": "execute_result"
    }
   ],
   "source": [
    "summary(model)"
   ]
  },
  {
   "cell_type": "markdown",
   "id": "e2e0f36b",
   "metadata": {
    "papermill": {
     "duration": 0.031243,
     "end_time": "2023-12-22T21:39:05.175499",
     "exception": false,
     "start_time": "2023-12-22T21:39:05.144256",
     "status": "completed"
    },
    "tags": []
   },
   "source": [
    "**Move model to GPU if available**"
   ]
  },
  {
   "cell_type": "code",
   "execution_count": 58,
   "id": "73888196",
   "metadata": {
    "execution": {
     "iopub.execute_input": "2023-12-22T21:39:05.233972Z",
     "iopub.status.busy": "2023-12-22T21:39:05.232990Z",
     "iopub.status.idle": "2023-12-22T21:39:05.243199Z",
     "shell.execute_reply": "2023-12-22T21:39:05.241866Z"
    },
    "papermill": {
     "duration": 0.041797,
     "end_time": "2023-12-22T21:39:05.245713",
     "exception": false,
     "start_time": "2023-12-22T21:39:05.203916",
     "status": "completed"
    },
    "tags": []
   },
   "outputs": [],
   "source": [
    "# Move model to GPU if available\n",
    "device = torch.device('cuda' if torch.cuda.is_available() else 'cpu')\n",
    "model = model.to(device)"
   ]
  },
  {
   "cell_type": "markdown",
   "id": "b401cc40",
   "metadata": {
    "papermill": {
     "duration": 0.029449,
     "end_time": "2023-12-22T21:39:05.302976",
     "exception": false,
     "start_time": "2023-12-22T21:39:05.273527",
     "status": "completed"
    },
    "tags": []
   },
   "source": [
    "**Define the loss function and the optimizer**\n",
    "\n",
    "the `nn.CrossEntropyLoss`  loss function combines `nn.LogSoftmax()` and `nn.NLLLoss()` in one single class, so you don’t need to add a softmax layer to your model."
   ]
  },
  {
   "cell_type": "code",
   "execution_count": 59,
   "id": "c7d98e04",
   "metadata": {
    "execution": {
     "iopub.execute_input": "2023-12-22T21:39:05.364204Z",
     "iopub.status.busy": "2023-12-22T21:39:05.363421Z",
     "iopub.status.idle": "2023-12-22T21:39:05.368751Z",
     "shell.execute_reply": "2023-12-22T21:39:05.367190Z"
    },
    "papermill": {
     "duration": 0.039399,
     "end_time": "2023-12-22T21:39:05.371309",
     "exception": false,
     "start_time": "2023-12-22T21:39:05.331910",
     "status": "completed"
    },
    "tags": []
   },
   "outputs": [],
   "source": [
    "leaning_rate = 5e-5\n",
    "num_epochs = 3"
   ]
  },
  {
   "cell_type": "code",
   "execution_count": 60,
   "id": "45f6e769",
   "metadata": {
    "execution": {
     "iopub.execute_input": "2023-12-22T21:39:05.428495Z",
     "iopub.status.busy": "2023-12-22T21:39:05.427664Z",
     "iopub.status.idle": "2023-12-22T21:39:05.435068Z",
     "shell.execute_reply": "2023-12-22T21:39:05.433960Z"
    },
    "papermill": {
     "duration": 0.038333,
     "end_time": "2023-12-22T21:39:05.437523",
     "exception": false,
     "start_time": "2023-12-22T21:39:05.399190",
     "status": "completed"
    },
    "tags": []
   },
   "outputs": [],
   "source": [
    "# Define the loss function and the optimizer\n",
    "criterion = nn.CrossEntropyLoss()\n",
    "optimizer = torch.optim.Adam(model.parameters(), lr=leaning_rate)"
   ]
  },
  {
   "cell_type": "markdown",
   "id": "84fbfaf5",
   "metadata": {
    "papermill": {
     "duration": 0.028997,
     "end_time": "2023-12-22T21:39:05.500857",
     "exception": false,
     "start_time": "2023-12-22T21:39:05.471860",
     "status": "completed"
    },
    "tags": []
   },
   "source": [
    "**train_one_epoch:**\n",
    "    Function to train the model for one epoch.\n",
    "    \n",
    "**Parameters:**\n",
    "*     model (torch.nn.Module): The model to be trained.\n",
    "*     criterion (torch.nn.Module): The loss function.\n",
    "*     optimizer (torch.optim.Optimizer): The optimizer.\n",
    "*     data_loader (torch.utils.data.DataLoader): The data loader.\n",
    "*     device (torch.device): The device (cpu or gpu) where the data and model are.\n",
    "\n",
    "**Returns:**\n",
    "*     epoch_loss (float): The average loss for this epoch.\n",
    "*     epoch_accuracy (float): The accuracy for this epoch."
   ]
  },
  {
   "cell_type": "code",
   "execution_count": 61,
   "id": "03a9d35b",
   "metadata": {
    "execution": {
     "iopub.execute_input": "2023-12-22T21:39:05.560553Z",
     "iopub.status.busy": "2023-12-22T21:39:05.559516Z",
     "iopub.status.idle": "2023-12-22T21:39:05.567558Z",
     "shell.execute_reply": "2023-12-22T21:39:05.566809Z"
    },
    "papermill": {
     "duration": 0.039814,
     "end_time": "2023-12-22T21:39:05.570000",
     "exception": false,
     "start_time": "2023-12-22T21:39:05.530186",
     "status": "completed"
    },
    "tags": []
   },
   "outputs": [],
   "source": [
    "def train_one_epoch(model, criterion, optimizer, data_loader, device):\n",
    "    \"\"\"\n",
    "    Function to train the model for one epoch.\n",
    "\n",
    "    Parameters:\n",
    "    model (torch.nn.Module): The model to be trained.\n",
    "    criterion (torch.nn.Module): The loss function.\n",
    "    optimizer (torch.optim.Optimizer): The optimizer.\n",
    "    data_loader (torch.utils.data.DataLoader): The data loader.\n",
    "    device (torch.device): The device (cpu or gpu) where the data and model are.\n",
    "\n",
    "    Returns:\n",
    "    epoch_loss (float): The average loss for this epoch.\n",
    "    epoch_accuracy (float): The accuracy for this epoch.\n",
    "    \"\"\"\n",
    "\n",
    "    # Initialize counters\n",
    "    epoch_loss = 0\n",
    "    epoch_correct = 0\n",
    "    epoch_total = 0\n",
    "\n",
    "    # Iterate over batches\n",
    "    for batch in data_loader:\n",
    "        # Move data and labels to device\n",
    "        input_ids = batch['input_ids'].to(device)\n",
    "        attention_mask = batch['attention_mask'].to(device)\n",
    "        labels = batch['labels'].to(device)\n",
    "\n",
    "        # Forward pass: compute the model output given the inputs\n",
    "        outputs = model(input_ids, attention_mask)\n",
    "        \n",
    "        # Compute loss: calculate the difference between the model output and the true labels\n",
    "        loss = criterion(outputs, labels)\n",
    "        epoch_loss += loss.item()\n",
    "\n",
    "        # Compute accuracy: compare the model's predictions to the true labels\n",
    "        _, predicted = torch.max(outputs, 1)\n",
    "        correct = (predicted == labels).sum().item()\n",
    "        total = labels.size(0)\n",
    "        epoch_correct += correct\n",
    "        epoch_total += total\n",
    "\n",
    "        # Backward pass and optimize: compute the gradients and update the model parameters\n",
    "        optimizer.zero_grad()\n",
    "        loss.backward()\n",
    "        optimizer.step()\n",
    "\n",
    "    # Return the average loss and accuracy for this epoch\n",
    "    return epoch_loss / len(data_loader), epoch_correct / epoch_total\n"
   ]
  },
  {
   "cell_type": "markdown",
   "id": "ec4c8a01",
   "metadata": {
    "papermill": {
     "duration": 0.026035,
     "end_time": "2023-12-22T21:39:05.623061",
     "exception": false,
     "start_time": "2023-12-22T21:39:05.597026",
     "status": "completed"
    },
    "tags": []
   },
   "source": [
    "**plot metrics function**"
   ]
  },
  {
   "cell_type": "code",
   "execution_count": 62,
   "id": "930fe0e3",
   "metadata": {
    "execution": {
     "iopub.execute_input": "2023-12-22T21:39:05.678069Z",
     "iopub.status.busy": "2023-12-22T21:39:05.677372Z",
     "iopub.status.idle": "2023-12-22T21:39:05.683329Z",
     "shell.execute_reply": "2023-12-22T21:39:05.682143Z"
    },
    "papermill": {
     "duration": 0.03586,
     "end_time": "2023-12-22T21:39:05.685275",
     "exception": false,
     "start_time": "2023-12-22T21:39:05.649415",
     "status": "completed"
    },
    "tags": []
   },
   "outputs": [],
   "source": [
    "def plot_metrics(train_loss, train_accuracy):\n",
    "    # Plot the training loss and accuracy\n",
    "    plt.figure(figsize=(12, 4))\n",
    "    plt.subplot(1, 2, 1)\n",
    "    plt.plot(train_loss, label='Train Loss')\n",
    "    plt.xlabel('Epoch')\n",
    "    plt.ylabel('Loss')\n",
    "    plt.legend()\n",
    "\n",
    "    plt.subplot(1, 2, 2)\n",
    "    plt.plot(train_accuracy, label='Train Accuracy')\n",
    "    plt.xlabel('Epoch')\n",
    "    plt.ylabel('Accuracy')\n",
    "    plt.legend()\n",
    "\n",
    "    plt.show()"
   ]
  },
  {
   "cell_type": "markdown",
   "id": "b81dc72a",
   "metadata": {
    "papermill": {
     "duration": 0.025618,
     "end_time": "2023-12-22T21:39:05.738272",
     "exception": false,
     "start_time": "2023-12-22T21:39:05.712654",
     "status": "completed"
    },
    "tags": []
   },
   "source": [
    "**train_model** Function to train the model for a specified number of epochs and plot the training metrics.\n",
    "\n",
    "**Parameters:**\n",
    "*     model (torch.nn.Module): The model to be trained.\n",
    "*     criterion (torch.nn.Module): The loss function.\n",
    "*     optimizer (torch.optim.Optimizer): The optimizer.\n",
    "*     train_loader (torch.utils.data.DataLoader): The data loader.\n",
    "*     num_epochs (int): The number of epochs to train the model.\n",
    "*     device (torch.device): The device (cpu or gpu) where the data and model are."
   ]
  },
  {
   "cell_type": "code",
   "execution_count": 63,
   "id": "bdbb686f",
   "metadata": {
    "execution": {
     "iopub.execute_input": "2023-12-22T21:39:05.792936Z",
     "iopub.status.busy": "2023-12-22T21:39:05.792260Z",
     "iopub.status.idle": "2023-12-22T21:39:05.798573Z",
     "shell.execute_reply": "2023-12-22T21:39:05.797582Z"
    },
    "papermill": {
     "duration": 0.036266,
     "end_time": "2023-12-22T21:39:05.800747",
     "exception": false,
     "start_time": "2023-12-22T21:39:05.764481",
     "status": "completed"
    },
    "tags": []
   },
   "outputs": [],
   "source": [
    "def train_model(model, criterion, optimizer, train_loader, num_epochs, device):\n",
    "    \"\"\"\n",
    "    Function to train the model for a specified number of epochs and plot the training metrics.\n",
    "\n",
    "    Parameters:\n",
    "    model (torch.nn.Module): The model to be trained.\n",
    "    criterion (torch.nn.Module): The loss function.\n",
    "    optimizer (torch.optim.Optimizer): The optimizer.\n",
    "    train_loader (torch.utils.data.DataLoader): The data loader.\n",
    "    num_epochs (int): The number of epochs to train the model.\n",
    "    device (torch.device): The device (cpu or gpu) where the data and model are.\n",
    "    \"\"\"\n",
    "\n",
    "    # Initialize lists to save the loss and accuracy values\n",
    "    train_loss = []\n",
    "    train_accuracy = []\n",
    "\n",
    "    # Training loop\n",
    "    for epoch in range(num_epochs):\n",
    "        # Train the model for one epoch and get the average loss and accuracy\n",
    "        loss, accuracy = train_one_epoch(model, criterion, optimizer, train_loader, device)\n",
    "        # Save the average loss and accuracy for this epoch\n",
    "        train_loss.append(loss)\n",
    "        train_accuracy.append(accuracy)\n",
    "        # Print the loss and accuracy for this epoch\n",
    "        print(f'Epoch [{epoch+1}/{num_epochs}], Loss: {loss}, Accuracy: {accuracy}')\n",
    "\n",
    "    # Plot the training loss and accuracy\n",
    "    plot_metrics(train_loss, train_accuracy)\n"
   ]
  },
  {
   "cell_type": "markdown",
   "id": "e52c6142",
   "metadata": {
    "papermill": {
     "duration": 0.025993,
     "end_time": "2023-12-22T21:39:05.852861",
     "exception": false,
     "start_time": "2023-12-22T21:39:05.826868",
     "status": "completed"
    },
    "tags": []
   },
   "source": [
    "We can now call the **train_model** to train your model and automatically plot the metrics:"
   ]
  },
  {
   "cell_type": "code",
   "execution_count": 64,
   "id": "0fc0f5a5",
   "metadata": {
    "execution": {
     "iopub.execute_input": "2023-12-22T21:39:05.908091Z",
     "iopub.status.busy": "2023-12-22T21:39:05.907616Z",
     "iopub.status.idle": "2023-12-22T21:39:05.912154Z",
     "shell.execute_reply": "2023-12-22T21:39:05.911125Z"
    },
    "papermill": {
     "duration": 0.034313,
     "end_time": "2023-12-22T21:39:05.913852",
     "exception": false,
     "start_time": "2023-12-22T21:39:05.879539",
     "status": "completed"
    },
    "tags": []
   },
   "outputs": [],
   "source": [
    "#train_model(model, criterion, optimizer, train_loader, num_epochs, device)"
   ]
  }
 ],
 "metadata": {
  "kaggle": {
   "accelerator": "none",
   "dataSources": [
    {
     "databundleVersionId": 32092,
     "sourceId": 3810,
     "sourceType": "competition"
    },
    {
     "databundleVersionId": 7336415,
     "datasetId": 4198079,
     "sourceId": 7246711,
     "sourceType": "datasetVersion"
    }
   ],
   "dockerImageVersionId": 30626,
   "isGpuEnabled": false,
   "isInternetEnabled": true,
   "language": "python",
   "sourceType": "notebook"
  },
  "kernelspec": {
   "display_name": "Python 3",
   "language": "python",
   "name": "python3"
  },
  "language_info": {
   "codemirror_mode": {
    "name": "ipython",
    "version": 3
   },
   "file_extension": ".py",
   "mimetype": "text/x-python",
   "name": "python",
   "nbconvert_exporter": "python",
   "pygments_lexer": "ipython3",
   "version": "3.10.12"
  },
  "papermill": {
   "default_parameters": {},
   "duration": 109.021346,
   "end_time": "2023-12-22T21:39:07.870027",
   "environment_variables": {},
   "exception": null,
   "input_path": "__notebook__.ipynb",
   "output_path": "__notebook__.ipynb",
   "parameters": {},
   "start_time": "2023-12-22T21:37:18.848681",
   "version": "2.4.0"
  },
  "widgets": {
   "application/vnd.jupyter.widget-state+json": {
    "state": {
     "01c806cacae44d0cb8143f6b435384ff": {
      "model_module": "@jupyter-widgets/controls",
      "model_module_version": "1.5.0",
      "model_name": "ProgressStyleModel",
      "state": {
       "_model_module": "@jupyter-widgets/controls",
       "_model_module_version": "1.5.0",
       "_model_name": "ProgressStyleModel",
       "_view_count": null,
       "_view_module": "@jupyter-widgets/base",
       "_view_module_version": "1.2.0",
       "_view_name": "StyleView",
       "bar_color": null,
       "description_width": ""
      }
     },
     "0cda673f4d4d4139ada3d71047141b50": {
      "model_module": "@jupyter-widgets/controls",
      "model_module_version": "1.5.0",
      "model_name": "DescriptionStyleModel",
      "state": {
       "_model_module": "@jupyter-widgets/controls",
       "_model_module_version": "1.5.0",
       "_model_name": "DescriptionStyleModel",
       "_view_count": null,
       "_view_module": "@jupyter-widgets/base",
       "_view_module_version": "1.2.0",
       "_view_name": "StyleView",
       "description_width": ""
      }
     },
     "0d97da79592f412e960f0465eaf0df08": {
      "model_module": "@jupyter-widgets/controls",
      "model_module_version": "1.5.0",
      "model_name": "HTMLModel",
      "state": {
       "_dom_classes": [],
       "_model_module": "@jupyter-widgets/controls",
       "_model_module_version": "1.5.0",
       "_model_name": "HTMLModel",
       "_view_count": null,
       "_view_module": "@jupyter-widgets/controls",
       "_view_module_version": "1.5.0",
       "_view_name": "HTMLView",
       "description": "",
       "description_tooltip": null,
       "layout": "IPY_MODEL_1e941237094347d6882e202ae86a7bb5",
       "placeholder": "​",
       "style": "IPY_MODEL_a515b532506e4447917ff2bff7da142f",
       "value": "tokenizer.json: 100%"
      }
     },
     "0f43f395c57f479a82ad632878927661": {
      "model_module": "@jupyter-widgets/base",
      "model_module_version": "1.2.0",
      "model_name": "LayoutModel",
      "state": {
       "_model_module": "@jupyter-widgets/base",
       "_model_module_version": "1.2.0",
       "_model_name": "LayoutModel",
       "_view_count": null,
       "_view_module": "@jupyter-widgets/base",
       "_view_module_version": "1.2.0",
       "_view_name": "LayoutView",
       "align_content": null,
       "align_items": null,
       "align_self": null,
       "border": null,
       "bottom": null,
       "display": null,
       "flex": null,
       "flex_flow": null,
       "grid_area": null,
       "grid_auto_columns": null,
       "grid_auto_flow": null,
       "grid_auto_rows": null,
       "grid_column": null,
       "grid_gap": null,
       "grid_row": null,
       "grid_template_areas": null,
       "grid_template_columns": null,
       "grid_template_rows": null,
       "height": null,
       "justify_content": null,
       "justify_items": null,
       "left": null,
       "margin": null,
       "max_height": null,
       "max_width": null,
       "min_height": null,
       "min_width": null,
       "object_fit": null,
       "object_position": null,
       "order": null,
       "overflow": null,
       "overflow_x": null,
       "overflow_y": null,
       "padding": null,
       "right": null,
       "top": null,
       "visibility": null,
       "width": null
      }
     },
     "0f57d498a5ef47f49539b942b932ed94": {
      "model_module": "@jupyter-widgets/base",
      "model_module_version": "1.2.0",
      "model_name": "LayoutModel",
      "state": {
       "_model_module": "@jupyter-widgets/base",
       "_model_module_version": "1.2.0",
       "_model_name": "LayoutModel",
       "_view_count": null,
       "_view_module": "@jupyter-widgets/base",
       "_view_module_version": "1.2.0",
       "_view_name": "LayoutView",
       "align_content": null,
       "align_items": null,
       "align_self": null,
       "border": null,
       "bottom": null,
       "display": null,
       "flex": null,
       "flex_flow": null,
       "grid_area": null,
       "grid_auto_columns": null,
       "grid_auto_flow": null,
       "grid_auto_rows": null,
       "grid_column": null,
       "grid_gap": null,
       "grid_row": null,
       "grid_template_areas": null,
       "grid_template_columns": null,
       "grid_template_rows": null,
       "height": null,
       "justify_content": null,
       "justify_items": null,
       "left": null,
       "margin": null,
       "max_height": null,
       "max_width": null,
       "min_height": null,
       "min_width": null,
       "object_fit": null,
       "object_position": null,
       "order": null,
       "overflow": null,
       "overflow_x": null,
       "overflow_y": null,
       "padding": null,
       "right": null,
       "top": null,
       "visibility": null,
       "width": null
      }
     },
     "15227ad2bbb64992b8f5dcdf4d0ba5ec": {
      "model_module": "@jupyter-widgets/controls",
      "model_module_version": "1.5.0",
      "model_name": "DescriptionStyleModel",
      "state": {
       "_model_module": "@jupyter-widgets/controls",
       "_model_module_version": "1.5.0",
       "_model_name": "DescriptionStyleModel",
       "_view_count": null,
       "_view_module": "@jupyter-widgets/base",
       "_view_module_version": "1.2.0",
       "_view_name": "StyleView",
       "description_width": ""
      }
     },
     "1e5f426316614a80b1d0d97911292acd": {
      "model_module": "@jupyter-widgets/base",
      "model_module_version": "1.2.0",
      "model_name": "LayoutModel",
      "state": {
       "_model_module": "@jupyter-widgets/base",
       "_model_module_version": "1.2.0",
       "_model_name": "LayoutModel",
       "_view_count": null,
       "_view_module": "@jupyter-widgets/base",
       "_view_module_version": "1.2.0",
       "_view_name": "LayoutView",
       "align_content": null,
       "align_items": null,
       "align_self": null,
       "border": null,
       "bottom": null,
       "display": null,
       "flex": null,
       "flex_flow": null,
       "grid_area": null,
       "grid_auto_columns": null,
       "grid_auto_flow": null,
       "grid_auto_rows": null,
       "grid_column": null,
       "grid_gap": null,
       "grid_row": null,
       "grid_template_areas": null,
       "grid_template_columns": null,
       "grid_template_rows": null,
       "height": null,
       "justify_content": null,
       "justify_items": null,
       "left": null,
       "margin": null,
       "max_height": null,
       "max_width": null,
       "min_height": null,
       "min_width": null,
       "object_fit": null,
       "object_position": null,
       "order": null,
       "overflow": null,
       "overflow_x": null,
       "overflow_y": null,
       "padding": null,
       "right": null,
       "top": null,
       "visibility": null,
       "width": null
      }
     },
     "1e941237094347d6882e202ae86a7bb5": {
      "model_module": "@jupyter-widgets/base",
      "model_module_version": "1.2.0",
      "model_name": "LayoutModel",
      "state": {
       "_model_module": "@jupyter-widgets/base",
       "_model_module_version": "1.2.0",
       "_model_name": "LayoutModel",
       "_view_count": null,
       "_view_module": "@jupyter-widgets/base",
       "_view_module_version": "1.2.0",
       "_view_name": "LayoutView",
       "align_content": null,
       "align_items": null,
       "align_self": null,
       "border": null,
       "bottom": null,
       "display": null,
       "flex": null,
       "flex_flow": null,
       "grid_area": null,
       "grid_auto_columns": null,
       "grid_auto_flow": null,
       "grid_auto_rows": null,
       "grid_column": null,
       "grid_gap": null,
       "grid_row": null,
       "grid_template_areas": null,
       "grid_template_columns": null,
       "grid_template_rows": null,
       "height": null,
       "justify_content": null,
       "justify_items": null,
       "left": null,
       "margin": null,
       "max_height": null,
       "max_width": null,
       "min_height": null,
       "min_width": null,
       "object_fit": null,
       "object_position": null,
       "order": null,
       "overflow": null,
       "overflow_x": null,
       "overflow_y": null,
       "padding": null,
       "right": null,
       "top": null,
       "visibility": null,
       "width": null
      }
     },
     "1ffc33bca87145a28276d2e34b1bbc81": {
      "model_module": "@jupyter-widgets/controls",
      "model_module_version": "1.5.0",
      "model_name": "DescriptionStyleModel",
      "state": {
       "_model_module": "@jupyter-widgets/controls",
       "_model_module_version": "1.5.0",
       "_model_name": "DescriptionStyleModel",
       "_view_count": null,
       "_view_module": "@jupyter-widgets/base",
       "_view_module_version": "1.2.0",
       "_view_name": "StyleView",
       "description_width": ""
      }
     },
     "2650fd4addf94a45b3d04fbf3d41bffd": {
      "model_module": "@jupyter-widgets/base",
      "model_module_version": "1.2.0",
      "model_name": "LayoutModel",
      "state": {
       "_model_module": "@jupyter-widgets/base",
       "_model_module_version": "1.2.0",
       "_model_name": "LayoutModel",
       "_view_count": null,
       "_view_module": "@jupyter-widgets/base",
       "_view_module_version": "1.2.0",
       "_view_name": "LayoutView",
       "align_content": null,
       "align_items": null,
       "align_self": null,
       "border": null,
       "bottom": null,
       "display": null,
       "flex": null,
       "flex_flow": null,
       "grid_area": null,
       "grid_auto_columns": null,
       "grid_auto_flow": null,
       "grid_auto_rows": null,
       "grid_column": null,
       "grid_gap": null,
       "grid_row": null,
       "grid_template_areas": null,
       "grid_template_columns": null,
       "grid_template_rows": null,
       "height": null,
       "justify_content": null,
       "justify_items": null,
       "left": null,
       "margin": null,
       "max_height": null,
       "max_width": null,
       "min_height": null,
       "min_width": null,
       "object_fit": null,
       "object_position": null,
       "order": null,
       "overflow": null,
       "overflow_x": null,
       "overflow_y": null,
       "padding": null,
       "right": null,
       "top": null,
       "visibility": null,
       "width": null
      }
     },
     "2940a9c8d9f64613b5d54871f59e6236": {
      "model_module": "@jupyter-widgets/base",
      "model_module_version": "1.2.0",
      "model_name": "LayoutModel",
      "state": {
       "_model_module": "@jupyter-widgets/base",
       "_model_module_version": "1.2.0",
       "_model_name": "LayoutModel",
       "_view_count": null,
       "_view_module": "@jupyter-widgets/base",
       "_view_module_version": "1.2.0",
       "_view_name": "LayoutView",
       "align_content": null,
       "align_items": null,
       "align_self": null,
       "border": null,
       "bottom": null,
       "display": null,
       "flex": null,
       "flex_flow": null,
       "grid_area": null,
       "grid_auto_columns": null,
       "grid_auto_flow": null,
       "grid_auto_rows": null,
       "grid_column": null,
       "grid_gap": null,
       "grid_row": null,
       "grid_template_areas": null,
       "grid_template_columns": null,
       "grid_template_rows": null,
       "height": null,
       "justify_content": null,
       "justify_items": null,
       "left": null,
       "margin": null,
       "max_height": null,
       "max_width": null,
       "min_height": null,
       "min_width": null,
       "object_fit": null,
       "object_position": null,
       "order": null,
       "overflow": null,
       "overflow_x": null,
       "overflow_y": null,
       "padding": null,
       "right": null,
       "top": null,
       "visibility": null,
       "width": null
      }
     },
     "2cc317a699074fe5a330c7e58ac6ab26": {
      "model_module": "@jupyter-widgets/controls",
      "model_module_version": "1.5.0",
      "model_name": "DescriptionStyleModel",
      "state": {
       "_model_module": "@jupyter-widgets/controls",
       "_model_module_version": "1.5.0",
       "_model_name": "DescriptionStyleModel",
       "_view_count": null,
       "_view_module": "@jupyter-widgets/base",
       "_view_module_version": "1.2.0",
       "_view_name": "StyleView",
       "description_width": ""
      }
     },
     "2e2b8fa56af7493abe050c5aaf02538d": {
      "model_module": "@jupyter-widgets/base",
      "model_module_version": "1.2.0",
      "model_name": "LayoutModel",
      "state": {
       "_model_module": "@jupyter-widgets/base",
       "_model_module_version": "1.2.0",
       "_model_name": "LayoutModel",
       "_view_count": null,
       "_view_module": "@jupyter-widgets/base",
       "_view_module_version": "1.2.0",
       "_view_name": "LayoutView",
       "align_content": null,
       "align_items": null,
       "align_self": null,
       "border": null,
       "bottom": null,
       "display": null,
       "flex": null,
       "flex_flow": null,
       "grid_area": null,
       "grid_auto_columns": null,
       "grid_auto_flow": null,
       "grid_auto_rows": null,
       "grid_column": null,
       "grid_gap": null,
       "grid_row": null,
       "grid_template_areas": null,
       "grid_template_columns": null,
       "grid_template_rows": null,
       "height": null,
       "justify_content": null,
       "justify_items": null,
       "left": null,
       "margin": null,
       "max_height": null,
       "max_width": null,
       "min_height": null,
       "min_width": null,
       "object_fit": null,
       "object_position": null,
       "order": null,
       "overflow": null,
       "overflow_x": null,
       "overflow_y": null,
       "padding": null,
       "right": null,
       "top": null,
       "visibility": null,
       "width": null
      }
     },
     "30c41a481c1c47f3af40d7240326d97e": {
      "model_module": "@jupyter-widgets/controls",
      "model_module_version": "1.5.0",
      "model_name": "HTMLModel",
      "state": {
       "_dom_classes": [],
       "_model_module": "@jupyter-widgets/controls",
       "_model_module_version": "1.5.0",
       "_model_name": "HTMLModel",
       "_view_count": null,
       "_view_module": "@jupyter-widgets/controls",
       "_view_module_version": "1.5.0",
       "_view_name": "HTMLView",
       "description": "",
       "description_tooltip": null,
       "layout": "IPY_MODEL_5274c0655e9f4692964b5a1df5c455d0",
       "placeholder": "​",
       "style": "IPY_MODEL_0cda673f4d4d4139ada3d71047141b50",
       "value": "config.json: 100%"
      }
     },
     "3ae7f7e3c75840ada8af6f0a4d03005d": {
      "model_module": "@jupyter-widgets/base",
      "model_module_version": "1.2.0",
      "model_name": "LayoutModel",
      "state": {
       "_model_module": "@jupyter-widgets/base",
       "_model_module_version": "1.2.0",
       "_model_name": "LayoutModel",
       "_view_count": null,
       "_view_module": "@jupyter-widgets/base",
       "_view_module_version": "1.2.0",
       "_view_name": "LayoutView",
       "align_content": null,
       "align_items": null,
       "align_self": null,
       "border": null,
       "bottom": null,
       "display": null,
       "flex": null,
       "flex_flow": null,
       "grid_area": null,
       "grid_auto_columns": null,
       "grid_auto_flow": null,
       "grid_auto_rows": null,
       "grid_column": null,
       "grid_gap": null,
       "grid_row": null,
       "grid_template_areas": null,
       "grid_template_columns": null,
       "grid_template_rows": null,
       "height": null,
       "justify_content": null,
       "justify_items": null,
       "left": null,
       "margin": null,
       "max_height": null,
       "max_width": null,
       "min_height": null,
       "min_width": null,
       "object_fit": null,
       "object_position": null,
       "order": null,
       "overflow": null,
       "overflow_x": null,
       "overflow_y": null,
       "padding": null,
       "right": null,
       "top": null,
       "visibility": null,
       "width": null
      }
     },
     "3f6029f75ffa40a4a55615dfd1faa662": {
      "model_module": "@jupyter-widgets/controls",
      "model_module_version": "1.5.0",
      "model_name": "HBoxModel",
      "state": {
       "_dom_classes": [],
       "_model_module": "@jupyter-widgets/controls",
       "_model_module_version": "1.5.0",
       "_model_name": "HBoxModel",
       "_view_count": null,
       "_view_module": "@jupyter-widgets/controls",
       "_view_module_version": "1.5.0",
       "_view_name": "HBoxView",
       "box_style": "",
       "children": [
        "IPY_MODEL_30c41a481c1c47f3af40d7240326d97e",
        "IPY_MODEL_6875474d7a8747879990140006f5e1b1",
        "IPY_MODEL_7a3378f6f38948d29ac9fd2094f9be8d"
       ],
       "layout": "IPY_MODEL_d404e5645fb54abfa48b5bbce2b8fd1f"
      }
     },
     "4be5425971b84ddc9dc007df0464877e": {
      "model_module": "@jupyter-widgets/controls",
      "model_module_version": "1.5.0",
      "model_name": "ProgressStyleModel",
      "state": {
       "_model_module": "@jupyter-widgets/controls",
       "_model_module_version": "1.5.0",
       "_model_name": "ProgressStyleModel",
       "_view_count": null,
       "_view_module": "@jupyter-widgets/base",
       "_view_module_version": "1.2.0",
       "_view_name": "StyleView",
       "bar_color": null,
       "description_width": ""
      }
     },
     "4ca5b81a6f244d4ba1c869cc4588d339": {
      "model_module": "@jupyter-widgets/base",
      "model_module_version": "1.2.0",
      "model_name": "LayoutModel",
      "state": {
       "_model_module": "@jupyter-widgets/base",
       "_model_module_version": "1.2.0",
       "_model_name": "LayoutModel",
       "_view_count": null,
       "_view_module": "@jupyter-widgets/base",
       "_view_module_version": "1.2.0",
       "_view_name": "LayoutView",
       "align_content": null,
       "align_items": null,
       "align_self": null,
       "border": null,
       "bottom": null,
       "display": null,
       "flex": null,
       "flex_flow": null,
       "grid_area": null,
       "grid_auto_columns": null,
       "grid_auto_flow": null,
       "grid_auto_rows": null,
       "grid_column": null,
       "grid_gap": null,
       "grid_row": null,
       "grid_template_areas": null,
       "grid_template_columns": null,
       "grid_template_rows": null,
       "height": null,
       "justify_content": null,
       "justify_items": null,
       "left": null,
       "margin": null,
       "max_height": null,
       "max_width": null,
       "min_height": null,
       "min_width": null,
       "object_fit": null,
       "object_position": null,
       "order": null,
       "overflow": null,
       "overflow_x": null,
       "overflow_y": null,
       "padding": null,
       "right": null,
       "top": null,
       "visibility": null,
       "width": null
      }
     },
     "5274c0655e9f4692964b5a1df5c455d0": {
      "model_module": "@jupyter-widgets/base",
      "model_module_version": "1.2.0",
      "model_name": "LayoutModel",
      "state": {
       "_model_module": "@jupyter-widgets/base",
       "_model_module_version": "1.2.0",
       "_model_name": "LayoutModel",
       "_view_count": null,
       "_view_module": "@jupyter-widgets/base",
       "_view_module_version": "1.2.0",
       "_view_name": "LayoutView",
       "align_content": null,
       "align_items": null,
       "align_self": null,
       "border": null,
       "bottom": null,
       "display": null,
       "flex": null,
       "flex_flow": null,
       "grid_area": null,
       "grid_auto_columns": null,
       "grid_auto_flow": null,
       "grid_auto_rows": null,
       "grid_column": null,
       "grid_gap": null,
       "grid_row": null,
       "grid_template_areas": null,
       "grid_template_columns": null,
       "grid_template_rows": null,
       "height": null,
       "justify_content": null,
       "justify_items": null,
       "left": null,
       "margin": null,
       "max_height": null,
       "max_width": null,
       "min_height": null,
       "min_width": null,
       "object_fit": null,
       "object_position": null,
       "order": null,
       "overflow": null,
       "overflow_x": null,
       "overflow_y": null,
       "padding": null,
       "right": null,
       "top": null,
       "visibility": null,
       "width": null
      }
     },
     "53bccf7dfb0048538a64b5a545e3d57e": {
      "model_module": "@jupyter-widgets/controls",
      "model_module_version": "1.5.0",
      "model_name": "ProgressStyleModel",
      "state": {
       "_model_module": "@jupyter-widgets/controls",
       "_model_module_version": "1.5.0",
       "_model_name": "ProgressStyleModel",
       "_view_count": null,
       "_view_module": "@jupyter-widgets/base",
       "_view_module_version": "1.2.0",
       "_view_name": "StyleView",
       "bar_color": null,
       "description_width": ""
      }
     },
     "5486978a094742158f90454caac1abe8": {
      "model_module": "@jupyter-widgets/controls",
      "model_module_version": "1.5.0",
      "model_name": "HTMLModel",
      "state": {
       "_dom_classes": [],
       "_model_module": "@jupyter-widgets/controls",
       "_model_module_version": "1.5.0",
       "_model_name": "HTMLModel",
       "_view_count": null,
       "_view_module": "@jupyter-widgets/controls",
       "_view_module_version": "1.5.0",
       "_view_name": "HTMLView",
       "description": "",
       "description_tooltip": null,
       "layout": "IPY_MODEL_2650fd4addf94a45b3d04fbf3d41bffd",
       "placeholder": "​",
       "style": "IPY_MODEL_e9d8e61e27f74cefac3eef74ae5e3e0d",
       "value": "vocab.txt: 100%"
      }
     },
     "5f2a181487cf4fc98d69249eec53a599": {
      "model_module": "@jupyter-widgets/base",
      "model_module_version": "1.2.0",
      "model_name": "LayoutModel",
      "state": {
       "_model_module": "@jupyter-widgets/base",
       "_model_module_version": "1.2.0",
       "_model_name": "LayoutModel",
       "_view_count": null,
       "_view_module": "@jupyter-widgets/base",
       "_view_module_version": "1.2.0",
       "_view_name": "LayoutView",
       "align_content": null,
       "align_items": null,
       "align_self": null,
       "border": null,
       "bottom": null,
       "display": null,
       "flex": null,
       "flex_flow": null,
       "grid_area": null,
       "grid_auto_columns": null,
       "grid_auto_flow": null,
       "grid_auto_rows": null,
       "grid_column": null,
       "grid_gap": null,
       "grid_row": null,
       "grid_template_areas": null,
       "grid_template_columns": null,
       "grid_template_rows": null,
       "height": null,
       "justify_content": null,
       "justify_items": null,
       "left": null,
       "margin": null,
       "max_height": null,
       "max_width": null,
       "min_height": null,
       "min_width": null,
       "object_fit": null,
       "object_position": null,
       "order": null,
       "overflow": null,
       "overflow_x": null,
       "overflow_y": null,
       "padding": null,
       "right": null,
       "top": null,
       "visibility": null,
       "width": null
      }
     },
     "67e9dfd3a5a0430e951f7bd67d0c6e49": {
      "model_module": "@jupyter-widgets/controls",
      "model_module_version": "1.5.0",
      "model_name": "ProgressStyleModel",
      "state": {
       "_model_module": "@jupyter-widgets/controls",
       "_model_module_version": "1.5.0",
       "_model_name": "ProgressStyleModel",
       "_view_count": null,
       "_view_module": "@jupyter-widgets/base",
       "_view_module_version": "1.2.0",
       "_view_name": "StyleView",
       "bar_color": null,
       "description_width": ""
      }
     },
     "6875474d7a8747879990140006f5e1b1": {
      "model_module": "@jupyter-widgets/controls",
      "model_module_version": "1.5.0",
      "model_name": "FloatProgressModel",
      "state": {
       "_dom_classes": [],
       "_model_module": "@jupyter-widgets/controls",
       "_model_module_version": "1.5.0",
       "_model_name": "FloatProgressModel",
       "_view_count": null,
       "_view_module": "@jupyter-widgets/controls",
       "_view_module_version": "1.5.0",
       "_view_name": "ProgressView",
       "bar_style": "success",
       "description": "",
       "description_tooltip": null,
       "layout": "IPY_MODEL_991cc5c5018a4b5eaaac0c97b44bce68",
       "max": 570.0,
       "min": 0.0,
       "orientation": "horizontal",
       "style": "IPY_MODEL_4be5425971b84ddc9dc007df0464877e",
       "value": 570.0
      }
     },
     "73dda0d0ef4c4169a6bddee3f736b792": {
      "model_module": "@jupyter-widgets/controls",
      "model_module_version": "1.5.0",
      "model_name": "DescriptionStyleModel",
      "state": {
       "_model_module": "@jupyter-widgets/controls",
       "_model_module_version": "1.5.0",
       "_model_name": "DescriptionStyleModel",
       "_view_count": null,
       "_view_module": "@jupyter-widgets/base",
       "_view_module_version": "1.2.0",
       "_view_name": "StyleView",
       "description_width": ""
      }
     },
     "75615eac6495413f9d2cac70a59302d2": {
      "model_module": "@jupyter-widgets/controls",
      "model_module_version": "1.5.0",
      "model_name": "HTMLModel",
      "state": {
       "_dom_classes": [],
       "_model_module": "@jupyter-widgets/controls",
       "_model_module_version": "1.5.0",
       "_model_name": "HTMLModel",
       "_view_count": null,
       "_view_module": "@jupyter-widgets/controls",
       "_view_module_version": "1.5.0",
       "_view_name": "HTMLView",
       "description": "",
       "description_tooltip": null,
       "layout": "IPY_MODEL_3ae7f7e3c75840ada8af6f0a4d03005d",
       "placeholder": "​",
       "style": "IPY_MODEL_a5a04cc735c54190bfef6570443c6df5",
       "value": " 436M/436M [00:02&lt;00:00, 169MB/s]"
      }
     },
     "78f3f2bcc3994a50bf89f32eb716fd62": {
      "model_module": "@jupyter-widgets/controls",
      "model_module_version": "1.5.0",
      "model_name": "HTMLModel",
      "state": {
       "_dom_classes": [],
       "_model_module": "@jupyter-widgets/controls",
       "_model_module_version": "1.5.0",
       "_model_name": "HTMLModel",
       "_view_count": null,
       "_view_module": "@jupyter-widgets/controls",
       "_view_module_version": "1.5.0",
       "_view_name": "HTMLView",
       "description": "",
       "description_tooltip": null,
       "layout": "IPY_MODEL_c3b98e28e1e847f0bf03479d0871e0b2",
       "placeholder": "​",
       "style": "IPY_MODEL_ddf1fb40371440b78b3434514d8fc35b",
       "value": " 436k/436k [00:00&lt;00:00, 11.6MB/s]"
      }
     },
     "7a1433e9302f4366b9e1994ee817701c": {
      "model_module": "@jupyter-widgets/base",
      "model_module_version": "1.2.0",
      "model_name": "LayoutModel",
      "state": {
       "_model_module": "@jupyter-widgets/base",
       "_model_module_version": "1.2.0",
       "_model_name": "LayoutModel",
       "_view_count": null,
       "_view_module": "@jupyter-widgets/base",
       "_view_module_version": "1.2.0",
       "_view_name": "LayoutView",
       "align_content": null,
       "align_items": null,
       "align_self": null,
       "border": null,
       "bottom": null,
       "display": null,
       "flex": null,
       "flex_flow": null,
       "grid_area": null,
       "grid_auto_columns": null,
       "grid_auto_flow": null,
       "grid_auto_rows": null,
       "grid_column": null,
       "grid_gap": null,
       "grid_row": null,
       "grid_template_areas": null,
       "grid_template_columns": null,
       "grid_template_rows": null,
       "height": null,
       "justify_content": null,
       "justify_items": null,
       "left": null,
       "margin": null,
       "max_height": null,
       "max_width": null,
       "min_height": null,
       "min_width": null,
       "object_fit": null,
       "object_position": null,
       "order": null,
       "overflow": null,
       "overflow_x": null,
       "overflow_y": null,
       "padding": null,
       "right": null,
       "top": null,
       "visibility": null,
       "width": null
      }
     },
     "7a3378f6f38948d29ac9fd2094f9be8d": {
      "model_module": "@jupyter-widgets/controls",
      "model_module_version": "1.5.0",
      "model_name": "HTMLModel",
      "state": {
       "_dom_classes": [],
       "_model_module": "@jupyter-widgets/controls",
       "_model_module_version": "1.5.0",
       "_model_name": "HTMLModel",
       "_view_count": null,
       "_view_module": "@jupyter-widgets/controls",
       "_view_module_version": "1.5.0",
       "_view_name": "HTMLView",
       "description": "",
       "description_tooltip": null,
       "layout": "IPY_MODEL_9184362e55394359bd605442d8f2cf74",
       "placeholder": "​",
       "style": "IPY_MODEL_73dda0d0ef4c4169a6bddee3f736b792",
       "value": " 570/570 [00:00&lt;00:00, 42.3kB/s]"
      }
     },
     "874bcc4144f14657b14b4c6e4c9c55c5": {
      "model_module": "@jupyter-widgets/controls",
      "model_module_version": "1.5.0",
      "model_name": "HTMLModel",
      "state": {
       "_dom_classes": [],
       "_model_module": "@jupyter-widgets/controls",
       "_model_module_version": "1.5.0",
       "_model_name": "HTMLModel",
       "_view_count": null,
       "_view_module": "@jupyter-widgets/controls",
       "_view_module_version": "1.5.0",
       "_view_name": "HTMLView",
       "description": "",
       "description_tooltip": null,
       "layout": "IPY_MODEL_7a1433e9302f4366b9e1994ee817701c",
       "placeholder": "​",
       "style": "IPY_MODEL_2cc317a699074fe5a330c7e58ac6ab26",
       "value": " 29.0/29.0 [00:00&lt;00:00, 2.62kB/s]"
      }
     },
     "8be890ec393d4798806a9266c37be03a": {
      "model_module": "@jupyter-widgets/controls",
      "model_module_version": "1.5.0",
      "model_name": "FloatProgressModel",
      "state": {
       "_dom_classes": [],
       "_model_module": "@jupyter-widgets/controls",
       "_model_module_version": "1.5.0",
       "_model_name": "FloatProgressModel",
       "_view_count": null,
       "_view_module": "@jupyter-widgets/controls",
       "_view_module_version": "1.5.0",
       "_view_name": "ProgressView",
       "bar_style": "success",
       "description": "",
       "description_tooltip": null,
       "layout": "IPY_MODEL_1e5f426316614a80b1d0d97911292acd",
       "max": 435755784.0,
       "min": 0.0,
       "orientation": "horizontal",
       "style": "IPY_MODEL_67e9dfd3a5a0430e951f7bd67d0c6e49",
       "value": 435755784.0
      }
     },
     "8dcf008457514ff2a9b065decb19b972": {
      "model_module": "@jupyter-widgets/controls",
      "model_module_version": "1.5.0",
      "model_name": "DescriptionStyleModel",
      "state": {
       "_model_module": "@jupyter-widgets/controls",
       "_model_module_version": "1.5.0",
       "_model_name": "DescriptionStyleModel",
       "_view_count": null,
       "_view_module": "@jupyter-widgets/base",
       "_view_module_version": "1.2.0",
       "_view_name": "StyleView",
       "description_width": ""
      }
     },
     "9184362e55394359bd605442d8f2cf74": {
      "model_module": "@jupyter-widgets/base",
      "model_module_version": "1.2.0",
      "model_name": "LayoutModel",
      "state": {
       "_model_module": "@jupyter-widgets/base",
       "_model_module_version": "1.2.0",
       "_model_name": "LayoutModel",
       "_view_count": null,
       "_view_module": "@jupyter-widgets/base",
       "_view_module_version": "1.2.0",
       "_view_name": "LayoutView",
       "align_content": null,
       "align_items": null,
       "align_self": null,
       "border": null,
       "bottom": null,
       "display": null,
       "flex": null,
       "flex_flow": null,
       "grid_area": null,
       "grid_auto_columns": null,
       "grid_auto_flow": null,
       "grid_auto_rows": null,
       "grid_column": null,
       "grid_gap": null,
       "grid_row": null,
       "grid_template_areas": null,
       "grid_template_columns": null,
       "grid_template_rows": null,
       "height": null,
       "justify_content": null,
       "justify_items": null,
       "left": null,
       "margin": null,
       "max_height": null,
       "max_width": null,
       "min_height": null,
       "min_width": null,
       "object_fit": null,
       "object_position": null,
       "order": null,
       "overflow": null,
       "overflow_x": null,
       "overflow_y": null,
       "padding": null,
       "right": null,
       "top": null,
       "visibility": null,
       "width": null
      }
     },
     "991cc5c5018a4b5eaaac0c97b44bce68": {
      "model_module": "@jupyter-widgets/base",
      "model_module_version": "1.2.0",
      "model_name": "LayoutModel",
      "state": {
       "_model_module": "@jupyter-widgets/base",
       "_model_module_version": "1.2.0",
       "_model_name": "LayoutModel",
       "_view_count": null,
       "_view_module": "@jupyter-widgets/base",
       "_view_module_version": "1.2.0",
       "_view_name": "LayoutView",
       "align_content": null,
       "align_items": null,
       "align_self": null,
       "border": null,
       "bottom": null,
       "display": null,
       "flex": null,
       "flex_flow": null,
       "grid_area": null,
       "grid_auto_columns": null,
       "grid_auto_flow": null,
       "grid_auto_rows": null,
       "grid_column": null,
       "grid_gap": null,
       "grid_row": null,
       "grid_template_areas": null,
       "grid_template_columns": null,
       "grid_template_rows": null,
       "height": null,
       "justify_content": null,
       "justify_items": null,
       "left": null,
       "margin": null,
       "max_height": null,
       "max_width": null,
       "min_height": null,
       "min_width": null,
       "object_fit": null,
       "object_position": null,
       "order": null,
       "overflow": null,
       "overflow_x": null,
       "overflow_y": null,
       "padding": null,
       "right": null,
       "top": null,
       "visibility": null,
       "width": null
      }
     },
     "9e8180d8c2c64374bf1e6dc9f0d516df": {
      "model_module": "@jupyter-widgets/controls",
      "model_module_version": "1.5.0",
      "model_name": "ProgressStyleModel",
      "state": {
       "_model_module": "@jupyter-widgets/controls",
       "_model_module_version": "1.5.0",
       "_model_name": "ProgressStyleModel",
       "_view_count": null,
       "_view_module": "@jupyter-widgets/base",
       "_view_module_version": "1.2.0",
       "_view_name": "StyleView",
       "bar_color": null,
       "description_width": ""
      }
     },
     "a515b532506e4447917ff2bff7da142f": {
      "model_module": "@jupyter-widgets/controls",
      "model_module_version": "1.5.0",
      "model_name": "DescriptionStyleModel",
      "state": {
       "_model_module": "@jupyter-widgets/controls",
       "_model_module_version": "1.5.0",
       "_model_name": "DescriptionStyleModel",
       "_view_count": null,
       "_view_module": "@jupyter-widgets/base",
       "_view_module_version": "1.2.0",
       "_view_name": "StyleView",
       "description_width": ""
      }
     },
     "a5a04cc735c54190bfef6570443c6df5": {
      "model_module": "@jupyter-widgets/controls",
      "model_module_version": "1.5.0",
      "model_name": "DescriptionStyleModel",
      "state": {
       "_model_module": "@jupyter-widgets/controls",
       "_model_module_version": "1.5.0",
       "_model_name": "DescriptionStyleModel",
       "_view_count": null,
       "_view_module": "@jupyter-widgets/base",
       "_view_module_version": "1.2.0",
       "_view_name": "StyleView",
       "description_width": ""
      }
     },
     "a5be7ecf2b344794ad08c557b6f6cf1d": {
      "model_module": "@jupyter-widgets/controls",
      "model_module_version": "1.5.0",
      "model_name": "HBoxModel",
      "state": {
       "_dom_classes": [],
       "_model_module": "@jupyter-widgets/controls",
       "_model_module_version": "1.5.0",
       "_model_name": "HBoxModel",
       "_view_count": null,
       "_view_module": "@jupyter-widgets/controls",
       "_view_module_version": "1.5.0",
       "_view_name": "HBoxView",
       "box_style": "",
       "children": [
        "IPY_MODEL_5486978a094742158f90454caac1abe8",
        "IPY_MODEL_eb6e5b9bea6b4b60aa8f05126e3c9458",
        "IPY_MODEL_bee3d3795a6846b8873d40d0f51b4de8"
       ],
       "layout": "IPY_MODEL_0f43f395c57f479a82ad632878927661"
      }
     },
     "a67945c2b234421698b4ba28f47e0c63": {
      "model_module": "@jupyter-widgets/controls",
      "model_module_version": "1.5.0",
      "model_name": "FloatProgressModel",
      "state": {
       "_dom_classes": [],
       "_model_module": "@jupyter-widgets/controls",
       "_model_module_version": "1.5.0",
       "_model_name": "FloatProgressModel",
       "_view_count": null,
       "_view_module": "@jupyter-widgets/controls",
       "_view_module_version": "1.5.0",
       "_view_name": "ProgressView",
       "bar_style": "success",
       "description": "",
       "description_tooltip": null,
       "layout": "IPY_MODEL_dd233aaf57fd46b287b6c2200ec856d8",
       "max": 435797.0,
       "min": 0.0,
       "orientation": "horizontal",
       "style": "IPY_MODEL_53bccf7dfb0048538a64b5a545e3d57e",
       "value": 435797.0
      }
     },
     "aad4f25a49a143e0a004417d163a6446": {
      "model_module": "@jupyter-widgets/controls",
      "model_module_version": "1.5.0",
      "model_name": "HBoxModel",
      "state": {
       "_dom_classes": [],
       "_model_module": "@jupyter-widgets/controls",
       "_model_module_version": "1.5.0",
       "_model_name": "HBoxModel",
       "_view_count": null,
       "_view_module": "@jupyter-widgets/controls",
       "_view_module_version": "1.5.0",
       "_view_name": "HBoxView",
       "box_style": "",
       "children": [
        "IPY_MODEL_f36094d3187c4a2e90adccedc3b552f8",
        "IPY_MODEL_8be890ec393d4798806a9266c37be03a",
        "IPY_MODEL_75615eac6495413f9d2cac70a59302d2"
       ],
       "layout": "IPY_MODEL_b22928768f944d1a85bc89b33a098ed0"
      }
     },
     "b22928768f944d1a85bc89b33a098ed0": {
      "model_module": "@jupyter-widgets/base",
      "model_module_version": "1.2.0",
      "model_name": "LayoutModel",
      "state": {
       "_model_module": "@jupyter-widgets/base",
       "_model_module_version": "1.2.0",
       "_model_name": "LayoutModel",
       "_view_count": null,
       "_view_module": "@jupyter-widgets/base",
       "_view_module_version": "1.2.0",
       "_view_name": "LayoutView",
       "align_content": null,
       "align_items": null,
       "align_self": null,
       "border": null,
       "bottom": null,
       "display": null,
       "flex": null,
       "flex_flow": null,
       "grid_area": null,
       "grid_auto_columns": null,
       "grid_auto_flow": null,
       "grid_auto_rows": null,
       "grid_column": null,
       "grid_gap": null,
       "grid_row": null,
       "grid_template_areas": null,
       "grid_template_columns": null,
       "grid_template_rows": null,
       "height": null,
       "justify_content": null,
       "justify_items": null,
       "left": null,
       "margin": null,
       "max_height": null,
       "max_width": null,
       "min_height": null,
       "min_width": null,
       "object_fit": null,
       "object_position": null,
       "order": null,
       "overflow": null,
       "overflow_x": null,
       "overflow_y": null,
       "padding": null,
       "right": null,
       "top": null,
       "visibility": null,
       "width": null
      }
     },
     "be79f4d6822b460caa5135a1139ec9c4": {
      "model_module": "@jupyter-widgets/controls",
      "model_module_version": "1.5.0",
      "model_name": "HBoxModel",
      "state": {
       "_dom_classes": [],
       "_model_module": "@jupyter-widgets/controls",
       "_model_module_version": "1.5.0",
       "_model_name": "HBoxModel",
       "_view_count": null,
       "_view_module": "@jupyter-widgets/controls",
       "_view_module_version": "1.5.0",
       "_view_name": "HBoxView",
       "box_style": "",
       "children": [
        "IPY_MODEL_0d97da79592f412e960f0465eaf0df08",
        "IPY_MODEL_a67945c2b234421698b4ba28f47e0c63",
        "IPY_MODEL_78f3f2bcc3994a50bf89f32eb716fd62"
       ],
       "layout": "IPY_MODEL_2940a9c8d9f64613b5d54871f59e6236"
      }
     },
     "bee3d3795a6846b8873d40d0f51b4de8": {
      "model_module": "@jupyter-widgets/controls",
      "model_module_version": "1.5.0",
      "model_name": "HTMLModel",
      "state": {
       "_dom_classes": [],
       "_model_module": "@jupyter-widgets/controls",
       "_model_module_version": "1.5.0",
       "_model_name": "HTMLModel",
       "_view_count": null,
       "_view_module": "@jupyter-widgets/controls",
       "_view_module_version": "1.5.0",
       "_view_name": "HTMLView",
       "description": "",
       "description_tooltip": null,
       "layout": "IPY_MODEL_0f57d498a5ef47f49539b942b932ed94",
       "placeholder": "​",
       "style": "IPY_MODEL_8dcf008457514ff2a9b065decb19b972",
       "value": " 213k/213k [00:00&lt;00:00, 4.86MB/s]"
      }
     },
     "bf6ebfe8d95a43349404abf2017c063d": {
      "model_module": "@jupyter-widgets/base",
      "model_module_version": "1.2.0",
      "model_name": "LayoutModel",
      "state": {
       "_model_module": "@jupyter-widgets/base",
       "_model_module_version": "1.2.0",
       "_model_name": "LayoutModel",
       "_view_count": null,
       "_view_module": "@jupyter-widgets/base",
       "_view_module_version": "1.2.0",
       "_view_name": "LayoutView",
       "align_content": null,
       "align_items": null,
       "align_self": null,
       "border": null,
       "bottom": null,
       "display": null,
       "flex": null,
       "flex_flow": null,
       "grid_area": null,
       "grid_auto_columns": null,
       "grid_auto_flow": null,
       "grid_auto_rows": null,
       "grid_column": null,
       "grid_gap": null,
       "grid_row": null,
       "grid_template_areas": null,
       "grid_template_columns": null,
       "grid_template_rows": null,
       "height": null,
       "justify_content": null,
       "justify_items": null,
       "left": null,
       "margin": null,
       "max_height": null,
       "max_width": null,
       "min_height": null,
       "min_width": null,
       "object_fit": null,
       "object_position": null,
       "order": null,
       "overflow": null,
       "overflow_x": null,
       "overflow_y": null,
       "padding": null,
       "right": null,
       "top": null,
       "visibility": null,
       "width": null
      }
     },
     "c3b98e28e1e847f0bf03479d0871e0b2": {
      "model_module": "@jupyter-widgets/base",
      "model_module_version": "1.2.0",
      "model_name": "LayoutModel",
      "state": {
       "_model_module": "@jupyter-widgets/base",
       "_model_module_version": "1.2.0",
       "_model_name": "LayoutModel",
       "_view_count": null,
       "_view_module": "@jupyter-widgets/base",
       "_view_module_version": "1.2.0",
       "_view_name": "LayoutView",
       "align_content": null,
       "align_items": null,
       "align_self": null,
       "border": null,
       "bottom": null,
       "display": null,
       "flex": null,
       "flex_flow": null,
       "grid_area": null,
       "grid_auto_columns": null,
       "grid_auto_flow": null,
       "grid_auto_rows": null,
       "grid_column": null,
       "grid_gap": null,
       "grid_row": null,
       "grid_template_areas": null,
       "grid_template_columns": null,
       "grid_template_rows": null,
       "height": null,
       "justify_content": null,
       "justify_items": null,
       "left": null,
       "margin": null,
       "max_height": null,
       "max_width": null,
       "min_height": null,
       "min_width": null,
       "object_fit": null,
       "object_position": null,
       "order": null,
       "overflow": null,
       "overflow_x": null,
       "overflow_y": null,
       "padding": null,
       "right": null,
       "top": null,
       "visibility": null,
       "width": null
      }
     },
     "c42e1c6e066941c08534302664bfc943": {
      "model_module": "@jupyter-widgets/base",
      "model_module_version": "1.2.0",
      "model_name": "LayoutModel",
      "state": {
       "_model_module": "@jupyter-widgets/base",
       "_model_module_version": "1.2.0",
       "_model_name": "LayoutModel",
       "_view_count": null,
       "_view_module": "@jupyter-widgets/base",
       "_view_module_version": "1.2.0",
       "_view_name": "LayoutView",
       "align_content": null,
       "align_items": null,
       "align_self": null,
       "border": null,
       "bottom": null,
       "display": null,
       "flex": null,
       "flex_flow": null,
       "grid_area": null,
       "grid_auto_columns": null,
       "grid_auto_flow": null,
       "grid_auto_rows": null,
       "grid_column": null,
       "grid_gap": null,
       "grid_row": null,
       "grid_template_areas": null,
       "grid_template_columns": null,
       "grid_template_rows": null,
       "height": null,
       "justify_content": null,
       "justify_items": null,
       "left": null,
       "margin": null,
       "max_height": null,
       "max_width": null,
       "min_height": null,
       "min_width": null,
       "object_fit": null,
       "object_position": null,
       "order": null,
       "overflow": null,
       "overflow_x": null,
       "overflow_y": null,
       "padding": null,
       "right": null,
       "top": null,
       "visibility": null,
       "width": null
      }
     },
     "cc2873942f494b99af3cfd246d5a2a06": {
      "model_module": "@jupyter-widgets/controls",
      "model_module_version": "1.5.0",
      "model_name": "HTMLModel",
      "state": {
       "_dom_classes": [],
       "_model_module": "@jupyter-widgets/controls",
       "_model_module_version": "1.5.0",
       "_model_name": "HTMLModel",
       "_view_count": null,
       "_view_module": "@jupyter-widgets/controls",
       "_view_module_version": "1.5.0",
       "_view_name": "HTMLView",
       "description": "",
       "description_tooltip": null,
       "layout": "IPY_MODEL_c42e1c6e066941c08534302664bfc943",
       "placeholder": "​",
       "style": "IPY_MODEL_15227ad2bbb64992b8f5dcdf4d0ba5ec",
       "value": "tokenizer_config.json: 100%"
      }
     },
     "d404e5645fb54abfa48b5bbce2b8fd1f": {
      "model_module": "@jupyter-widgets/base",
      "model_module_version": "1.2.0",
      "model_name": "LayoutModel",
      "state": {
       "_model_module": "@jupyter-widgets/base",
       "_model_module_version": "1.2.0",
       "_model_name": "LayoutModel",
       "_view_count": null,
       "_view_module": "@jupyter-widgets/base",
       "_view_module_version": "1.2.0",
       "_view_name": "LayoutView",
       "align_content": null,
       "align_items": null,
       "align_self": null,
       "border": null,
       "bottom": null,
       "display": null,
       "flex": null,
       "flex_flow": null,
       "grid_area": null,
       "grid_auto_columns": null,
       "grid_auto_flow": null,
       "grid_auto_rows": null,
       "grid_column": null,
       "grid_gap": null,
       "grid_row": null,
       "grid_template_areas": null,
       "grid_template_columns": null,
       "grid_template_rows": null,
       "height": null,
       "justify_content": null,
       "justify_items": null,
       "left": null,
       "margin": null,
       "max_height": null,
       "max_width": null,
       "min_height": null,
       "min_width": null,
       "object_fit": null,
       "object_position": null,
       "order": null,
       "overflow": null,
       "overflow_x": null,
       "overflow_y": null,
       "padding": null,
       "right": null,
       "top": null,
       "visibility": null,
       "width": null
      }
     },
     "dd233aaf57fd46b287b6c2200ec856d8": {
      "model_module": "@jupyter-widgets/base",
      "model_module_version": "1.2.0",
      "model_name": "LayoutModel",
      "state": {
       "_model_module": "@jupyter-widgets/base",
       "_model_module_version": "1.2.0",
       "_model_name": "LayoutModel",
       "_view_count": null,
       "_view_module": "@jupyter-widgets/base",
       "_view_module_version": "1.2.0",
       "_view_name": "LayoutView",
       "align_content": null,
       "align_items": null,
       "align_self": null,
       "border": null,
       "bottom": null,
       "display": null,
       "flex": null,
       "flex_flow": null,
       "grid_area": null,
       "grid_auto_columns": null,
       "grid_auto_flow": null,
       "grid_auto_rows": null,
       "grid_column": null,
       "grid_gap": null,
       "grid_row": null,
       "grid_template_areas": null,
       "grid_template_columns": null,
       "grid_template_rows": null,
       "height": null,
       "justify_content": null,
       "justify_items": null,
       "left": null,
       "margin": null,
       "max_height": null,
       "max_width": null,
       "min_height": null,
       "min_width": null,
       "object_fit": null,
       "object_position": null,
       "order": null,
       "overflow": null,
       "overflow_x": null,
       "overflow_y": null,
       "padding": null,
       "right": null,
       "top": null,
       "visibility": null,
       "width": null
      }
     },
     "ddf1fb40371440b78b3434514d8fc35b": {
      "model_module": "@jupyter-widgets/controls",
      "model_module_version": "1.5.0",
      "model_name": "DescriptionStyleModel",
      "state": {
       "_model_module": "@jupyter-widgets/controls",
       "_model_module_version": "1.5.0",
       "_model_name": "DescriptionStyleModel",
       "_view_count": null,
       "_view_module": "@jupyter-widgets/base",
       "_view_module_version": "1.2.0",
       "_view_name": "StyleView",
       "description_width": ""
      }
     },
     "e9d8e61e27f74cefac3eef74ae5e3e0d": {
      "model_module": "@jupyter-widgets/controls",
      "model_module_version": "1.5.0",
      "model_name": "DescriptionStyleModel",
      "state": {
       "_model_module": "@jupyter-widgets/controls",
       "_model_module_version": "1.5.0",
       "_model_name": "DescriptionStyleModel",
       "_view_count": null,
       "_view_module": "@jupyter-widgets/base",
       "_view_module_version": "1.2.0",
       "_view_name": "StyleView",
       "description_width": ""
      }
     },
     "eb6e5b9bea6b4b60aa8f05126e3c9458": {
      "model_module": "@jupyter-widgets/controls",
      "model_module_version": "1.5.0",
      "model_name": "FloatProgressModel",
      "state": {
       "_dom_classes": [],
       "_model_module": "@jupyter-widgets/controls",
       "_model_module_version": "1.5.0",
       "_model_name": "FloatProgressModel",
       "_view_count": null,
       "_view_module": "@jupyter-widgets/controls",
       "_view_module_version": "1.5.0",
       "_view_name": "ProgressView",
       "bar_style": "success",
       "description": "",
       "description_tooltip": null,
       "layout": "IPY_MODEL_5f2a181487cf4fc98d69249eec53a599",
       "max": 213450.0,
       "min": 0.0,
       "orientation": "horizontal",
       "style": "IPY_MODEL_9e8180d8c2c64374bf1e6dc9f0d516df",
       "value": 213450.0
      }
     },
     "ebd592057e104e85a06a863c38234cd5": {
      "model_module": "@jupyter-widgets/controls",
      "model_module_version": "1.5.0",
      "model_name": "FloatProgressModel",
      "state": {
       "_dom_classes": [],
       "_model_module": "@jupyter-widgets/controls",
       "_model_module_version": "1.5.0",
       "_model_name": "FloatProgressModel",
       "_view_count": null,
       "_view_module": "@jupyter-widgets/controls",
       "_view_module_version": "1.5.0",
       "_view_name": "ProgressView",
       "bar_style": "success",
       "description": "",
       "description_tooltip": null,
       "layout": "IPY_MODEL_bf6ebfe8d95a43349404abf2017c063d",
       "max": 29.0,
       "min": 0.0,
       "orientation": "horizontal",
       "style": "IPY_MODEL_01c806cacae44d0cb8143f6b435384ff",
       "value": 29.0
      }
     },
     "f36094d3187c4a2e90adccedc3b552f8": {
      "model_module": "@jupyter-widgets/controls",
      "model_module_version": "1.5.0",
      "model_name": "HTMLModel",
      "state": {
       "_dom_classes": [],
       "_model_module": "@jupyter-widgets/controls",
       "_model_module_version": "1.5.0",
       "_model_name": "HTMLModel",
       "_view_count": null,
       "_view_module": "@jupyter-widgets/controls",
       "_view_module_version": "1.5.0",
       "_view_name": "HTMLView",
       "description": "",
       "description_tooltip": null,
       "layout": "IPY_MODEL_4ca5b81a6f244d4ba1c869cc4588d339",
       "placeholder": "​",
       "style": "IPY_MODEL_1ffc33bca87145a28276d2e34b1bbc81",
       "value": "model.safetensors: 100%"
      }
     },
     "f40e3b58865f45f283f9411d8dc579f2": {
      "model_module": "@jupyter-widgets/controls",
      "model_module_version": "1.5.0",
      "model_name": "HBoxModel",
      "state": {
       "_dom_classes": [],
       "_model_module": "@jupyter-widgets/controls",
       "_model_module_version": "1.5.0",
       "_model_name": "HBoxModel",
       "_view_count": null,
       "_view_module": "@jupyter-widgets/controls",
       "_view_module_version": "1.5.0",
       "_view_name": "HBoxView",
       "box_style": "",
       "children": [
        "IPY_MODEL_cc2873942f494b99af3cfd246d5a2a06",
        "IPY_MODEL_ebd592057e104e85a06a863c38234cd5",
        "IPY_MODEL_874bcc4144f14657b14b4c6e4c9c55c5"
       ],
       "layout": "IPY_MODEL_2e2b8fa56af7493abe050c5aaf02538d"
      }
     }
    },
    "version_major": 2,
    "version_minor": 0
   }
  }
 },
 "nbformat": 4,
 "nbformat_minor": 5
}
